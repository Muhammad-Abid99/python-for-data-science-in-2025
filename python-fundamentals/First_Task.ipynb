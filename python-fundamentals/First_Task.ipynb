{
 "cells": [
  {
   "cell_type": "markdown",
   "id": "d3bbcc11-2f63-443c-8faf-65cf8f1e0ba3",
   "metadata": {},
   "source": [
    "# First Task\n",
    "\n",
    "**Solved**"
   ]
  },
  {
   "cell_type": "markdown",
   "id": "a3b5bf9b-d90b-4fc0-a59a-0f344c1e7e59",
   "metadata": {},
   "source": [
    "### Q1 :- Print the given strings as per stated format.\n",
    "\n",
    "**Given strings**: \n",
    "```\n",
    "\"Data\" \"Science\" \"Mentorship\" \"Program\" \n",
    "\"By\" \"CampusX\"\n",
    "```\n",
    "**Output**: \n",
    "``` \n",
    "Data-Science-Mentorship-Program-started-By-CampusX\n",
    "```\n",
    "\n",
    "Concept- [Seperator and End]"
   ]
  },
  {
   "cell_type": "code",
   "execution_count": 3,
   "id": "5cd89885-2f7a-4246-bd04-482c48a6e241",
   "metadata": {},
   "outputs": [
    {
     "name": "stdout",
     "output_type": "stream",
     "text": [
      "Data-Scienc-Mentorship-Program-started-By-CampusX\n"
     ]
    }
   ],
   "source": [
    "# Write your code here\n",
    "print(\"Data\", \"Scienc\", \"Mentorship\", \"Program\", sep='-', end='-started-')\n",
    "print(\"By\", \"CampusX\", sep='-')"
   ]
  },
  {
   "cell_type": "markdown",
   "id": "c1925c78-41aa-4f17-a7c2-7b8fc150ca83",
   "metadata": {},
   "source": [
    "### Q2:- Write a program that will convert celsius value to fahrenheit."
   ]
  },
  {
   "cell_type": "code",
   "execution_count": 4,
   "id": "451f835c-f0a4-421b-a06f-13ffbb936174",
   "metadata": {},
   "outputs": [
    {
     "name": "stdout",
     "output_type": "stream",
     "text": [
      "41.0 F\n"
     ]
    }
   ],
   "source": [
    "# Write your code here\n",
    "celcius = float(input('Enter the temp in celcius'))\n",
    "\n",
    "faren = celcius * (9/5) + 32\n",
    "\n",
    "print(faren,'F')"
   ]
  },
  {
   "cell_type": "markdown",
   "id": "dd3e8e67-cf39-4886-9e14-b58b9164b33a",
   "metadata": {},
   "source": [
    "### Q3:- Take 2 numbers as input from the user.Write a program to swap the numbers without using any special python syntax."
   ]
  },
  {
   "cell_type": "code",
   "execution_count": 5,
   "id": "76b1cc37-65f6-4640-95bd-0c33485c4541",
   "metadata": {},
   "outputs": [
    {
     "name": "stdout",
     "output_type": "stream",
     "text": [
      "Enter the first number 11\n",
      "Enter the second number 22\n"
     ]
    },
    {
     "name": "stdout",
     "output_type": "stream",
     "text": [
      "After swaping first_num is 22\n",
      "After swapin second_num is 11\n"
     ]
    }
   ],
   "source": [
    "# Write your code here\n",
    "first_num = int(input(\"Enter the first number\"))\n",
    "second_num = int(input(\"Enter the second number\"))\n",
    "\n",
    "third_num = first_num\n",
    "first_num = second_num\n",
    "second_num = third_num\n",
    "\n",
    "print(\"After swaping first_num is\", first_num)\n",
    "print(\"After swapin second_num is\", second_num)"
   ]
  },
  {
   "cell_type": "markdown",
   "id": "9d80aa9e-1fee-48bd-879b-b461e968d532",
   "metadata": {},
   "source": [
    "### Q4:- Write a program to find the euclidean distance between two coordinates.Take both the coordinates from the user as input."
   ]
  },
  {
   "cell_type": "code",
   "execution_count": 8,
   "id": "130c51d4-59f3-45d9-aaeb-733199444a40",
   "metadata": {},
   "outputs": [
    {
     "name": "stdout",
     "output_type": "stream",
     "text": [
      "Enter x code of first point 3\n",
      "Enter y code of first point 3\n",
      "Enter x code of second point 7\n",
      "Enter y code of second point 7\n"
     ]
    },
    {
     "name": "stdout",
     "output_type": "stream",
     "text": [
      "5.66\n"
     ]
    }
   ],
   "source": [
    "# Write code here\n",
    "p1x = int(input(\"Enter x code of first point\"))\n",
    "p1y = int(input(\"Enter y code of first point\"))\n",
    "p2x = int(input(\"Enter x code of second point\"))\n",
    "p2y = int(input(\"Enter y code of second point\"))\n",
    "\n",
    "distance = ((p2x - p1x)**2 + (p2y - p1y)**2)**0.5\n",
    "\n",
    "print(round(distance,2))"
   ]
  },
  {
   "cell_type": "markdown",
   "id": "24ea4737-ce27-4851-af89-2029ff810bf3",
   "metadata": {},
   "source": [
    "### Q5:- Write a program to find the simple interest when the value of principle,rate of interest and time period is provided by the user."
   ]
  },
  {
   "cell_type": "code",
   "execution_count": 15,
   "id": "5a139633-12e1-4e01-bbf0-997a30571b03",
   "metadata": {},
   "outputs": [
    {
     "name": "stdout",
     "output_type": "stream",
     "text": [
      "Enter amount 40000\n",
      "Enter time period 5\n",
      "Enter rate of interest 9\n"
     ]
    },
    {
     "name": "stdout",
     "output_type": "stream",
     "text": [
      "The interest is 18000.0\n"
     ]
    }
   ],
   "source": [
    "# Write your code here\n",
    "p = int(input(\"Enter amount\"))\n",
    "t = int(input(\"Enter time period\"))\n",
    "r = float(input(\"Enter rate of interest\"))\n",
    "\n",
    "interest = (p*t*r)/100\n",
    "\n",
    "print('The interest is', interest)"
   ]
  },
  {
   "cell_type": "markdown",
   "id": "a7bf2241-138b-445d-96ac-16420e5061a7",
   "metadata": {},
   "source": [
    "### Q6:- Write a program to find the sum of squares of first n natural numbers where n will be provided by the user."
   ]
  },
  {
   "cell_type": "code",
   "execution_count": 25,
   "id": "7ac4f811-272c-419e-a403-629684fa708f",
   "metadata": {},
   "outputs": [
    {
     "name": "stdout",
     "output_type": "stream",
     "text": [
      "Enter the number 5\n"
     ]
    },
    {
     "name": "stdout",
     "output_type": "stream",
     "text": [
      "55.0\n"
     ]
    }
   ],
   "source": [
    "# Write your code here\n",
    "n = int(input(\"Enter the number\"))\n",
    "\n",
    "result = (n*(n+1)*(2*n + 1))/6\n",
    "print(result)"
   ]
  },
  {
   "cell_type": "markdown",
   "id": "f825e3e8-e711-4b86-8cca-c943eac1e54f",
   "metadata": {},
   "source": [
    "### Q7:- Given the first 2 terms of an Arithmetic Series.Find the Nth term of the series. Assume all inputs are provided by the user."
   ]
  },
  {
   "cell_type": "code",
   "execution_count": 27,
   "id": "521409ef-4786-4494-9b74-936eec1dc6be",
   "metadata": {},
   "outputs": [
    {
     "name": "stdout",
     "output_type": "stream",
     "text": [
      "Enter first term 6\n",
      "Enter second term 12\n",
      "Enter the value of n 10\n"
     ]
    },
    {
     "name": "stdout",
     "output_type": "stream",
     "text": [
      "60\n"
     ]
    }
   ],
   "source": [
    "# Write your code here\n",
    "first_term = int(input(\"Enter first term\"))\n",
    "second_term = int(input(\"Enter second term\"))\n",
    "n = int(input(\"Enter the value of n\"))\n",
    "\n",
    "d = second_term - first_term\n",
    "\n",
    "an = first_term + (n-1)*d\n",
    "\n",
    "print(an)"
   ]
  },
  {
   "cell_type": "markdown",
   "id": "edb9e790-e21a-45f1-9aec-5681b8853200",
   "metadata": {},
   "source": [
    "### Q8:- Given 2 fractions, find the sum of those 2 fractions.Take the numerator and denominator values of the fractions from the user."
   ]
  },
  {
   "cell_type": "code",
   "execution_count": 28,
   "id": "d9a1d23c-e76f-46ce-96a2-3a750cdcea87",
   "metadata": {},
   "outputs": [
    {
     "name": "stdout",
     "output_type": "stream",
     "text": [
      "numerator1 3\n",
      "denominator1 7\n",
      "numerator2 2\n",
      "denominator2 11\n"
     ]
    },
    {
     "name": "stdout",
     "output_type": "stream",
     "text": [
      "47/77\n"
     ]
    }
   ],
   "source": [
    "# Write your code here\n",
    "n1 = int(input('numerator1'))\n",
    "d1 = int(input('denominator1'))\n",
    "n2 = int(input('numerator2'))\n",
    "d2 = int(input('denominator2'))\n",
    "\n",
    "rn = n1*d2 + n2*d1\n",
    "rd = d1*d2\n",
    "\n",
    "print('{}/{}'.format(rn,rd))"
   ]
  },
  {
   "cell_type": "markdown",
   "id": "db548a07-43d8-4fb7-bc7e-f241d4638527",
   "metadata": {},
   "source": [
    "### Q9:- Given the height, width and breadth of a milk tank, you have to find out how many glasses of milk can be obtained? Assume all the inputs are provided by the user.\n",
    "\n",
    "\n",
    "\n",
    "Input:<br>\n",
    "Dimensions of the milk tank<br>\n",
    "H = 20cm, L = 20cm, B = 20cm\n",
    "<br><br>\n",
    "Dimensions of the glass<br>\n",
    "h = 3cm, r = 1cm"
   ]
  },
  {
   "cell_type": "code",
   "execution_count": 30,
   "id": "88481e1b-98c5-4f5c-b210-a350cbc2c9c7",
   "metadata": {},
   "outputs": [
    {
     "name": "stdout",
     "output_type": "stream",
     "text": [
      "height of tank 10\n",
      "breadth of tank 15\n",
      "length of tank 10\n",
      "height of glass 7\n",
      "radius of the glass 3\n"
     ]
    },
    {
     "name": "stdout",
     "output_type": "stream",
     "text": [
      "Number of glasses 7\n"
     ]
    }
   ],
   "source": [
    "# Write your code here\n",
    "# first of all import the math module\n",
    "\n",
    "import math\n",
    "\n",
    "h_t = float(input('height of tank'))\n",
    "b_t = float(input('breadth of tank'))\n",
    "l_t = float(input('length of tank'))\n",
    "\n",
    "h_g = float(input('height of glass'))\n",
    "r_g = float(input('radius of the glass'))\n",
    "\n",
    "vol_tank = h_t*b_t*l_t\n",
    "vol_glass = 3.14*r_g*r_g*h_g\n",
    "\n",
    "print('Number of glasses', math.floor(vol_tank/vol_glass))"
   ]
  }
 ],
 "metadata": {
  "kernelspec": {
   "display_name": "Python 3",
   "language": "python",
   "name": "python3"
  },
  "language_info": {
   "codemirror_mode": {
    "name": "ipython",
    "version": 3
   },
   "file_extension": ".py",
   "mimetype": "text/x-python",
   "name": "python",
   "nbconvert_exporter": "python",
   "pygments_lexer": "ipython3",
   "version": "3.11.11"
  }
 },
 "nbformat": 4,
 "nbformat_minor": 5
}
