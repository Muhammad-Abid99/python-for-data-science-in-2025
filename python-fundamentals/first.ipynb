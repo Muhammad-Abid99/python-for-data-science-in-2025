{
 "cells": [
  {
   "cell_type": "markdown",
   "id": "30188462",
   "metadata": {},
   "source": [
    "## Python is a high-level, general-purpose, interpreted programming language\n",
    "#### known for its clear, readable syntax and versatility. Created by A Dutch programmer named **Guido van Rossum** created Python in the late 1980s. In December 1989, Guido began developing Python, and in **February 1991, Python 0.9. 0,** the first official version, was made available.\n",
    "\n",
    "#### Python supports multiple programming paradigms, including **procedural, object-oriented, and functional programming.** Its design emphasizes code readability, using indentation to define code blocks instead of curly braces or keywords, which makes it especially accessible for beginners and efficient for experienced developers.\n",
    "\n",
    "#### Python is dynamically typed and manages memory automatically through **garbage collection.** It features a comprehensive standard library, often described as **“batteries included,”** which allows developers to perform a wide range of tasks-from web development and automation to **data science and machine learning-without needing extensive external tools.**\n",
    "\n",
    "#### Python’s interpreted nature means code is executed line by line, which facilitates rapid development and debugging. The language is open source and cross-platform, running on Windows, macOS, Linux, and more. Its large and active community has contributed thousands of modules and libraries, making Python one of the most popular and widely used programming languages in the world today."
   ]
  },
  {
   "cell_type": "markdown",
   "id": "578269da",
   "metadata": {},
   "source": [
    "#### In Python \"print\" is a built-in function used to output information to the standard output device, typically the console or terminal. It is one of the most commonly used functions in Python, especially for displaying messages, debugging, and showing results during program execution.\n",
    "\n",
    "## Basic Usage\n",
    "#### The simplest way to use print() is to pass a string or any object as an argument:"
   ]
  },
  {
   "cell_type": "markdown",
   "id": "85b92dfc",
   "metadata": {},
   "source": [
    "# 1. Python Output"
   ]
  },
  {
   "cell_type": "code",
   "execution_count": 34,
   "id": "84268b62",
   "metadata": {},
   "outputs": [
    {
     "name": "stdout",
     "output_type": "stream",
     "text": [
      "Hello, World!\n"
     ]
    }
   ],
   "source": [
    "print(\"Hello, World!\")"
   ]
  },
  {
   "cell_type": "markdown",
   "id": "f8712a73",
   "metadata": {},
   "source": [
    "## Syntax\n",
    "#### The general syntax of the print() function is:\n",
    "\n",
    "### print(*objects, sep=' ', end='\\n')\n",
    "\n",
    "- **objects:** One or more items to print. These can be strings, numbers, variables, lists, etc. Multiple objects are separated by a space by default.\n",
    "\n",
    "- **sep:** (Optional) Specifies the separator between objects. The default is a single space.\n",
    "\n",
    "- **end:** (Optional) Specifies what to print at the end. The default is a newline character (\\n), so each print statement appears on a new line.\n"
   ]
  },
  {
   "cell_type": "markdown",
   "id": "df5bbaa3",
   "metadata": {},
   "source": [
    "## Examples\n",
    "\n",
    "### Printing Multiple Objects:"
   ]
  },
  {
   "cell_type": "code",
   "execution_count": 35,
   "id": "7be88d35",
   "metadata": {},
   "outputs": [
    {
     "name": "stdout",
     "output_type": "stream",
     "text": [
      "Hello world 123\n"
     ]
    }
   ],
   "source": [
    "# Python uses by default space as a seperator\n",
    "print(\"Hello\", \"world\", 123)"
   ]
  },
  {
   "cell_type": "code",
   "execution_count": 36,
   "id": "4d78b3f6",
   "metadata": {},
   "outputs": [
    {
     "name": "stdout",
     "output_type": "stream",
     "text": [
      "apple, banana, cherry\n"
     ]
    }
   ],
   "source": [
    "# Custom Separator:\n",
    "print(\"apple\", \"banana\", \"cherry\", sep=\", \")"
   ]
  },
  {
   "cell_type": "code",
   "execution_count": 37,
   "id": "498cde44",
   "metadata": {},
   "outputs": [
    {
     "name": "stdout",
     "output_type": "stream",
     "text": [
      "Hello\n",
      "World\n"
     ]
    }
   ],
   "source": [
    "# Python uses by default new line as a end\n",
    "print(\"Hello\")\n",
    "print(\"World\")"
   ]
  },
  {
   "cell_type": "code",
   "execution_count": 38,
   "id": "ea8f1bde",
   "metadata": {},
   "outputs": [
    {
     "name": "stdout",
     "output_type": "stream",
     "text": [
      "Output in single line --> Hello World\n"
     ]
    }
   ],
   "source": [
    "# Custom End Charactor\n",
    "print('Output in single line -->', \"Hello\", end=\" \")\n",
    "print(\"World\")"
   ]
  },
  {
   "cell_type": "code",
   "execution_count": 39,
   "id": "e065b6e4",
   "metadata": {},
   "outputs": [
    {
     "name": "stdout",
     "output_type": "stream",
     "text": [
      "Here is output --> Hellow!World\n"
     ]
    }
   ],
   "source": [
    "# If you want to add another charactor in the end like \"!\"\n",
    "print(\"Here is output -->\", 'Hellow', end=\"!\")\n",
    "print('World')"
   ]
  },
  {
   "cell_type": "markdown",
   "id": "06c71091",
   "metadata": {},
   "source": [
    "# 2. Data Types: Integer\n",
    "### **Definition** Integer represent whole numbers in Python.\n",
    "### Example: 1, -22, 333.\n",
    "### Used for counting, indexing and mathematical operations.\n"
   ]
  },
  {
   "cell_type": "code",
   "execution_count": 40,
   "id": "e85d4e59",
   "metadata": {},
   "outputs": [
    {
     "name": "stdout",
     "output_type": "stream",
     "text": [
      "8\n",
      "1e+308\n"
     ]
    }
   ],
   "source": [
    "# Integer\n",
    "print(8)\n",
    "# 1*10^308\n",
    "print(1e308)"
   ]
  },
  {
   "cell_type": "markdown",
   "id": "d575a6e7",
   "metadata": {},
   "source": [
    "## Decimal/Float\n",
    "### Floats represent numbers with decimal points.\n",
    "### **Precision** Used for more precise calculations."
   ]
  },
  {
   "cell_type": "code",
   "execution_count": 41,
   "id": "6e1c4319",
   "metadata": {},
   "outputs": [
    {
     "name": "stdout",
     "output_type": "stream",
     "text": [
      "7.96\n",
      "1.7e+308\n"
     ]
    }
   ],
   "source": [
    "print(7.96)\n",
    "print(1.7e308)"
   ]
  },
  {
   "cell_type": "markdown",
   "id": "eca4b428",
   "metadata": {},
   "source": [
    "## Boolean\n",
    "### Booleans represent True or False value in Python.\n",
    "### **Usage** Essential for decision making and conditional statements."
   ]
  },
  {
   "cell_type": "code",
   "execution_count": 42,
   "id": "87d64485",
   "metadata": {},
   "outputs": [
    {
     "name": "stdout",
     "output_type": "stream",
     "text": [
      "True\n",
      "False\n"
     ]
    }
   ],
   "source": [
    "print(True)\n",
    "print(False)"
   ]
  },
  {
   "cell_type": "markdown",
   "id": "4cdc20d7",
   "metadata": {},
   "source": [
    "## Text or String\n",
    "### Strings are sequences of characters in Python.\n",
    "### Enclosed in single or double quotes."
   ]
  },
  {
   "cell_type": "code",
   "execution_count": 43,
   "id": "e4def386",
   "metadata": {},
   "outputs": [
    {
     "name": "stdout",
     "output_type": "stream",
     "text": [
      "Hello Python 345\n"
     ]
    }
   ],
   "source": [
    "print('Hello', \"Python\", '345')"
   ]
  },
  {
   "cell_type": "markdown",
   "id": "b979c7a3",
   "metadata": {},
   "source": [
    "# 3. Variables"
   ]
  },
  {
   "cell_type": "markdown",
   "id": "3254fc1a",
   "metadata": {},
   "source": [
    "## **Introduction to Variables**\n",
    "### **1 Containers for Data** Variables act as storage units for information in Python.\n",
    "### **2 Essential in Programming** They allow us to manipulate and work with data efficiently.\n",
    "### **3 Dynamic Nature** Python variables can hold different types of data."
   ]
  },
  {
   "cell_type": "markdown",
   "id": "475315aa",
   "metadata": {},
   "source": [
    "## **Naming Variables and Conventions**\n",
    "### **1 snake_case** Words seperated by underscores. Example: user_name\n",
    "### **2 camelCase** First word lowercase, others capitalized. Example: userName\n",
    "### **3 PascalCase** All words capitalized. Example UserName"
   ]
  },
  {
   "cell_type": "markdown",
   "id": "709cfdd7",
   "metadata": {},
   "source": [
    "## **Rules for Naming Varables in Python**\n",
    "### Always Start with a Letter or Underscore (_). Letter meant (A-Z or a-z).\n",
    "### No Numbers at the beginning mean \"1name\" is incorrect.\n",
    "### Alphanumeric Characters Only meant \"name1\" and \"user_name\" are correct but \"user-name\" and \"user$name\" are incorrect.\n",
    "### **Case-Sensitive** Variables are case sensitive meant (\"Name\" and \"name\" are different).\n",
    "### **Readable and Descriptive** Use meaningful names to improve code clarity Example: \"total_price = 100\" is correct but \"tp = 100\" is not good way.\n",
    "### **No Reserved Keywords** Avoid using Python keywords like `if` `else` or `def` These are Python reserved keywords\n",
    "<p align=\"center\">\n",
    "  <img src=\"images/Python_keyword.png\" alt=\"PRKWS\" width=\"700\"/>\n",
    "</p>\n"
   ]
  },
  {
   "cell_type": "code",
   "execution_count": 44,
   "id": "c5a985a3",
   "metadata": {},
   "outputs": [
    {
     "name": "stdout",
     "output_type": "stream",
     "text": [
      "a plus b is --> 11\n"
     ]
    }
   ],
   "source": [
    "a = 5\n",
    "b = 6\n",
    "print('a plus b is -->', a + b)"
   ]
  },
  {
   "cell_type": "code",
   "execution_count": 45,
   "id": "76b0d64c",
   "metadata": {},
   "outputs": [
    {
     "name": "stdout",
     "output_type": "stream",
     "text": [
      "My name is Ghulam Muhammad\n",
      "Total sum of a and b is 11\n"
     ]
    }
   ],
   "source": [
    "name = \"Ghulam Muhammad\"\n",
    "print('My name is', name)\n",
    "\n",
    "a = 5\n",
    "b = 6\n",
    "print('Total sum of a and b is', a + b)"
   ]
  },
  {
   "cell_type": "code",
   "execution_count": 46,
   "id": "ee302279",
   "metadata": {},
   "outputs": [
    {
     "name": "stdout",
     "output_type": "stream",
     "text": [
      "7\n",
      "Abid\n"
     ]
    }
   ],
   "source": [
    "a = 7\n",
    "print(a)\n",
    "\n",
    "a = 'Abid'\n",
    "print(a)"
   ]
  },
  {
   "cell_type": "code",
   "execution_count": 47,
   "id": "e6f953f2",
   "metadata": {},
   "outputs": [
    {
     "name": "stdout",
     "output_type": "stream",
     "text": [
      "Age is: 25\n"
     ]
    }
   ],
   "source": [
    "age = 25\n",
    "print(\"Age is:\", age)"
   ]
  },
  {
   "cell_type": "code",
   "execution_count": 48,
   "id": "4b11c5f2",
   "metadata": {},
   "outputs": [
    {
     "name": "stdout",
     "output_type": "stream",
     "text": [
      "7 8 9\n"
     ]
    }
   ],
   "source": [
    "# stylish declaration techniques for variables\n",
    "a = 7\n",
    "b = 8\n",
    "c = 9\n",
    "print(a,b,c)"
   ]
  },
  {
   "cell_type": "code",
   "execution_count": 49,
   "id": "80607ba0",
   "metadata": {},
   "outputs": [
    {
     "name": "stdout",
     "output_type": "stream",
     "text": [
      "1 2 3\n"
     ]
    }
   ],
   "source": [
    "a,b,c = 1,2,3\n",
    "print(a,b,c)"
   ]
  },
  {
   "cell_type": "code",
   "execution_count": 50,
   "id": "faa3ca90",
   "metadata": {},
   "outputs": [
    {
     "name": "stdout",
     "output_type": "stream",
     "text": [
      "5 5 5\n"
     ]
    }
   ],
   "source": [
    "a=b=c= 5\n",
    "print(a,b,c)"
   ]
  }
 ],
 "metadata": {
  "kernelspec": {
   "display_name": "dl_enve",
   "language": "python",
   "name": "python3"
  },
  "language_info": {
   "codemirror_mode": {
    "name": "ipython",
    "version": 3
   },
   "file_extension": ".py",
   "mimetype": "text/x-python",
   "name": "python",
   "nbconvert_exporter": "python",
   "pygments_lexer": "ipython3",
   "version": "3.11.11"
  }
 },
 "nbformat": 4,
 "nbformat_minor": 5
}
