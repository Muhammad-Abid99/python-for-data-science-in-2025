{
 "cells": [
  {
   "cell_type": "markdown",
   "id": "c8f9e4d6",
   "metadata": {},
   "source": [
    "## Object-Oriented Programming (OOP) in Python:\n",
    "\n",
    "Object-Oriented Programming (OOP) is a programming paradigm that structures code by bundling data and the functions that operate on that data into single units called *objects*. In Python, OOP is widely used to create modular, reusable, and maintainable code, especially as applications grow in complexity.\n"
   ]
  }
 ],
 "metadata": {
  "kernelspec": {
   "display_name": "Python 3",
   "language": "python",
   "name": "python3"
  },
  "language_info": {
   "name": "python",
   "version": "3.11.11"
  }
 },
 "nbformat": 4,
 "nbformat_minor": 5
}
