{
 "cells": [
  {
   "cell_type": "markdown",
   "id": "c8f9e4d6",
   "metadata": {},
   "source": [
    "## Object-Oriented Programming (OOP) in Python:\n",
    "\n",
    "Object-Oriented Programming (OOP) is a programming paradigm that structures code by bundling data and the functions that operate on that data into single units called *objects*. In Python, OOP is widely used to create modular, reusable, and maintainable code, especially as applications grow in complexity.\n"
   ]
  },
  {
   "cell_type": "markdown",
   "id": "2ca2cf71",
   "metadata": {},
   "source": [
    "### Core Concepts of OOP in Python\n",
    "\n",
    "**Class and Object**\n",
    "- *Class*: A blueprint for creating objects, defining attributes (data) and methods (functions).\n",
    "- *Object*: An instance of a class, with its own unique data but sharing the class's methods.\n",
    "\n",
    "**Encapsulation**\n",
    "- Bundles data (attributes) and methods into a single unit (class), restricting direct access to some of the object's components.\n",
    "- Example: A `BankAccount` class hides the account balance and exposes only deposit/withdraw methods.\n",
    "\n",
    "**Inheritance**\n",
    "- Allows a class (child) to inherit attributes and methods from another class (parent), promoting code reuse.\n",
    "- Example: A `Car` class can inherit from a `Vehicle` class, reusing and extending its functionality.\n",
    "\n",
    "**Polymorphism**\n",
    "- Enables objects of different classes to be treated as objects of a common superclass, allowing the same method to behave differently depending on the object.\n",
    "- Example: Both `Dog` and `Cat` classes have a `speak()` method, but each implements it differently.\n",
    "\n",
    "**Abstraction**\n",
    "- Hides complex implementation details and exposes only the necessary parts of an object.\n",
    "- Example: A `Database` class exposes a `connect()` method, hiding the underlying connection logic.\n",
    "\n"
   ]
  }
 ],
 "metadata": {
  "kernelspec": {
   "display_name": "Python 3",
   "language": "python",
   "name": "python3"
  },
  "language_info": {
   "name": "python",
   "version": "3.11.11"
  }
 },
 "nbformat": 4,
 "nbformat_minor": 5
}
