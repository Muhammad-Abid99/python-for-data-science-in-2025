{
 "cells": [
  {
   "cell_type": "markdown",
   "id": "c8f9e4d6",
   "metadata": {},
   "source": [
    "## Object-Oriented Programming (OOP) in Python:\n",
    "\n",
    "Object-Oriented Programming (OOP) is a programming paradigm that structures code by bundling data and the functions that operate on that data into single units called *objects*. In Python, OOP is widely used to create modular, reusable, and maintainable code, especially as applications grow in complexity.\n"
   ]
  },
  {
   "cell_type": "markdown",
   "id": "2ca2cf71",
   "metadata": {},
   "source": [
    "### Core Concepts of OOP in Python\n",
    "\n",
    "**Class and Object**\n",
    "- *Class*: A blueprint for creating objects, defining attributes (data) and methods (functions).\n",
    "- *Object*: An instance of a class, with its own unique data but sharing the class's methods.\n",
    "\n",
    "**Encapsulation**\n",
    "- Bundles data (attributes) and methods into a single unit (class), restricting direct access to some of the object's components.\n",
    "- Example: A `BankAccount` class hides the account balance and exposes only deposit/withdraw methods.\n",
    "\n",
    "**Inheritance**\n",
    "- Allows a class (child) to inherit attributes and methods from another class (parent), promoting code reuse.\n",
    "- Example: A `Car` class can inherit from a `Vehicle` class, reusing and extending its functionality.\n",
    "\n",
    "**Polymorphism**\n",
    "- Enables objects of different classes to be treated as objects of a common superclass, allowing the same method to behave differently depending on the object.\n",
    "- Example: Both `Dog` and `Cat` classes have a `speak()` method, but each implements it differently.\n",
    "\n",
    "**Abstraction**\n",
    "- Hides complex implementation details and exposes only the necessary parts of an object.\n",
    "- Example: A `Database` class exposes a `connect()` method, hiding the underlying connection logic.\n",
    "\n"
   ]
  },
  {
   "cell_type": "markdown",
   "id": "5d2e117a",
   "metadata": {},
   "source": [
    "### Why Use OOP in Python?\n",
    "\n",
    "- **Modularity**: Code is organized into logical, self-contained units, making large projects easier to manage.\n",
    "- **Reusability**: Classes can be reused across different projects, reducing duplication and speeding up development.\n",
    "- **Maintainability**: Encapsulation and modularity make it easier to update, debug, and extend code without affecting unrelated parts.\n",
    "- **Real-World Modeling**: OOP naturally maps to real-world entities, making code more intuitive and easier to understand for complex systems.\n",
    "- **Data Science Applications**: OOP helps data scientists build reusable data processing pipelines, custom data structures, and scalable machine learning workflows.\n"
   ]
  },
  {
   "cell_type": "markdown",
   "id": "f1196e0f",
   "metadata": {},
   "source": [
    "## Class and Object in Python"
   ]
  },
  {
   "cell_type": "markdown",
   "id": "9079058d",
   "metadata": {},
   "source": [
    "### What is a Class?\n",
    "\n",
    "A **class** in Python is a blueprint or template for creating objects. It defines a set of attributes (data) and methods (functions) that the created objects will have. Classes encapsulate data and behavior together.\n",
    "\n",
    "### What is an Object?\n",
    "\n",
    "An **object** is an instance of a class. When you create an object, Python allocates memory for it and allows you to access the attributes and methods defined in the class.\n"
   ]
  },
  {
   "cell_type": "markdown",
   "id": "57ff1c57",
   "metadata": {},
   "source": [
    "### Basic Example of Class and Object"
   ]
  },
  {
   "cell_type": "code",
   "execution_count": 1,
   "id": "1ed3da85",
   "metadata": {},
   "outputs": [
    {
     "name": "stdout",
     "output_type": "stream",
     "text": [
      "5\n"
     ]
    }
   ],
   "source": [
    "# Define a class named MyClass\n",
    "class MyClass:\n",
    "    x = 5  # class attribute\n",
    "\n",
    "# Create an object of MyClass\n",
    "p1 = MyClass()\n",
    "\n",
    "# Access the attribute using the object\n",
    "print(p1.x)  # Output: 5\n"
   ]
  },
  {
   "cell_type": "markdown",
   "id": "b39c6b14",
   "metadata": {},
   "source": [
    "Here, `MyClass` is the class, and `p1` is an object (instance) of that class. The object `p1` has access to the attribute `x` defined in the class."
   ]
  },
  {
   "cell_type": "markdown",
   "id": "302c19d4",
   "metadata": {},
   "source": [
    "### Example with Initialization and Methods\n",
    "\n",
    "Using the special `__init__()` method, you can initialize object attributes when an object is created.\n"
   ]
  },
  {
   "cell_type": "code",
   "execution_count": 2,
   "id": "0048f0ca",
   "metadata": {},
   "outputs": [
    {
     "name": "stdout",
     "output_type": "stream",
     "text": [
      "Fido\n",
      "3\n",
      "Fido says woof!\n"
     ]
    }
   ],
   "source": [
    "class Dog:\n",
    "    def __init__(self, name, age):\n",
    "        self.name = name  # instance attribute\n",
    "        self.age = age\n",
    "\n",
    "    def speak(self):\n",
    "        return f\"{self.name} says woof!\"\n",
    "\n",
    "# Create an object of Dog class\n",
    "dog1 = Dog(\"Fido\", 3)\n",
    "\n",
    "# Access attributes\n",
    "print(dog1.name)  # Output: Fido\n",
    "print(dog1.age)   # Output: 3\n",
    "\n",
    "# Call method\n",
    "print(dog1.speak())  # Output: Fido says woof!\n"
   ]
  },
  {
   "cell_type": "markdown",
   "id": "18cd582b",
   "metadata": {},
   "source": [
    "- `__init__` is the initializer method called automatically when an object is created.\n",
    "- `self` refers to the current object instance.\n",
    "- Attributes like `name` and `age` are unique to each object.\n",
    "- Methods like `speak()` define behaviors.\n"
   ]
  },
  {
   "cell_type": "markdown",
   "id": "ba1819e1",
   "metadata": {},
   "source": [
    "### Creating Multiple Objects\n",
    "\n",
    "You can create multiple instances (objects) from the same class, each with different attribute values:\n"
   ]
  },
  {
   "cell_type": "code",
   "execution_count": 3,
   "id": "db75b978",
   "metadata": {},
   "outputs": [
    {
     "name": "stdout",
     "output_type": "stream",
     "text": [
      "Fido says woof!\n",
      "Buddy says woof!\n"
     ]
    }
   ],
   "source": [
    "dog1 = Dog(\"Fido\", 3)\n",
    "dog2 = Dog(\"Buddy\", 5)\n",
    "\n",
    "print(dog1.speak())  # Fido says woof!\n",
    "print(dog2.speak())  # Buddy says woof!\n"
   ]
  },
  {
   "cell_type": "markdown",
   "id": "e0f8b3ec",
   "metadata": {},
   "source": [
    "Each object maintains its own state independently."
   ]
  },
  {
   "cell_type": "markdown",
   "id": "5bbf0cf2",
   "metadata": {},
   "source": [
    "### Summary\n",
    "\n",
    "- **Class**: Defines a blueprint with attributes and methods.\n",
    "- **Object**: An instance of a class with its own data.\n",
    "- Use `class` keyword to define a class.\n",
    "- Use `ClassName()` to create an object.\n",
    "- Use `__init__()` to initialize object attributes.\n",
    "- Access attributes and methods using dot `.` notation.\n",
    "\n",
    "This structure allows you to model real-world entities and their behaviors in a clean, reusable way in Python."
   ]
  },
  {
   "cell_type": "markdown",
   "id": "2ff597cb",
   "metadata": {},
   "source": [
    "## OOP Concepts Illustrated with Real-World Problem Solving"
   ]
  },
  {
   "cell_type": "markdown",
   "id": "6bb6482e",
   "metadata": {},
   "source": [
    "**Example: Data Science Pipeline**\n",
    "\n",
    "Suppose you're building a data analysis pipeline to process sales data.\n",
    "\n",
    "- **Class**: Define a `DataProcessor` class that loads, cleans, and analyzes data.\n",
    "- **Inheritance**: Create specialized classes like `CSVDataProcessor` or `ExcelDataProcessor` that inherit from `DataProcessor` and implement file-specific logic.\n",
    "- **Encapsulation**: Keep data cleaning logic inside the class, exposing only a `process()` method to users.\n",
    "- **Polymorphism**: Both processor classes implement a `process()` method, so you can use them interchangeably in your pipeline.\n",
    "- **Abstraction**: Users interact with the `process()` method without needing to know the internal steps.\n",
    "\n",
    "**Python Example:**"
   ]
  }
 ],
 "metadata": {
  "kernelspec": {
   "display_name": "Python 3",
   "language": "python",
   "name": "python3"
  },
  "language_info": {
   "codemirror_mode": {
    "name": "ipython",
    "version": 3
   },
   "file_extension": ".py",
   "mimetype": "text/x-python",
   "name": "python",
   "nbconvert_exporter": "python",
   "pygments_lexer": "ipython3",
   "version": "3.11.11"
  }
 },
 "nbformat": 4,
 "nbformat_minor": 5
}
