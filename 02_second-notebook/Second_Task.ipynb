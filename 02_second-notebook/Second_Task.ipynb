{
 "cells": [
  {
   "cell_type": "markdown",
   "id": "e9e38e81",
   "metadata": {},
   "source": [
    "### `Problem 1`: Write a program that take a user input of three angles and will find out whether it can form a triangle or not.\n",
    "\n",
    "Hint - Sum of all angles is 180 and all angles are positive"
   ]
  },
  {
   "cell_type": "code",
   "execution_count": 1,
   "id": "fa399a05",
   "metadata": {},
   "outputs": [
    {
     "name": "stdout",
     "output_type": "stream",
     "text": [
      "forms a triangle\n"
     ]
    }
   ],
   "source": [
    "# Write code here\n",
    "first = int(input('Enter the 1st angle'))\n",
    "second = int(input('Enter the 2nd angle'))\n",
    "third = int(input('Enter the 3rd angel'))\n",
    "\n",
    "if (first+second+third) == 180 and first>0 and second> 0 and third> 0:\n",
    "    print('forms a triangle')\n",
    "else:\n",
    "    print('does not form a triangle')"
   ]
  },
  {
   "cell_type": "markdown",
   "id": "2c6fdde3",
   "metadata": {},
   "source": [
    "### Step-by-Step Breakdown\n",
    "\n",
    "#### 1. **User Input**\n",
    "\n",
    "- The program prompts the user to enter three angles, one at a time.\n",
    "- Each input is converted to an integer using `int()`, ensuring the program works with numbers.\n",
    "\n",
    "#### 2. **Triangle Angle Condition**\n",
    "\n",
    "- For three angles to form a triangle:\n",
    "  - **Sum must be exactly 180 degrees.**\n",
    "  - **Each angle must be greater than 0** (no negative or zero angles).\n",
    "\n",
    "#### 3. **Conditional Check**\n",
    "\n",
    "- The program uses an `if` statement to check both conditions:\n",
    "  - `(first + second + third) == 180`\n",
    "  - `first > 0`, `second > 0`, `third > 0`\n",
    "- If both are true, it prints `\"forms a triangle\"`.\n",
    "- Otherwise, it prints `\"does not form a triangle\"`.\n",
    "\n",
    "### Example Runs\n",
    "\n",
    "**Example 1:**\n",
    "```\n",
    "Enter the 1st angle: 60\n",
    "Enter the 2nd angle: 60\n",
    "Enter the 3rd angel: 60\n",
    "forms a triangle\n",
    "```\n",
    "*Explanation: 60 + 60 + 60 = 180, all angles > 0.*\n",
    "\n",
    "**Example 2:**\n",
    "```\n",
    "Enter the 1st angle: 90\n",
    "Enter the 2nd angle: 45\n",
    "Enter the 3rd angel: 45\n",
    "forms a triangle\n",
    "```\n",
    "*Explanation: 90 + 45 + 45 = 180, all angles > 0.*\n",
    "\n",
    "**Example 3:**\n",
    "```\n",
    "Enter the 1st angle: 0\n",
    "Enter the 2nd angle: 90\n",
    "Enter the 3rd angel: 90\n",
    "does not form a triangle\n",
    "```\n",
    "*Explanation: One angle is 0, which is invalid.*\n",
    "\n",
    "**Example 4:**\n",
    "```\n",
    "Enter the 1st angle: 100\n",
    "Enter the 2nd angle: 40\n",
    "Enter the 3rd angel: 30\n",
    "does not form a triangle\n",
    "```\n",
    "*Explanation: 100 + 40 + 30 = 170, which is not 180.*\n",
    "\n",
    "### Key Concepts Illustrated\n",
    "\n",
    "- **Input Handling:** Uses `input()` and `int()` to get and convert user input.\n",
    "- **Conditional Logic:** Combines multiple conditions with `and` to ensure both rules are satisfied.\n",
    "- **Triangle Angle Theorem:** Applies the mathematical rule that the sum of the internal angles of a triangle is always 180°, and each must be positive.\n",
    "\n",
    "### Summary\n",
    "\n",
    "This program is a practical demonstration of basic Python input, type conversion, and conditionals."
   ]
  },
  {
   "cell_type": "markdown",
   "id": "23af3272",
   "metadata": {},
   "source": [
    "### An Advance version of this problem:"
   ]
  },
  {
   "cell_type": "markdown",
   "id": "4e5369aa",
   "metadata": {},
   "source": [
    "Here is an **advanced, professional-grade Python program** that checks whether three angles entered by the user can form a valid triangle. This version includes:\n",
    "\n",
    "- **Robust input validation** with error handling.\n",
    "- **Modular design** using functions for clarity and reusability.\n",
    "- **Detailed user feedback** for invalid inputs.\n",
    "- **Support for floating-point angles** to allow decimal inputs.\n",
    "- **Docstrings and type hints** for better readability and maintainability."
   ]
  },
  {
   "cell_type": "code",
   "execution_count": 1,
   "id": "343c2744",
   "metadata": {},
   "outputs": [
    {
     "name": "stdout",
     "output_type": "stream",
     "text": [
      "Triangle Angle Validator - Pro Version\n",
      "\n",
      "\n",
      "✅ The angles form a valid triangle.\n"
     ]
    }
   ],
   "source": [
    "def is_valid_angle(angle: float) -> bool:\n",
    "    \"\"\"\n",
    "    Check if an angle is valid (greater than 0 and less than 180).\n",
    "    \"\"\"\n",
    "    return 0 < angle < 180\n",
    "\n",
    "def is_valid_triangle(a: float, b: float, c: float) -> bool:\n",
    "    \"\"\"\n",
    "    Check if three angles can form a valid triangle.\n",
    "    Conditions:\n",
    "    - Each angle must be > 0 and < 180\n",
    "    - Sum of angles must be exactly 180 (allowing a small tolerance for floating point)\n",
    "    \"\"\"\n",
    "    total = a + b + c\n",
    "    tolerance = 1e-6  # To handle floating point precision issues\n",
    "    return (is_valid_angle(a) and is_valid_angle(b) and is_valid_angle(c) \n",
    "            and abs(total - 180) < tolerance)\n",
    "\n",
    "def get_angle_input(prompt: str) -> float:\n",
    "    \"\"\"\n",
    "    Prompt the user to enter an angle and validate the input.\n",
    "    Re-prompts until a valid float is entered.\n",
    "    \"\"\"\n",
    "    while True:\n",
    "        try:\n",
    "            value = float(input(prompt))\n",
    "            if not is_valid_angle(value):\n",
    "                print(\"Invalid angle! Angle must be greater than 0 and less than 180.\")\n",
    "                continue\n",
    "            return value\n",
    "        except ValueError:\n",
    "            print(\"Invalid input! Please enter a numeric value.\")\n",
    "\n",
    "def main():\n",
    "    print(\"Triangle Angle Validator - Pro Version\\n\")\n",
    "    angle1 = get_angle_input(\"Enter the 1st angle (in degrees): \")\n",
    "    angle2 = get_angle_input(\"Enter the 2nd angle (in degrees): \")\n",
    "    angle3 = get_angle_input(\"Enter the 3rd angle (in degrees): \")\n",
    "\n",
    "    if is_valid_triangle(angle1, angle2, angle3):\n",
    "        print(\"\\n✅ The angles form a valid triangle.\")\n",
    "    else:\n",
    "        print(\"\\n❌ The angles do NOT form a valid triangle.\")\n",
    "\n",
    "if __name__ == \"__main__\":\n",
    "    main()\n"
   ]
  },
  {
   "cell_type": "markdown",
   "id": "87850607",
   "metadata": {},
   "source": [
    "#### Why this is a Pro-level program:\n",
    "\n",
    "- **Input Validation:**  \n",
    "  The program ensures each angle is numeric, positive, and less than 180 degrees before proceeding.\n",
    "\n",
    "- **Floating Point Support:**  \n",
    "  Angles can be decimal numbers, not just integers, making it more flexible.\n",
    "\n",
    "- **Tolerance for Sum Check:**  \n",
    "  Uses a small tolerance (`1e-6`) to handle floating-point precision issues when checking if the sum is exactly 180.\n",
    "\n",
    "- **Clear User Guidance:**  \n",
    "  Provides clear error messages and re-prompts on invalid input.\n",
    "\n",
    "- **Modular Functions:**  \n",
    "  Separates concerns into functions (`is_valid_angle`, `is_valid_triangle`, `get_angle_input`), making the code easier to maintain and test.\n",
    "\n",
    "- **Type Hints and Docstrings:**  \n",
    "  Improves readability and helps tools like linters or IDEs understand the code better."
   ]
  },
  {
   "cell_type": "markdown",
   "id": "74b8570c",
   "metadata": {},
   "source": []
  }
 ],
 "metadata": {
  "kernelspec": {
   "display_name": "Python 3",
   "language": "python",
   "name": "python3"
  },
  "language_info": {
   "codemirror_mode": {
    "name": "ipython",
    "version": 3
   },
   "file_extension": ".py",
   "mimetype": "text/x-python",
   "name": "python",
   "nbconvert_exporter": "python",
   "pygments_lexer": "ipython3",
   "version": "3.11.11"
  }
 },
 "nbformat": 4,
 "nbformat_minor": 5
}
