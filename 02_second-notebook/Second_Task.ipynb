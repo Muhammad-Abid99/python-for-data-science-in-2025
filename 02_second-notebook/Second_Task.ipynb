{
 "cells": [
  {
   "cell_type": "markdown",
   "id": "e9e38e81",
   "metadata": {},
   "source": [
    "## `Problem 1`: Write a program that take a user input of three angles and will find out whether it can form a triangle or not.\n",
    "\n",
    "Hint - Sum of all angles is 180 and all angles are positive"
   ]
  },
  {
   "cell_type": "code",
   "execution_count": 1,
   "id": "fa399a05",
   "metadata": {},
   "outputs": [
    {
     "name": "stdout",
     "output_type": "stream",
     "text": [
      "forms a triangle\n"
     ]
    }
   ],
   "source": [
    "# Write code here\n",
    "first = int(input('Enter the 1st angle'))\n",
    "second = int(input('Enter the 2nd angle'))\n",
    "third = int(input('Enter the 3rd angel'))\n",
    "\n",
    "if (first+second+third) == 180 and first>0 and second> 0 and third> 0:\n",
    "    print('forms a triangle')\n",
    "else:\n",
    "    print('does not form a triangle')"
   ]
  },
  {
   "cell_type": "markdown",
   "id": "2c6fdde3",
   "metadata": {},
   "source": [
    "### Step-by-Step Breakdown\n",
    "\n",
    "#### 1. **User Input**\n",
    "\n",
    "- The program prompts the user to enter three angles, one at a time.\n",
    "- Each input is converted to an integer using `int()`, ensuring the program works with numbers.\n",
    "\n",
    "#### 2. **Triangle Angle Condition**\n",
    "\n",
    "- For three angles to form a triangle:\n",
    "  - **Sum must be exactly 180 degrees.**\n",
    "  - **Each angle must be greater than 0** (no negative or zero angles).\n",
    "\n",
    "#### 3. **Conditional Check**\n",
    "\n",
    "- The program uses an `if` statement to check both conditions:\n",
    "  - `(first + second + third) == 180`\n",
    "  - `first > 0`, `second > 0`, `third > 0`\n",
    "- If both are true, it prints `\"forms a triangle\"`.\n",
    "- Otherwise, it prints `\"does not form a triangle\"`.\n",
    "\n",
    "### Example Runs\n",
    "\n",
    "**Example 1:**\n",
    "```\n",
    "Enter the 1st angle: 60\n",
    "Enter the 2nd angle: 60\n",
    "Enter the 3rd angel: 60\n",
    "forms a triangle\n",
    "```\n",
    "*Explanation: 60 + 60 + 60 = 180, all angles > 0.*\n",
    "\n",
    "**Example 2:**\n",
    "```\n",
    "Enter the 1st angle: 90\n",
    "Enter the 2nd angle: 45\n",
    "Enter the 3rd angel: 45\n",
    "forms a triangle\n",
    "```\n",
    "*Explanation: 90 + 45 + 45 = 180, all angles > 0.*\n",
    "\n",
    "**Example 3:**\n",
    "```\n",
    "Enter the 1st angle: 0\n",
    "Enter the 2nd angle: 90\n",
    "Enter the 3rd angel: 90\n",
    "does not form a triangle\n",
    "```\n",
    "*Explanation: One angle is 0, which is invalid.*\n",
    "\n",
    "**Example 4:**\n",
    "```\n",
    "Enter the 1st angle: 100\n",
    "Enter the 2nd angle: 40\n",
    "Enter the 3rd angel: 30\n",
    "does not form a triangle\n",
    "```\n",
    "*Explanation: 100 + 40 + 30 = 170, which is not 180.*\n",
    "\n",
    "#### Key Concepts Illustrated\n",
    "\n",
    "- **Input Handling:** Uses `input()` and `int()` to get and convert user input.\n",
    "- **Conditional Logic:** Combines multiple conditions with `and` to ensure both rules are satisfied.\n",
    "- **Triangle Angle Theorem:** Applies the mathematical rule that the sum of the internal angles of a triangle is always 180°, and each must be positive.\n",
    "\n",
    "#### Summary\n",
    "\n",
    "This program is a practical demonstration of basic Python input, type conversion, and conditionals."
   ]
  },
  {
   "cell_type": "markdown",
   "id": "23af3272",
   "metadata": {},
   "source": [
    "### An Advance version of this problem:"
   ]
  },
  {
   "cell_type": "markdown",
   "id": "4e5369aa",
   "metadata": {},
   "source": [
    "Here is an **advanced, professional-grade Python program** that checks whether three angles entered by the user can form a valid triangle. This version includes:\n",
    "\n",
    "- **Robust input validation** with error handling.\n",
    "- **Modular design** using functions for clarity and reusability.\n",
    "- **Detailed user feedback** for invalid inputs.\n",
    "- **Support for floating-point angles** to allow decimal inputs.\n",
    "- **Docstrings and type hints** for better readability and maintainability."
   ]
  },
  {
   "cell_type": "code",
   "execution_count": 1,
   "id": "343c2744",
   "metadata": {},
   "outputs": [
    {
     "name": "stdout",
     "output_type": "stream",
     "text": [
      "Triangle Angle Validator - Pro Version\n",
      "\n",
      "\n",
      "✅ The angles form a valid triangle.\n"
     ]
    }
   ],
   "source": [
    "def is_valid_angle(angle: float) -> bool:\n",
    "    \"\"\"\n",
    "    Check if an angle is valid (greater than 0 and less than 180).\n",
    "    \"\"\"\n",
    "    return 0 < angle < 180\n",
    "\n",
    "def is_valid_triangle(a: float, b: float, c: float) -> bool:\n",
    "    \"\"\"\n",
    "    Check if three angles can form a valid triangle.\n",
    "    Conditions:\n",
    "    - Each angle must be > 0 and < 180\n",
    "    - Sum of angles must be exactly 180 (allowing a small tolerance for floating point)\n",
    "    \"\"\"\n",
    "    total = a + b + c\n",
    "    tolerance = 1e-6  # To handle floating point precision issues\n",
    "    return (is_valid_angle(a) and is_valid_angle(b) and is_valid_angle(c) \n",
    "            and abs(total - 180) < tolerance)\n",
    "\n",
    "def get_angle_input(prompt: str) -> float:\n",
    "    \"\"\"\n",
    "    Prompt the user to enter an angle and validate the input.\n",
    "    Re-prompts until a valid float is entered.\n",
    "    \"\"\"\n",
    "    while True:\n",
    "        try:\n",
    "            value = float(input(prompt))\n",
    "            if not is_valid_angle(value):\n",
    "                print(\"Invalid angle! Angle must be greater than 0 and less than 180.\")\n",
    "                continue\n",
    "            return value\n",
    "        except ValueError:\n",
    "            print(\"Invalid input! Please enter a numeric value.\")\n",
    "\n",
    "def main():\n",
    "    print(\"Triangle Angle Validator - Pro Version\\n\")\n",
    "    angle1 = get_angle_input(\"Enter the 1st angle (in degrees): \")\n",
    "    angle2 = get_angle_input(\"Enter the 2nd angle (in degrees): \")\n",
    "    angle3 = get_angle_input(\"Enter the 3rd angle (in degrees): \")\n",
    "\n",
    "    if is_valid_triangle(angle1, angle2, angle3):\n",
    "        print(\"\\n✅ The angles form a valid triangle.\")\n",
    "    else:\n",
    "        print(\"\\n❌ The angles do NOT form a valid triangle.\")\n",
    "\n",
    "if __name__ == \"__main__\":\n",
    "    main()\n"
   ]
  },
  {
   "cell_type": "markdown",
   "id": "87850607",
   "metadata": {},
   "source": [
    "#### Why this is a Pro-level program:\n",
    "\n",
    "- **Input Validation:**  \n",
    "  The program ensures each angle is numeric, positive, and less than 180 degrees before proceeding.\n",
    "\n",
    "- **Floating Point Support:**  \n",
    "  Angles can be decimal numbers, not just integers, making it more flexible.\n",
    "\n",
    "- **Tolerance for Sum Check:**  \n",
    "  Uses a small tolerance (`1e-6`) to handle floating-point precision issues when checking if the sum is exactly 180.\n",
    "\n",
    "- **Clear User Guidance:**  \n",
    "  Provides clear error messages and re-prompts on invalid input.\n",
    "\n",
    "- **Modular Functions:**  \n",
    "  Separates concerns into functions (`is_valid_angle`, `is_valid_triangle`, `get_angle_input`), making the code easier to maintain and test.\n",
    "\n",
    "- **Type Hints and Docstrings:**  \n",
    "  Improves readability and helps tools like linters or IDEs understand the code better."
   ]
  },
  {
   "cell_type": "markdown",
   "id": "74b8570c",
   "metadata": {},
   "source": [
    "#### Sample Run\n",
    "\n",
    "```\n",
    "Triangle Angle Validator - Pro Version\n",
    "\n",
    "Enter the 1st angle (in degrees): 60\n",
    "Enter the 2nd angle (in degrees): 60\n",
    "Enter the 3rd angle (in degrees): 60\n",
    "\n",
    "✅ The angles form a valid triangle.\n",
    "```\n",
    "\n",
    "```\n",
    "Triangle Angle Validator - Pro Version\n",
    "\n",
    "Enter the 1st angle (in degrees): 90\n",
    "Enter the 2nd angle (in degrees): 45\n",
    "Enter the 3rd angle (in degrees): 44.999999\n",
    "\n",
    "❌ The angles do NOT form a valid triangle.\n",
    "```\n",
    "\n",
    "This approach reflects professional Python practices and ensures the program is user-friendly, robust, and maintainable."
   ]
  },
  {
   "cell_type": "markdown",
   "id": "fa74d385",
   "metadata": {},
   "source": [
    "## `Problem 2`: Write a program that will take user input of cost price and selling price and determines whether its a loss or a profit."
   ]
  },
  {
   "cell_type": "code",
   "execution_count": 1,
   "id": "caca0a5e",
   "metadata": {},
   "outputs": [
    {
     "name": "stdout",
     "output_type": "stream",
     "text": [
      "Profit\n"
     ]
    }
   ],
   "source": [
    "# Simple program\n",
    "cost_price = int(input('Enter cost price-'))\n",
    "selling_price = int(input('Enter selling price-'))\n",
    "\n",
    "if cost_price < selling_price:\n",
    "    print('Profit')\n",
    "elif cost_price > selling_price:\n",
    "    print('Loss')\n",
    "else:\n",
    "    print('No Loss No Gain')"
   ]
  },
  {
   "cell_type": "markdown",
   "id": "3a39e29c",
   "metadata": {},
   "source": [
    "**Analysis:**\n",
    "\n",
    "- **Conditional Logic:**  \n",
    "  - The three branches handle all possible relationships between cost price and selling price.\n",
    "    - **Profit:** When selling price exceeds cost price.\n",
    "    - **Loss:** When cost price exceeds selling price.\n",
    "    - **No Gain/No Loss:** When the two are equal.\n",
    "- **Clarity:**  \n",
    "  - The logic is direct and easy to follow.\n",
    "  - For a more informative output, you could compute and display the actual profit or loss amount."
   ]
  },
  {
   "cell_type": "markdown",
   "id": "2caa96e7",
   "metadata": {},
   "source": [
    "### Advanced Real-World Profit & Loss Calculator in Python\n",
    "- **Input validation**\n",
    "- **Support for multiple transactions**\n",
    "- **Handling of decimal prices**\n",
    "- **Detailed output summary**\n",
    "- **User-friendly experience**"
   ]
  },
  {
   "cell_type": "code",
   "execution_count": 3,
   "id": "0c0078ea",
   "metadata": {},
   "outputs": [
    {
     "name": "stdout",
     "output_type": "stream",
     "text": [
      "Advanced Profit & Loss Calculator\n",
      "\n",
      "Enter transaction details:\n",
      "\n",
      "Detailed Transaction Summary:\n",
      "  Transaction 1: Cost = 1200.00, Sell = 1300.99 --> Profit of 100.99\n",
      "\n",
      "Aggregate Summary:\n",
      "  Total Profit: 100.99\n"
     ]
    }
   ],
   "source": [
    "def get_price_input(prompt):\n",
    "    while True:\n",
    "        try:\n",
    "            value = float(input(prompt))\n",
    "            if value < 0:\n",
    "                print(\"Price should not be negative. Please enter a valid amount.\")\n",
    "                continue\n",
    "            return value\n",
    "        except ValueError:\n",
    "            print(\"Invalid input! Please enter a numerical value.\")\n",
    "\n",
    "def main():\n",
    "    print(\"Advanced Profit & Loss Calculator\")\n",
    "    transactions = []\n",
    "    while True:\n",
    "        print(\"\\nEnter transaction details:\")\n",
    "        cost = get_price_input(\"Enter cost price (e.g., 1349.50): \")\n",
    "        sell = get_price_input(\"Enter selling price (e.g., 1599.75): \")\n",
    "        transactions.append({'cost': cost, 'sell': sell})\n",
    "\n",
    "        cont = input(\"Add another transaction? (y/n): \").strip().lower()\n",
    "        if cont != 'y':\n",
    "            break\n",
    "\n",
    "    total_profit = 0\n",
    "    total_loss = 0\n",
    "\n",
    "    print(\"\\nDetailed Transaction Summary:\")\n",
    "\n",
    "    for i, trans in enumerate(transactions, start=1):\n",
    "        cp = trans['cost']\n",
    "        sp = trans['sell']\n",
    "        if cp < sp:\n",
    "            profit = sp - cp\n",
    "            total_profit += profit\n",
    "            result = f\"Profit of {profit:.2f}\"\n",
    "        elif cp > sp:\n",
    "            loss = cp - sp\n",
    "            total_loss += loss\n",
    "            result = f\"Loss of {loss:.2f}\"\n",
    "        else:\n",
    "            result = \"No Profit, No Loss\"\n",
    "        print(f\"  Transaction {i}: Cost = {cp:.2f}, Sell = {sp:.2f} --> {result}\")\n",
    "\n",
    "    print(\"\\nAggregate Summary:\")\n",
    "    if total_profit > 0:\n",
    "        print(f\"  Total Profit: {total_profit:.2f}\")\n",
    "    if total_loss > 0:\n",
    "        print(f\"  Total Loss: {total_loss:.2f}\")\n",
    "    if total_profit == 0 and total_loss == 0:\n",
    "        print(\"  No profit or loss across all transactions.\")\n",
    "\n",
    "if __name__ == \"__main__\":\n",
    "    main()\n"
   ]
  },
  {
   "cell_type": "markdown",
   "id": "f5c0d351",
   "metadata": {},
   "source": [
    "#### How This Reflects Real-World Scenarios\n",
    "\n",
    "- **Handles Multiple Transactions:** Businesses rarely sell just one product; the program allows input for several deals in a session.\n",
    "- **Decimal Prices:** Supports currencies and accurate accounting.\n",
    "- **Error Handling:** Prevents crashes from invalid user inputs or negative prices, ensuring reliability.\n",
    "- **Summary & Transparency:** Gives both per-transaction and summary views for clearer business insights.\n",
    "\n",
    "#### Enhancements Over Basic Scripts\n",
    "\n",
    "- Can serve as a **foundation for small business accounting tools**.\n",
    "- Ready for integration into further applications or GUIs for real business use.\n",
    "- Easily extendable (e.g., include taxes, discounts, or inventory management).\n"
   ]
  },
  {
   "cell_type": "markdown",
   "id": "534c7f27",
   "metadata": {},
   "source": [
    "## `Problem 3`: Write a menu-driven program -\n",
    "1. cm to ft\n",
    "2. km to miles\n",
    "3. USD to INR\n",
    "4. exit\n",
    "\n",
    "Hint\n",
    "- 1 cm = 0.032ft\n",
    "- 1km = 0.62\n",
    "- 1 USD = 80 PKR"
   ]
  },
  {
   "cell_type": "code",
   "execution_count": 2,
   "id": "2e576fc4",
   "metadata": {},
   "outputs": [
    {
     "name": "stdout",
     "output_type": "stream",
     "text": [
      "miles value is 6.2\n"
     ]
    }
   ],
   "source": [
    "# Write code here\n",
    "menu = input(\"\"\"\n",
    "Hi select an option\n",
    "1. cms to ft\n",
    "2. km to miles\n",
    "3. USD to PKR\n",
    "4. Exit\n",
    "\"\"\")\n",
    "\n",
    "if menu == '1':\n",
    "  cm = float(input('enter the cm value'))\n",
    "  print('ft value is',0.032*cm)\n",
    "elif menu == '2':\n",
    "  km = float(input('enter the km value'))\n",
    "  print('miles value is',km*0.62)\n",
    "elif menu == '3':\n",
    "  usd = float(input('enter usd'))\n",
    "  print('pkr',usd*275)\n",
    "else:\n",
    "  exit()"
   ]
  },
  {
   "cell_type": "markdown",
   "id": "40755b23",
   "metadata": {},
   "source": [
    "This Python program is a **simple, menu-driven unit conversion tool** that lets the user convert between centimeters to feet, kilometers to miles, and US dollars to Pakistani rupees. Here's an explanation of how it works step-by-step:\n",
    "\n",
    "1. **Menu Display and Input:**\n",
    "   - The program prints a menu asking the user to select one of four options (cm to ft, km to miles, USD to INR, or exit).\n",
    "   - It uses `input()` to capture the user's choice as a string.\n",
    "   - Note: `input()` always returns a string, so we compare the input to string values like `'1'`, `'2'`, etc.\n",
    "\n",
    "2. **Conditional Logic Based on Choice:**\n",
    "   - The program uses an `if-elif-else` structure to decide which conversion to perform based on the user's input.\n",
    "   - For each conversion option selected ('1', '2', or '3'), it prompts the user to enter the relevant value to convert.\n",
    "   \n",
    "3. **Data Type Conversion:**\n",
    "   - The input values for conversion (cm, km, usd) are taken in as strings, then converted to `float` using `float(input(...))` because numerical calculations need numeric types, not strings.\n",
    "   \n",
    "4. **Performing the Conversion:**\n",
    "   - Each conversion multiplies the input value by a fixed conversion factor:\n",
    "     - 1 cm = 0.032 ft\n",
    "     - 1 km = 0.62 miles\n",
    "     - 1 USD = 275 PKR\n",
    "   - After multiplication, it prints the result with a descriptive message.\n",
    "\n",
    "5. **Exit Condition:**\n",
    "   - If the user enters '4' (or any other input not matched by previous `if`/`elif`), the program calls `exit()`, which terminates the script immediately.\n",
    "   \n",
    "### Summary of Key Concepts:\n",
    "\n",
    "| Part          | Explanation                                           |\n",
    "|---------------|-------------------------------------------------------|\n",
    "| `input()`     | Captures user input as a string (needs conversion to numeric types for math) |\n",
    "| `float()`     | Converts string inputs to floating-point numbers      |\n",
    "| `if-elif-else`| Controls program flow based on user's menu selection  |\n",
    "| Conversion Factors | Multiplies input values by constants to convert units |\n",
    "| `exit()`      | Stops the program if the user chooses to exit         |\n",
    "\n",
    "### Example Walkthrough:\n",
    "- User sees menu and enters '1'.\n",
    "- Program asks: \"enter the cm value\".\n",
    "- User inputs \"100\".\n",
    "- Program converts `100` cm to feet by doing `0.032 * 100 = 3.2`.\n",
    "- Prints: \"ft value is 3.2\"."
   ]
  }
 ],
 "metadata": {
  "kernelspec": {
   "display_name": "Python 3",
   "language": "python",
   "name": "python3"
  },
  "language_info": {
   "codemirror_mode": {
    "name": "ipython",
    "version": 3
   },
   "file_extension": ".py",
   "mimetype": "text/x-python",
   "name": "python",
   "nbconvert_exporter": "python",
   "pygments_lexer": "ipython3",
   "version": "3.11.11"
  }
 },
 "nbformat": 4,
 "nbformat_minor": 5
}
