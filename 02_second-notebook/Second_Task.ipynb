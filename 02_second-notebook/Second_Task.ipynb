{
 "cells": [
  {
   "cell_type": "markdown",
   "id": "e9e38e81",
   "metadata": {},
   "source": [
    "### `Problem 1`: Write a program that take a user input of three angles and will find out whether it can form a triangle or not.\n",
    "\n",
    "Hint - Sum of all angles is 180 and all angles are positive"
   ]
  },
  {
   "cell_type": "code",
   "execution_count": 1,
   "id": "fa399a05",
   "metadata": {},
   "outputs": [
    {
     "name": "stdout",
     "output_type": "stream",
     "text": [
      "forms a triangle\n"
     ]
    }
   ],
   "source": [
    "# Write code here\n",
    "first = int(input('Enter the 1st angle'))\n",
    "second = int(input('Enter the 2nd angle'))\n",
    "third = int(input('Enter the 3rd angel'))\n",
    "\n",
    "if (first+second+third) == 180 and first>0 and second> 0 and third> 0:\n",
    "    print('forms a triangle')\n",
    "else:\n",
    "    print('does not form a triangle')"
   ]
  },
  {
   "cell_type": "markdown",
   "id": "2c6fdde3",
   "metadata": {},
   "source": [
    "### Step-by-Step Breakdown\n",
    "\n",
    "#### 1. **User Input**\n",
    "\n",
    "- The program prompts the user to enter three angles, one at a time.\n",
    "- Each input is converted to an integer using `int()`, ensuring the program works with numbers.\n",
    "\n",
    "#### 2. **Triangle Angle Condition**\n",
    "\n",
    "- For three angles to form a triangle:\n",
    "  - **Sum must be exactly 180 degrees.**\n",
    "  - **Each angle must be greater than 0** (no negative or zero angles).\n",
    "\n",
    "#### 3. **Conditional Check**\n",
    "\n",
    "- The program uses an `if` statement to check both conditions:\n",
    "  - `(first + second + third) == 180`\n",
    "  - `first > 0`, `second > 0`, `third > 0`\n",
    "- If both are true, it prints `\"forms a triangle\"`.\n",
    "- Otherwise, it prints `\"does not form a triangle\"`."
   ]
  }
 ],
 "metadata": {
  "kernelspec": {
   "display_name": "Python 3",
   "language": "python",
   "name": "python3"
  },
  "language_info": {
   "codemirror_mode": {
    "name": "ipython",
    "version": 3
   },
   "file_extension": ".py",
   "mimetype": "text/x-python",
   "name": "python",
   "nbconvert_exporter": "python",
   "pygments_lexer": "ipython3",
   "version": "3.11.11"
  }
 },
 "nbformat": 4,
 "nbformat_minor": 5
}
