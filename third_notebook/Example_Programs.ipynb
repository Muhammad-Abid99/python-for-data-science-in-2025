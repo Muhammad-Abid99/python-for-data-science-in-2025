{
 "cells": [
  {
   "cell_type": "markdown",
   "id": "7d07135f-1bd9-4331-9dec-bf2f34328843",
   "metadata": {},
   "source": [
    "# In this Notebook we try to apply our completed previous concepts.\n",
    "\n",
    "**So I had wrote some example programs.**"
   ]
  },
  {
   "cell_type": "markdown",
   "id": "eae3fe32-4ae4-4980-a60a-e09648370e80",
   "metadata": {
    "jp-MarkdownHeadingCollapsed": true
   },
   "source": [
    "# First Program this is a solid beginner-level program."
   ]
  },
  {
   "cell_type": "markdown",
   "id": "26bcbe91-2abe-4d85-9a2c-fe918b3c11bb",
   "metadata": {},
   "source": [
    "**Program Description: Manual String Length Calculation**\n",
    "\n",
    "This Python program demonstrates a fundamental approach to determining the length of a string without utilizing built-in functions such as `len()`. It prompts the user to input a string and then iteratively counts the number of characters in the string by traversing each character one by one.\n",
    "\n",
    "### Detailed Explanation:\n",
    "\n",
    "1. **User Input:**  \n",
    "   The program begins by requesting the user to enter a string via the `input()` function, which captures the input as a sequence of characters.\n",
    "\n",
    "2. **Initialization of Counter:**  \n",
    "   A variable named `counter` is initialized to zero. This variable serves as an accumulator to keep track of the number of characters encountered during iteration.\n",
    "\n",
    "3. **Iterative Counting:**  \n",
    "   The program uses a `for` loop to iterate over each character in the input string. For every iteration (i.e., for each character), the counter is incremented by one. This process effectively counts all characters, including letters, digits, spaces, and special symbols.\n",
    "\n",
    "4. **Output:**  \n",
    "   After the loop completes, the program prints the total count, which represents the length of the string entered by the user.\n",
    "\n",
    "### Significance and Use Cases:\n",
    "\n",
    "- **Educational Value:**  \n",
    "  This program is an excellent exercise for beginners to understand string traversal, iteration, and manual counting mechanisms in Python.\n",
    "\n",
    "- **Algorithmic Insight:**  \n",
    "  It provides insight into how string length can be computed at a low level, which is foundational knowledge for understanding more complex string operations and algorithms.\n",
    "\n",
    "- **Avoiding Built-ins:**  \n",
    "  In scenarios where built-in functions are restricted or unavailable, this method offers a reliable alternative to determine string length."
   ]
  },
  {
   "cell_type": "code",
   "execution_count": 2,
   "id": "781ec174-db22-4250-86b3-3e30571c67a8",
   "metadata": {},
   "outputs": [
    {
     "name": "stdout",
     "output_type": "stream",
     "text": [
      "Enter the string hello\n"
     ]
    },
    {
     "name": "stdout",
     "output_type": "stream",
     "text": [
      "length of string is 5\n"
     ]
    }
   ],
   "source": [
    "# Find the length of a given string without using the len() function\n",
    "\n",
    "a = input('Enter the string')\n",
    "\n",
    "counter = 0\n",
    "\n",
    "for i in a:\n",
    "    counter += 1\n",
    "\n",
    "print('length of string is', counter)"
   ]
  },
  {
   "cell_type": "markdown",
   "id": "f4801bfb-d628-4a02-acb8-25f903833ab0",
   "metadata": {
    "jp-MarkdownHeadingCollapsed": true
   },
   "source": [
    "## Below are an optimized and enhanced version of first program.\n",
    "\n",
    "### Advance level Prgram:"
   ]
  },
  {
   "cell_type": "code",
   "execution_count": 3,
   "id": "febde040-cc44-43e3-9b6e-dd3a044047d0",
   "metadata": {},
   "outputs": [
    {
     "name": "stdout",
     "output_type": "stream",
     "text": [
      "Enter the string:  hello\n"
     ]
    },
    {
     "name": "stdout",
     "output_type": "stream",
     "text": [
      "Length of the string is 5\n"
     ]
    }
   ],
   "source": [
    "# Find the length of a given string without using the len() function\n",
    "\n",
    "def get_string_length(s: str) -> int:\n",
    "    \"\"\"Calculate the length of a string without using len().\"\"\"\n",
    "    counter = 0\n",
    "    for _ in s:\n",
    "        counter += 1\n",
    "    return counter\n",
    "\n",
    "if __name__ == \"__main__\":\n",
    "    user_input = input(\"Enter the string: \")\n",
    "    length = get_string_length(user_input)\n",
    "    print(f\"Length of the string is {length}\")\n"
   ]
  },
  {
   "cell_type": "markdown",
   "id": "fef3cd7c-f1b1-4245-aeeb-29a5f4f07e31",
   "metadata": {},
   "source": [
    "### Optimizations and Improvements Explained\n",
    "\n",
    "1. **Function Encapsulation:**  \n",
    "   Wrapping the length calculation logic inside a function (`get_string_length`) improves modularity and reusability. This makes the code cleaner and easier to maintain or test.\n",
    "\n",
    "2. **Use of Underscore (`_`) in Loop:**  \n",
    "   Since the loop variable is not used inside the loop body, using `_` as the variable name is a Python convention indicating the variable is intentionally unused.\n",
    "\n",
    "3. **Type Hinting:**  \n",
    "   Adding type hints (`s: str` and `-> int`) improves code readability and helps with static analysis tools, making the code more professional and maintainable.\n",
    "\n",
    "4. **`if __name__ == \"__main__\":` Guard:**  \n",
    "   This allows the script to be imported as a module without executing the input/output code, which is a good practice for writing Python scripts.\n",
    "\n",
    "5. **Formatted String (f-string):**  \n",
    "   Using f-strings for output improves readability and efficiency compared to string concatenation."
   ]
  },
  {
   "cell_type": "markdown",
   "id": "96e03e22-7af5-432e-b6f1-2077142c5a31",
   "metadata": {
    "jp-MarkdownHeadingCollapsed": true
   },
   "source": [
    "# Second Program for Absolutely beginner-level:"
   ]
  },
  {
   "cell_type": "markdown",
   "id": "6b1d482b-60d4-4415-b865-17d2f2729754",
   "metadata": {
    "jp-MarkdownHeadingCollapsed": true
   },
   "source": [
    "## Program Description:"
   ]
  },
  {
   "cell_type": "markdown",
   "id": "0b7c039e-08a3-463e-b6c4-461d5505a339",
   "metadata": {},
   "source": [
    "**Extracting the Username from an Email Address Using `.index()` and `.find()`**\n",
    "\n",
    "This Python program demonstrates two distinct approaches to extracting the username portion of an email address (the substring before the `@` symbol) using the string methods `.index()` and `.find()`. The username is the unique identifier before the domain in an email address (e.g., in `ghulam34muhammad@gmail.com`, the username is `ghulam34muhammad`).\n",
    "\n",
    "### Step-by-Step Explanation\n",
    "\n",
    "#### 1. Using `.index()` Method\n",
    "\n",
    "- **User Input:**  \n",
    "  The program prompts the user to enter an email address.\n",
    "- **Finding the `@` Symbol:**  \n",
    "  The `.index('@')` method is used to determine the position (index) of the `@` character in the email string. This method raises a `ValueError` if the character is not found, which can be useful for enforcing valid email input.\n",
    "- **Extracting the Username:**  \n",
    "  The program slices the string from the beginning up to (but not including) the `@` symbol using `mail[0:possition]`.\n",
    "- **Output:**  \n",
    "  The username is printed to the user.\n",
    "\n",
    "#### 2. Using `.find()` Method\n",
    "\n",
    "- **User Input:**  \n",
    "  The program again prompts the user to enter an email address.\n",
    "- **Finding the `@` Symbol:**  \n",
    "  The `.find('@')` method is used to locate the position of the `@` character. Unlike `.index()`, `.find()` returns `-1` if the character is not found, allowing for more graceful error handling.\n",
    "- **Extracting the Username:**  \n",
    "  The substring before the `@` symbol is extracted in the same way as before.\n",
    "- **Output:**  \n",
    "  The username is displayed.\n",
    "\n",
    "### Key Concepts and Expertise Demonstrated\n",
    "\n",
    "- **String Manipulation:**  \n",
    "  The program showcases fundamental string slicing techniques to extract substrings based on character positions.\n",
    "- **Method Differences:**  \n",
    "  By using both `.index()` and `.find()`, the program illustrates the subtle but important differences between these methods:\n",
    "  - `.index()` is strict and will raise an error if the character is not found.\n",
    "  - `.find()` is more forgiving and returns `-1`, allowing for custom error handling.\n",
    "- **Input Validation (Potential Extension):**  \n",
    "  While the current program does not handle invalid input, it sets the stage for discussing robust input validation, which is crucial in production code.\n",
    "\n",
    "### Practical Applications\n",
    "\n",
    "- **User Data Processing:**  \n",
    "  Extracting usernames from email addresses is a common requirement in user registration systems, authentication workflows, and data analytics.\n",
    "- **Error Handling Awareness:**  \n",
    "  Understanding the difference between `.index()` and `.find()` is essential for writing robust and user-friendly applications.\n",
    "\n",
    "**In summary:**  \n",
    "This program provides a clear, practical demonstration of extracting the username from an email address using two different string search methods, highlighting their behaviors and potential use cases. It’s a valuable exercise for understanding string operations and method selection in Python."
   ]
  },
  {
   "cell_type": "code",
   "execution_count": 4,
   "id": "c8eb3108-3ad9-4eaa-90d7-ebc03c431779",
   "metadata": {},
   "outputs": [
    {
     "name": "stdout",
     "output_type": "stream",
     "text": [
      "Enter the email abid@gmail.com\n"
     ]
    },
    {
     "name": "stdout",
     "output_type": "stream",
     "text": [
      "User Name is --> abid\n"
     ]
    }
   ],
   "source": [
    "# Extract username from a given email.\n",
    "# Eg if the email is ghulam34muhammad@gmail.com\n",
    "# then the username should be ghulam34muhammad.\n",
    "\n",
    "# Remember here we use \".index\" function to find the possition of \"@\"\n",
    "\n",
    "mail = input('Enter the email')\n",
    "\n",
    "possition = mail.index('@')\n",
    "\n",
    "print('User Name is -->', mail[0:possition])"
   ]
  },
  {
   "cell_type": "code",
   "execution_count": 5,
   "id": "766d8142-065b-4a16-967d-31c3aa4ba076",
   "metadata": {},
   "outputs": [
    {
     "name": "stdout",
     "output_type": "stream",
     "text": [
      "Enter the email zahid@gmail.com\n"
     ]
    },
    {
     "name": "stdout",
     "output_type": "stream",
     "text": [
      "User Name is --> zahid\n"
     ]
    }
   ],
   "source": [
    "# Here we use \".find\" function to find the possition.\n",
    "\n",
    "mail = input('Enter the email')\n",
    "\n",
    "possition = mail.find('@')\n",
    "\n",
    "print('User Name is -->', mail[0:possition])"
   ]
  },
  {
   "cell_type": "markdown",
   "id": "309704fe-c6e4-4a19-bb45-e8caaae96417",
   "metadata": {
    "jp-MarkdownHeadingCollapsed": true
   },
   "source": [
    "## Advance version of second program Mentioned below:"
   ]
  },
  {
   "cell_type": "code",
   "execution_count": 6,
   "id": "002a7279-6a08-456f-9cb1-ea41d247924f",
   "metadata": {},
   "outputs": [
    {
     "name": "stdout",
     "output_type": "stream",
     "text": [
      "Enter the email address:  sabir@gmail.com\n"
     ]
    },
    {
     "name": "stdout",
     "output_type": "stream",
     "text": [
      "Username is --> sabir\n"
     ]
    }
   ],
   "source": [
    "def extract_username(email: str) -> str:\n",
    "    \"\"\"\n",
    "    Extracts the username from an email address.\n",
    "    Returns the substring before the '@' symbol.\n",
    "    Raises ValueError if the email is invalid.\n",
    "    \"\"\"\n",
    "    at_pos = email.find('@')\n",
    "    if at_pos == -1:\n",
    "        raise ValueError(\"Invalid email address: '@' symbol not found.\")\n",
    "    if at_pos == 0:\n",
    "        raise ValueError(\"Invalid email address: username is missing.\")\n",
    "    return email[:at_pos]\n",
    "\n",
    "def main():\n",
    "    email = input(\"Enter the email address: \").strip()\n",
    "    try:\n",
    "        username = extract_username(email)\n",
    "        print(f\"Username is --> {username}\")\n",
    "    except ValueError as e:\n",
    "        print(f\"Error: {e}\")\n",
    "\n",
    "if __name__ == \"__main__\":\n",
    "    main()\n"
   ]
  },
  {
   "cell_type": "markdown",
   "id": "1f7fe1e2-082c-43ec-b428-dafabbd2a968",
   "metadata": {
    "jp-MarkdownHeadingCollapsed": true
   },
   "source": [
    "## Improvements Explanation:"
   ]
  },
  {
   "cell_type": "markdown",
   "id": "7109d53d-d2ce-4e22-b91e-ba4d35f822ee",
   "metadata": {},
   "source": [
    "### 1. **Function Encapsulation**\n",
    "- The extraction logic is placed in a function `extract_username`, promoting code reuse, maintainability, and testability.\n",
    "\n",
    "### 2. **Error Handling**\n",
    "- The function checks for the presence and position of the `@` symbol:\n",
    "    - Raises an error if `@` is missing.\n",
    "    - Raises an error if the username is empty (i.e., if the email starts with `@`).\n",
    "- Errors are handled gracefully in the `main()` function using `try...except`, providing clear feedback to the user.\n",
    "\n",
    "### 3. **Input Sanitization**\n",
    "- The input is stripped of leading/trailing whitespace to prevent accidental formatting errors.\n",
    "\n",
    "### 4. **Type Hinting and Docstrings**\n",
    "- The function uses type hints and a descriptive docstring, following Python best practices for clarity and documentation.\n",
    "\n",
    "### 5. **Script Entry Point**\n",
    "- The `if __name__ == \"__main__\":` guard ensures the script can be imported as a module without running the main logic, which is a hallmark of professional Python scripts.\n",
    "\n",
    "### 6. **User Experience**\n",
    "- The output is clear and user-friendly, and errors are reported in a helpful way.\n",
    "\n",
    "---\n",
    "\n",
    "### Why This Is Advanced\n",
    "\n",
    "- **Robustness:** Handles invalid input and edge cases.\n",
    "- **Readability:** Clearly structured and documented.\n",
    "- **Reusability:** Logic is encapsulated for easy reuse or extension.\n",
    "- **Professional Standards:** Follows conventions used in real-world Python projects.\n"
   ]
  },
  {
   "cell_type": "markdown",
   "id": "492aedb4-a5d9-44e5-a12d-00d651070195",
   "metadata": {
    "jp-MarkdownHeadingCollapsed": true
   },
   "source": [
    "# Third Program for Beginner Level"
   ]
  },
  {
   "cell_type": "markdown",
   "id": "7c61107c-7d14-4e25-9fbb-4392545389bc",
   "metadata": {},
   "source": [
    "## Program Description: Character Frequency Counter in a String\n",
    "\n",
    "This Python program is designed to count the frequency of a specific character within a user-provided string. It prompts the user to input a string and then asks which character's occurrence they want to count. The program then iterates through the string, tallying how many times the specified character appears, and finally outputs the count.\n",
    "\n",
    "### Detailed Explanation:\n",
    "\n",
    "1. **User Input:**\n",
    "   - The program first requests a string input from the user.\n",
    "   - It then asks the user to specify the character whose frequency they want to determine.\n",
    "\n",
    "2. **Frequency Counting Logic:**\n",
    "   - A counter variable is initialized to zero to keep track of occurrences.\n",
    "   - The program uses a `for` loop to iterate over each character in the input string.\n",
    "   - Inside the loop, it compares each character with the target character.\n",
    "   - If a match is found, the counter increments by one.\n",
    "\n",
    "3. **Output:**\n",
    "   - After completing the iteration, the program prints the total frequency of the searched character.\n",
    "\n",
    "### Key Concepts Demonstrated:\n",
    "\n",
    "- **String Traversal:**  \n",
    "  The program demonstrates how to iterate over each character in a string sequentially.\n",
    "\n",
    "- **Conditional Checking:**  \n",
    "  It uses conditional statements to compare characters and selectively count matches.\n",
    "\n",
    "- **User Interaction:**  \n",
    "  The program dynamically accepts input, making it flexible for different strings and characters.\n",
    "\n",
    "\n",
    "This program serves as an excellent exercise for beginners to understand iteration, conditional logic, and basic string manipulation in Python."
   ]
  },
  {
   "cell_type": "code",
   "execution_count": 7,
   "id": "bd4e00b1-812f-43fc-8346-f09a82d9394b",
   "metadata": {},
   "outputs": [
    {
     "name": "stdout",
     "output_type": "stream",
     "text": [
      "Enter the string hello how hi hey!\n",
      "What would you like to search for? h\n"
     ]
    },
    {
     "name": "stdout",
     "output_type": "stream",
     "text": [
      "frequency of your searched character is -->  4\n"
     ]
    }
   ],
   "source": [
    "# Count the frequency of a particular character in a provided string.\n",
    "# Eg 'hello how are you' is the string, the frequency of h in this string is 2.\n",
    "\n",
    "string = input('Enter the string')\n",
    "character = input('What would you like to search for?')\n",
    "\n",
    "counter = 0\n",
    "for i in string:\n",
    "    if i == character:\n",
    "        counter += 1\n",
    "print('frequency of your searched character is --> ', counter)"
   ]
  },
  {
   "cell_type": "markdown",
   "id": "4b188740-dbbf-4b18-8f7b-f9ef380aa77a",
   "metadata": {
    "jp-MarkdownHeadingCollapsed": true
   },
   "source": [
    "## This is an Optimized and Advanced Version:"
   ]
  },
  {
   "cell_type": "code",
   "execution_count": 8,
   "id": "3deb08dc-871a-4b8c-baec-20ab1a16ad84",
   "metadata": {},
   "outputs": [
    {
     "name": "stdout",
     "output_type": "stream",
     "text": [
      "Enter the string:  hello how\n",
      "What character would you like to search for?  o\n"
     ]
    },
    {
     "name": "stdout",
     "output_type": "stream",
     "text": [
      "Frequency of 'o' in the given string is --> 2\n"
     ]
    }
   ],
   "source": [
    "# Count the frequency of a particular character in a provided string.\n",
    "\n",
    "def count_character_frequency(text: str, char: str, case_sensitive: bool = True) -> int:\n",
    "    \"\"\"\n",
    "    Counts the frequency of a specified character in a given string.\n",
    "\n",
    "    Parameters:\n",
    "        text (str): The input string in which to count occurrences.\n",
    "        char (str): The character to count.\n",
    "        case_sensitive (bool): Whether the count should be case-sensitive. Defaults to True.\n",
    "\n",
    "    Returns:\n",
    "        int: The number of times the character appears in the string.\n",
    "\n",
    "    Raises:\n",
    "        ValueError: If 'char' is not a single character.\n",
    "    \"\"\"\n",
    "    if len(char) != 1:\n",
    "        raise ValueError(\"The search character must be a single character.\")\n",
    "\n",
    "    if not case_sensitive:\n",
    "        text = text.lower()\n",
    "        char = char.lower()\n",
    "\n",
    "    return text.count(char)\n",
    "\n",
    "\n",
    "def main():\n",
    "    user_string = input(\"Enter the string: \").strip()\n",
    "    search_char = input(\"What character would you like to search for? \").strip()\n",
    "\n",
    "    try:\n",
    "        frequency = count_character_frequency(user_string, search_char, case_sensitive=False)\n",
    "        print(f\"Frequency of '{search_char}' in the given string is --> {frequency}\")\n",
    "    except ValueError as e:\n",
    "        print(f\"Error: {e}\")\n",
    "\n",
    "\n",
    "if __name__ == \"__main__\":\n",
    "    main()\n"
   ]
  },
  {
   "cell_type": "markdown",
   "id": "11e9c791-0388-405c-80e2-89fab1140cf7",
   "metadata": {},
   "source": [
    "## Improvements Explained\n",
    "\n",
    "### 1. **Function Encapsulation**\n",
    "- The core logic is encapsulated in a reusable function `count_character_frequency`, which promotes modularity, easier testing, and reusability.\n",
    "\n",
    "### 2. **Input Validation**\n",
    "- The function validates that the search character is exactly one character long, preventing unexpected behavior or errors.\n",
    "\n",
    "### 3. **Case Sensitivity Option**\n",
    "- Added a `case_sensitive` parameter to allow counting characters either case-sensitively or insensitively.\n",
    "- The example usage in `main()` uses case-insensitive counting by converting both the string and character to lowercase before counting.\n",
    "\n",
    "### 4. **Use of Built-in String Method**\n",
    "- Instead of manually iterating over the string, the function leverages Python’s efficient built-in `str.count()` method, which is optimized and concise.\n",
    "\n",
    "### 5. **User Input Sanitization**\n",
    "- The inputs are stripped of leading and trailing whitespace to avoid counting errors caused by accidental spaces.\n",
    "\n",
    "### 6. **Error Handling**\n",
    "- The program uses a `try-except` block to catch and report input validation errors gracefully.\n",
    "\n",
    "### 7. **Script Entry Point**\n",
    "- The `if __name__ == \"__main__\":` guard allows the script to be imported as a module without executing the main routine, adhering to Python best practices.\n",
    "\n",
    "---\n",
    "\n",
    "## Why This Version Is Advanced\n",
    "\n",
    "- **Robustness:** Handles invalid inputs and provides meaningful error messages.\n",
    "- **Flexibility:** Supports case-sensitive and case-insensitive counting.\n",
    "- **Efficiency:** Uses Python’s optimized built-in methods rather than manual loops.\n",
    "- **Maintainability:** Clear separation of concerns with well-documented functions.\n",
    "- **User Experience:** Clean input handling and informative output.\n"
   ]
  },
  {
   "cell_type": "markdown",
   "id": "48d5bbf4-a578-4c00-8fb5-d6f48ffc1296",
   "metadata": {
    "jp-MarkdownHeadingCollapsed": true
   },
   "source": [
    "# Fourth Program"
   ]
  },
  {
   "cell_type": "code",
   "execution_count": 9,
   "id": "687ebbeb-659b-4ba5-bad9-38cda55f8310",
   "metadata": {},
   "outputs": [
    {
     "name": "stdout",
     "output_type": "stream",
     "text": [
      "Enter the string hello\n",
      "What would you like to remove l\n"
     ]
    },
    {
     "name": "stdout",
     "output_type": "stream",
     "text": [
      "After remove particular character your output is --> heo\n"
     ]
    }
   ],
   "source": [
    "# Write a program which can remove a particular character from a string.\n",
    "\n",
    "string = input('Enter the string')\n",
    "character = input('What would you like to remove')\n",
    "\n",
    "# Remember python string are immutable so we can't change it but here we can remove specific character\n",
    "# so memorise perevious concept.\n",
    "\n",
    "result = ''\n",
    "\n",
    "for i in string:\n",
    "    if i != character:\n",
    "        result = result + i\n",
    "print('After remove particular character your output is -->', result)\n"
   ]
  },
  {
   "cell_type": "markdown",
   "id": "9fb49382-f1de-4270-863d-bfae7a616095",
   "metadata": {
    "jp-MarkdownHeadingCollapsed": true
   },
   "source": [
    "## Description"
   ]
  },
  {
   "cell_type": "markdown",
   "id": "d010f5ed-aeb2-4ca5-afc1-1c53e4842462",
   "metadata": {},
   "source": [
    "#### **Program Objective**\n",
    "\n",
    "The program is designed to **remove all occurrences of a user-specified character from a given string**. It takes two inputs from the user: the original string and the character to be removed. The output is the modified string with all instances of that character eliminated.\n",
    "\n",
    "\n",
    "### **Step-by-Step Analysis**\n",
    "\n",
    "#### **1. User Input**\n",
    "```python\n",
    "string = input('Enter the string')\n",
    "character = input('What would you like to remove')\n",
    "```\n",
    "- The program prompts the user to enter a string (`string`) and the character to remove (`character`).\n",
    "\n",
    "\n",
    "#### **2. String Immutability**\n",
    "- The comment highlights that **Python strings are immutable**-meaning, once created, their contents cannot be changed in place.\n",
    "- To \"remove\" characters, a new string must be constructed.\n",
    "\n",
    "#### **3. Iterative Removal Logic**\n",
    "```python\n",
    "result = ''\n",
    "\n",
    "for i in string:\n",
    "    if i != character:\n",
    "        result = result + i\n",
    "```\n",
    "- **Initialization:** An empty string `result` is used to accumulate the filtered characters.\n",
    "- **Iteration:** The program iterates over each character `i` in the original string.\n",
    "- **Condition:** If `i` is **not** equal to the character to be removed, it is concatenated to `result`.\n",
    "    - This effectively skips all instances of the specified character.\n",
    "\n",
    "#### **4. Output**\n",
    "```python\n",
    "print('After remove particular character your output is -->', result)\n",
    "```\n",
    "- The final, filtered string is displayed to the user.\n",
    "\n",
    "---\n",
    "\n",
    "### **Example Execution**\n",
    "\n",
    "**Input:**\n",
    "```\n",
    "Enter the string: programming\n",
    "What would you like to remove: g\n",
    "```\n",
    "\n",
    "**Output:**\n",
    "```\n",
    "After remove particular character your output is --> proramin\n",
    "```\n",
    "\n",
    "\n",
    "### **Summary**\n",
    "\n",
    "This program demonstrates fundamental concepts in Python:\n",
    "- Handling user input\n",
    "- String immutability\n",
    "- Iterative filtering and string construction\n",
    "\n",
    "It’s a classic beginner exercise that reinforces control flow, string manipulation, and the importance of understanding how Python handles immutable data types. For further learning, explore more efficient or Pythonic ways to achieve the same result, and consider input validation for robustness."
   ]
  },
  {
   "cell_type": "markdown",
   "id": "312346d7-3c89-4ffb-ae4a-bd02bedb2223",
   "metadata": {
    "jp-MarkdownHeadingCollapsed": true
   },
   "source": [
    "## Advanced Version of Character Removal Program"
   ]
  },
  {
   "cell_type": "code",
   "execution_count": 10,
   "id": "4e4066cf-5453-4b54-ac93-98b2f5730a92",
   "metadata": {},
   "outputs": [
    {
     "name": "stdout",
     "output_type": "stream",
     "text": [
      "Enter the string:  hello how \n",
      "Enter the character to remove (single character only):  o\n"
     ]
    },
    {
     "name": "stdout",
     "output_type": "stream",
     "text": [
      "Result after removing 'o': hell hw \n"
     ]
    }
   ],
   "source": [
    "def remove_character_from_string(input_string: str, char_to_remove: str) -> str:\n",
    "    \"\"\"\n",
    "    Remove all occurrences of a specified character from the input string.\n",
    "\n",
    "    Parameters:\n",
    "        input_string (str): The original string.\n",
    "        char_to_remove (str): The character to remove. Must be a single character.\n",
    "\n",
    "    Returns:\n",
    "        str: The string after removing all instances of char_to_remove.\n",
    "    \"\"\"\n",
    "    if len(char_to_remove) != 1:\n",
    "        raise ValueError(\"The character to remove must be a single character.\")\n",
    "\n",
    "    # Using list comprehension and join for efficient string construction\n",
    "    filtered_chars = [ch for ch in input_string if ch != char_to_remove]\n",
    "    return ''.join(filtered_chars)\n",
    "\n",
    "\n",
    "def main():\n",
    "    try:\n",
    "        user_string = input(\"Enter the string: \")\n",
    "        char_to_remove = input(\"Enter the character to remove (single character only): \")\n",
    "\n",
    "        # Validate input\n",
    "        if len(char_to_remove) != 1:\n",
    "            print(\"Error: Please enter exactly one character to remove.\")\n",
    "            return\n",
    "\n",
    "        result = remove_character_from_string(user_string, char_to_remove)\n",
    "        print(f\"Result after removing '{char_to_remove}': {result}\")\n",
    "\n",
    "    except Exception as e:\n",
    "        print(f\"An error occurred: {e}\")\n",
    "\n",
    "\n",
    "if __name__ == \"__main__\":\n",
    "    main()\n"
   ]
  },
  {
   "cell_type": "markdown",
   "id": "3bd7b97c-0308-4ce2-8923-959f84ba904b",
   "metadata": {
    "jp-MarkdownHeadingCollapsed": true
   },
   "source": [
    "## Explanation of Improvements"
   ]
  },
  {
   "cell_type": "markdown",
   "id": "5bee1ca7-e05d-41ee-b9c0-8564c600196a",
   "metadata": {},
   "source": [
    "### 1. **Function Encapsulation**\n",
    "- The core logic is encapsulated in a reusable function `remove_character_from_string` with clear input and output.\n",
    "- This improves modularity, testability, and reusability.\n",
    "\n",
    "### 2. **Input Validation**\n",
    "- The function and main program check that the character to remove is exactly one character.\n",
    "- This prevents unintended behavior if the user inputs an empty string or multiple characters.\n",
    "\n",
    "### 3. **Efficient String Construction**\n",
    "- Instead of concatenating strings in a loop (which is inefficient), the program uses a **list comprehension** to collect characters and then joins them once.\n",
    "- This approach is much faster and more memory-efficient for longer strings.\n",
    "\n",
    "### 4. **Error Handling**\n",
    "- The program gracefully handles errors and informs the user if invalid input is provided.\n",
    "- This makes the program more robust and user-friendly.\n",
    "\n",
    "### 5. **Pythonic and Readable**\n",
    "- The code follows Python best practices including:\n",
    "  - Docstrings for documentation\n",
    "  - Meaningful variable names\n",
    "  - Clear separation of concerns (input/output vs. processing)\n",
    "  - Use of f-strings for clean output formatting\n",
    "\n",
    "---\n",
    "\n",
    "### Example Run\n",
    "\n",
    "```\n",
    "Enter the string: Hello, World!\n",
    "Enter the character to remove (single character only): l\n",
    "Result after removing 'l': Heo, Word!\n",
    "```"
   ]
  },
  {
   "cell_type": "markdown",
   "id": "98522eb6-a465-4647-ba89-81ae2b84c6ba",
   "metadata": {
    "jp-MarkdownHeadingCollapsed": true
   },
   "source": [
    "# Fifth Program"
   ]
  },
  {
   "cell_type": "code",
   "execution_count": 11,
   "id": "f69528fb-1cf9-4671-a29c-0f21adfddf4d",
   "metadata": {},
   "outputs": [
    {
     "name": "stdout",
     "output_type": "stream",
     "text": [
      "Enter the string abba\n"
     ]
    },
    {
     "name": "stdout",
     "output_type": "stream",
     "text": [
      "Palindrome\n"
     ]
    }
   ],
   "source": [
    "# Write a program that can check whether a given string is palindrome or not.\n",
    "# abba\n",
    "# malayalam\n",
    "# racecar\n",
    "\n",
    "s = input('Enter the string')\n",
    "flag = True\n",
    "for i in range(0,len(s)//2): # here integer division\n",
    "    if s[i] != s[len(s) -i -1]:\n",
    "        flag = False\n",
    "        print('Not a palindrome')\n",
    "        break\n",
    "\n",
    "if flag:\n",
    "    print('Palindrome')"
   ]
  },
  {
   "cell_type": "markdown",
   "id": "1c2ff225-ce5e-45a8-9941-91052a62b5aa",
   "metadata": {
    "jp-MarkdownHeadingCollapsed": true
   },
   "source": [
    "## Description of Palindrome Program"
   ]
  },
  {
   "cell_type": "markdown",
   "id": "e71f0963-ddd7-4b3a-8765-587e1561ea5d",
   "metadata": {
    "jp-MarkdownHeadingCollapsed": true
   },
   "source": [
    "### **Program Objective**\n",
    "\n",
    "The program determines whether a given string is a **palindrome**-a word, phrase, or sequence that reads the same backward as forward (e.g., \"abba\", \"racecar\", \"malayalam\").\n",
    "\n",
    "\n",
    "### **Step-by-Step Analysis**\n",
    "\n",
    "#### **1. User Input**\n",
    "```python\n",
    "s = input('Enter the string')\n",
    "```\n",
    "- The program prompts the user to enter a string (`s`), which will be checked for the palindrome property.\n",
    "\n",
    "#### **2. Flag Initialization**\n",
    "```python\n",
    "flag = True\n",
    "```\n",
    "- A Boolean flag `flag` is initialized to `True`. This flag will be used to track whether the string remains a palindrome as the program checks each character.\n",
    "\n",
    "#### **3. Iterative Character Comparison**\n",
    "```python\n",
    "for i in range(0, len(s)//2):\n",
    "    if s[i] != s[len(s) - i - 1]:\n",
    "        flag = False\n",
    "        print('Not a palindrome')\n",
    "        break\n",
    "```\n",
    "- **Range:** The loop iterates from `0` up to (but not including) `len(s)//2`. This covers the first half of the string.\n",
    "    - **Why only half?**: In a palindrome, only the first half needs to be compared to the mirrored second half.\n",
    "- **Comparison:** For each index `i`, the character at position `i` (`s[i]`) is compared to its \"mirror\" position from the end (`s[len(s) - i - 1]`).\n",
    "- **Mismatch Handling:** If any pair does not match:\n",
    "    - The flag is set to `False`.\n",
    "    - \"Not a palindrome\" is printed.\n",
    "    - The loop is terminated early using `break`, as there's no need to check further.\n",
    "\n",
    "#### **4. Final Output**\n",
    "```python\n",
    "if flag:\n",
    "    print('Palindrome')\n",
    "```\n",
    "- After the loop, if the flag is still `True`, it means all compared characters matched, so the string is a palindrome.\n",
    "- Otherwise, the message \"Not a palindrome\" has already been printed during the loop.\n",
    "\n",
    "---\n",
    "\n",
    "### **Example Execution**\n",
    "\n",
    "**Input:**\n",
    "```\n",
    "Enter the string: racecar\n",
    "```\n",
    "\n",
    "**Output:**\n",
    "```\n",
    "Palindrome\n",
    "```\n",
    "\n",
    "**Input:**\n",
    "```\n",
    "Enter the string: hello\n",
    "```\n",
    "\n",
    "**Output:**\n",
    "```\n",
    "Not a palindrome\n",
    "```\n",
    "\n",
    "### **Summary**\n",
    "\n",
    "This program demonstrates:\n",
    "- String indexing and slicing\n",
    "- Control flow with flags and loops\n",
    "- Efficient early exit on mismatch\n",
    "\n",
    "It’s a classic beginner exercise that reinforces fundamental programming concepts and string manipulation in Python.\n"
   ]
  },
  {
   "cell_type": "markdown",
   "id": "ed97a2ae-28a9-4ec3-8b51-381c73b03bb9",
   "metadata": {
    "jp-MarkdownHeadingCollapsed": true
   },
   "source": [
    "## Advanced Palindrome Checker in Python"
   ]
  },
  {
   "cell_type": "code",
   "execution_count": 16,
   "id": "acc3abd3-f13a-48c3-8798-6ae1062ccef7",
   "metadata": {
    "scrolled": true
   },
   "outputs": [
    {
     "name": "stdout",
     "output_type": "stream",
     "text": [
      "Enter the string:  racecar\n"
     ]
    },
    {
     "name": "stdout",
     "output_type": "stream",
     "text": [
      "Palindrome\n"
     ]
    }
   ],
   "source": [
    "import unicodedata\n",
    "import sys\n",
    "\n",
    "def normalize_string(s: str) -> str:\n",
    "    \"\"\"\n",
    "    Normalize the input string by:\n",
    "    - Converting to Unicode Normal Form KC (compatibility decomposition, followed by canonical composition)\n",
    "    - Removing all non-alphanumeric characters\n",
    "    - Converting to lowercase for case-insensitive comparison\n",
    "    \n",
    "    This ensures that visually identical characters with different Unicode representations are treated equally.\n",
    "    \"\"\"\n",
    "    # Normalize Unicode characters to a consistent form\n",
    "    normalized = unicodedata.normalize('NFKC', s)\n",
    "    \n",
    "    # Filter out non-alphanumeric characters and convert to lowercase\n",
    "    filtered = ''.join(ch.lower() for ch in normalized if ch.isalnum())\n",
    "    \n",
    "    return filtered\n",
    "\n",
    "def is_palindrome(s: str) -> bool:\n",
    "    \"\"\"\n",
    "    Check if the normalized string is a palindrome.\n",
    "    \n",
    "    Uses a two-pointer approach for O(n) time complexity and O(1) extra space.\n",
    "    \"\"\"\n",
    "    left, right = 0, len(s) - 1\n",
    "    \n",
    "    while left < right:\n",
    "        if s[left] != s[right]:\n",
    "            return False\n",
    "        left += 1\n",
    "        right -= 1\n",
    "    \n",
    "    return True\n",
    "\n",
    "def main():\n",
    "    \"\"\"\n",
    "    Main function to run the palindrome checker.\n",
    "    Reads input from the user, normalizes it, and prints the result.\n",
    "    \"\"\"\n",
    "    s = input(\"Enter the string: \")\n",
    "    \n",
    "    # Normalize input string for robust palindrome checking\n",
    "    normalized_str = normalize_string(s)\n",
    "    \n",
    "    # Edge case: empty or single-character strings are palindromes by definition\n",
    "    if len(normalized_str) <= 1:\n",
    "        print(\"Palindrome\")\n",
    "        return\n",
    "    \n",
    "    # Check palindrome status\n",
    "    if is_palindrome(normalized_str):\n",
    "        print(\"Palindrome\")\n",
    "    else:\n",
    "        print(\"Not a palindrome\")\n",
    "\n",
    "if __name__ == \"__main__\":\n",
    "    main()\n"
   ]
  },
  {
   "cell_type": "markdown",
   "id": "09a91d28-4c53-4710-b1d0-aced7fd377ef",
   "metadata": {},
   "source": [
    "### Explanation"
   ]
  },
  {
   "cell_type": "markdown",
   "id": "9b66aeca-3ada-42ef-b48a-e37af713e8db",
   "metadata": {},
   "source": [
    "#### 1. Unicode Normalization\n",
    "- Strings may contain visually identical characters represented differently in Unicode (e.g., accented characters).\n",
    "- Using `unicodedata.normalize('NFKC', s)` converts characters to a canonical form, improving accuracy.\n",
    "\n",
    "#### 2. Filtering Non-Alphanumeric Characters\n",
    "- Palindromes should be checked ignoring spaces, punctuation, and symbols.\n",
    "- We keep only alphanumeric characters (`ch.isalnum()`), making the check more flexible and realistic.\n",
    "\n",
    "#### 3. Case Insensitivity\n",
    "- Convert all characters to lowercase to treat uppercase and lowercase letters as equal.\n",
    "\n",
    "#### 4. Two-Pointer Technique\n",
    "- Instead of reversing the string or using extra memory, two pointers check characters from both ends moving inward.\n",
    "- This approach is efficient (O(n) time, O(1) space).\n",
    "\n",
    "#### 5. Edge Cases\n",
    "- Empty strings or strings with one character are trivially palindromes.\n",
    "- The program handles these gracefully without unnecessary computation.\n",
    "\n",
    "#### 6. Modular Design\n",
    "- Separation of concerns: normalization and palindrome checking are distinct functions.\n",
    "- This makes the code easier to maintain, test, and extend.\n",
    "\n",
    "\n",
    "#### Example Runs\n",
    "\n",
    "```\n",
    "Enter the string: A man, a plan, a canal: Panama\n",
    "Palindrome\n",
    "\n",
    "Enter the string: racecar\n",
    "Palindrome\n",
    "\n",
    "Enter the string: Hello, World!\n",
    "Not a palindrome\n",
    "\n",
    "Enter the string: 𝓜𝓪𝓵𝓪𝔂𝓪𝓵𝓪𝓶\n",
    "Palindrome\n",
    "```\n"
   ]
  },
  {
   "cell_type": "markdown",
   "id": "e92898eb-fc4a-476e-a06c-9a3401cdc20a",
   "metadata": {
    "jp-MarkdownHeadingCollapsed": true
   },
   "source": [
    "# Sixth Program"
   ]
  },
  {
   "cell_type": "code",
   "execution_count": 6,
   "id": "0205f694-a22a-462e-b739-223a7837b048",
   "metadata": {},
   "outputs": [
    {
     "name": "stdout",
     "output_type": "stream",
     "text": [
      "Enter the string hello how are you\n"
     ]
    },
    {
     "name": "stdout",
     "output_type": "stream",
     "text": [
      "['hello', 'how', 'are']\n"
     ]
    }
   ],
   "source": [
    "# Write a program to count the number of words in a string without split()\n",
    "\n",
    "# It's not be pushed at github only this\n",
    "\n",
    "s = input('Enter the string')\n",
    "L = []\n",
    "temp = ''\n",
    "for i in s:\n",
    "    if i != ' ':\n",
    "        temp = temp + i\n",
    "    else:\n",
    "        L.append(temp)\n",
    "        temp = ''\n",
    "print(L)"
   ]
  },
  {
   "cell_type": "code",
   "execution_count": 3,
   "id": "ee5c95a3-67ea-4593-ac1d-666ebf607ced",
   "metadata": {},
   "outputs": [
    {
     "name": "stdout",
     "output_type": "stream",
     "text": [
      "Enter the string hello how are you\n"
     ]
    },
    {
     "name": "stdout",
     "output_type": "stream",
     "text": [
      "['hello', 'how', 'are', 'you']\n"
     ]
    }
   ],
   "source": [
    "# Write a program to count the number of words in a string without \"split()\" function.\n",
    "\n",
    "s = input('Enter the string')\n",
    "L = []\n",
    "temp = ''\n",
    "for i in s:\n",
    "    if i != ' ':\n",
    "        temp = temp + i\n",
    "    else:\n",
    "        L.append(temp)\n",
    "        temp = ''\n",
    "L.append(temp) # To print last word also\n",
    "print(L)"
   ]
  },
  {
   "cell_type": "markdown",
   "id": "9c28b63b-2262-4c4c-9eb7-f4cb4077d9f0",
   "metadata": {
    "jp-MarkdownHeadingCollapsed": true
   },
   "source": [
    "## Description for Beginner level Program:"
   ]
  },
  {
   "cell_type": "markdown",
   "id": "cf9b2162-909b-4b80-9a93-f628be089167",
   "metadata": {},
   "source": [
    "This Python program implements a custom algorithm to count the number of words in a user-provided string **without using the built-in `split()` function**. Instead, it manually parses the string character by character, identifying word boundaries based on spaces.\n",
    "\n",
    "### Step-by-Step Breakdown\n",
    "\n",
    "1. **Input Acquisition**:\n",
    "   ```python\n",
    "   s = input('Enter the string')\n",
    "   ```\n",
    "   - The program prompts the user to enter a string, which is stored in variable `s`.\n",
    "\n",
    "2. **Initialization**:\n",
    "   ```python\n",
    "   L = []\n",
    "   temp = ''\n",
    "   ```\n",
    "   - `L` is an empty list that will store the extracted words.\n",
    "   - `temp` is a temporary string used to accumulate characters of the current word.\n",
    "\n",
    "3. **Manual Parsing Loop**:\n",
    "   ```python\n",
    "   for i in s:\n",
    "       if i != ' ':\n",
    "           temp = temp + i\n",
    "       else:\n",
    "           L.append(temp)\n",
    "           temp = ''\n",
    "   ```\n",
    "   - The loop iterates through each character `i` in the string `s`.\n",
    "   - If the character is **not** a space, it is appended to `temp`, thus building a word.\n",
    "   - If a space is encountered, the current word stored in `temp` is appended to list `L`, and `temp` is reset to an empty string to start collecting the next word.\n",
    "\n",
    "4. **Handling the Last Word**:\n",
    "   ```python\n",
    "   L.append(temp) # To print last word also\n",
    "   ```\n",
    "   - After the loop, `temp` may still contain the last word (since the string might not end with a space). This line ensures the last word is added to the list.\n",
    "\n",
    "5. **Output**:\n",
    "   ```python\n",
    "   print(L)\n",
    "   ```\n",
    "   - The list `L`, now containing all the words from the input string, is printed.\n",
    "\n",
    "### Key Points and Considerations\n",
    "\n",
    "- **No Use of `split()`**: The code demonstrates how to tokenize a string into words without using the convenience of Python's `split()` method, showcasing a fundamental approach to string parsing.\n",
    "- **Handles Single Spaces**: The code assumes words are separated by single spaces. Multiple consecutive spaces or leading/trailing spaces will result in empty strings being added to `L`.\n",
    "\n",
    "\n",
    "### Example\n",
    "\n",
    "**Input:**\n",
    "```\n",
    "Enter the string: Hello world from Python\n",
    "```\n",
    "\n",
    "**Output:**\n",
    "```\n",
    "['Hello', 'world', 'from', 'Python']\n",
    "```\n",
    "\n",
    "### Summary\n",
    "\n",
    "This program is a classic example of low-level string parsing, demonstrating how to manually extract words from a string in Python. It is useful for understanding the mechanics of string manipulation and tokenization when built-in utilities are not permitted.\n"
   ]
  },
  {
   "cell_type": "markdown",
   "id": "28140bb1-eeb2-4c77-851e-1b47833fdc71",
   "metadata": {
    "jp-MarkdownHeadingCollapsed": true
   },
   "source": [
    "## An Advence version:\n",
    "\n",
    "Here is an advanced Python program that counts the number of words in a string without using `split()`, leveraging regular expressions for robust tokenization. This approach handles multiple spaces, tabs, newlines, and ignores punctuation if desired, making it suitable for more complex input strings:"
   ]
  },
  {
   "cell_type": "code",
   "execution_count": 5,
   "id": "11ccad74-1843-42b5-8e2f-ea5a913f1186",
   "metadata": {},
   "outputs": [
    {
     "name": "stdout",
     "output_type": "stream",
     "text": [
      "Enter the string:  hello         how are              you\n"
     ]
    },
    {
     "name": "stdout",
     "output_type": "stream",
     "text": [
      "Words: ['hello', 'how', 'are', 'you']\n",
      "Number of words: 4\n"
     ]
    }
   ],
   "source": [
    "# Write a program to count the number of words in a string without \"split()\" function.\n",
    "\n",
    "import re\n",
    "\n",
    "def count_words(text):\n",
    "    # Define a regex pattern to match words (alphanumeric sequences)\n",
    "    # This pattern matches sequences of letters, digits, and underscores\n",
    "    pattern = r'\\b\\w+\\b'\n",
    "\n",
    "    # Use re.findall to extract all words matching the pattern\n",
    "    words = re.findall(pattern, text)\n",
    "\n",
    "    return words\n",
    "\n",
    "# Input from user\n",
    "s = input('Enter the string: ')\n",
    "\n",
    "# Get list of words using advanced tokenization\n",
    "word_list = count_words(s)\n",
    "\n",
    "# Output the list and count of words\n",
    "print(\"Words:\", word_list)\n",
    "print(\"Number of words:\", len(word_list))\n"
   ]
  },
  {
   "cell_type": "markdown",
   "id": "b4e750f9-6fc4-4c77-94aa-7b1232432615",
   "metadata": {},
   "source": [
    "### Explanation\n",
    "\n",
    "- **Regular Expression Tokenization**: The regex pattern `\\b\\w+\\b` matches word boundaries (`\\b`) around one or more word characters (`\\w+`), which include letters, digits, and underscores. This effectively extracts words while ignoring punctuation and multiple whitespace characters[1][6].\n",
    "  \n",
    "- **Robustness**: Unlike the original program, this method handles multiple consecutive spaces, tabs, and newlines seamlessly, without generating empty tokens.\n",
    "\n",
    "- **Extensibility**: The regex pattern can be easily modified to include or exclude specific characters, or to handle more complex tokenization rules such as contractions, hyphenated words, or special tokens used in NLP.\n",
    "\n",
    "\n",
    "### Why is this Advanced?\n",
    "\n",
    "- It avoids manual character-by-character parsing, which is error-prone and less efficient.\n",
    "- It leverages Python’s powerful `re` module to perform pattern matching, a common practice in professional text processing.\n",
    "- It produces a clean list of tokens without empty strings or unwanted characters.\n",
    "- The approach is scalable and adaptable for natural language processing tasks beyond simple word counting.\n",
    "\n",
    "\n",
    "This solution reflects expert Python practices for text tokenization and word counting without relying on `split()`, making it suitable for real-world applications where input text may be irregular or complex.\n"
   ]
  },
  {
   "cell_type": "markdown",
   "id": "763f23f6-0537-4dfb-bce3-786d505a6c2b",
   "metadata": {},
   "source": [
    "# Seventh Program"
   ]
  },
  {
   "cell_type": "code",
   "execution_count": 1,
   "id": "8db9b60f-b467-451f-8660-ecc72666d636",
   "metadata": {},
   "outputs": [
    {
     "name": "stdout",
     "output_type": "stream",
     "text": [
      "Enter the string hello how are you\n"
     ]
    },
    {
     "name": "stdout",
     "output_type": "stream",
     "text": [
      "Hello How Are You\n"
     ]
    }
   ],
   "source": [
    "# Write a python program to convert a string to title case without using the title()\n",
    "\n",
    "L = []\n",
    "\n",
    "s = input('Enter the string')\n",
    "for i in s.split():\n",
    "    L.append(i[0].upper() + i[1:].lower())\n",
    "\n",
    "print(\" \".join(L))"
   ]
  },
  {
   "cell_type": "markdown",
   "id": "fcb7ecaa-2bc5-450a-921b-4008e88a3279",
   "metadata": {},
   "source": [
    "## Description"
   ]
  },
  {
   "cell_type": "markdown",
   "id": "f144ad27-3c28-4b30-9c2b-0b70207e60eb",
   "metadata": {},
   "source": [
    "This Python program converts a user-input string into **title case**-where the first letter of each word is capitalized and the remaining letters are in lowercase-**without using the built-in `title()` method**.\n",
    "\n",
    "### Step-by-Step Breakdown\n",
    "\n",
    "1. **Initialization**  \n",
    "   An empty list `L` is created. This will store the transformed words.\n",
    "\n",
    "2. **User Input**  \n",
    "   The program prompts the user to enter a string, which is stored in variable `s`.\n",
    "\n",
    "3. **String Splitting and Transformation**  \n",
    "   - The input string `s` is split into individual words using the `split()` method, which defaults to splitting on whitespace.\n",
    "   - For each word `i` in the resulting list:\n",
    "     - `i.upper()`: Converts the first character of the word to uppercase.\n",
    "     - `i[1:].lower()`: Converts the rest of the word to lowercase.\n",
    "     - The concatenated result (`i.upper() + i[1:].lower()`) is appended to list `L`.\n",
    "\n",
    "4. **Reconstruction and Output**  \n",
    "   - The transformed words in list `L` are joined back into a single string, separated by spaces, using `\" \".join(L)`.\n",
    "   - The resulting title-cased string is printed.\n",
    "\n",
    "### Example\n",
    "\n",
    "**Input:**  \n",
    "```\n",
    "Enter the string: hELLo wORLD! thIs is PYTHON.\n",
    "```\n",
    "\n",
    "**Output:**  \n",
    "```\n",
    "Hello World! This Is Python.\n",
    "```\n",
    "\n",
    "### Key Points\n",
    "\n",
    "- **Manual Title Casing:** The program manually constructs title case for each word, ensuring only the first character is uppercase and the rest are lowercase.\n",
    "- **No Built-in Title:** It avoids using Python's `str.title()` to demonstrate the underlying logic.\n",
    "- **Handles Extra Spaces:** The use of `split()` ensures that multiple spaces are handled gracefully.\n"
   ]
  }
 ],
 "metadata": {
  "kernelspec": {
   "display_name": "Python 3",
   "language": "python",
   "name": "python3"
  },
  "language_info": {
   "codemirror_mode": {
    "name": "ipython",
    "version": 3
   },
   "file_extension": ".py",
   "mimetype": "text/x-python",
   "name": "python",
   "nbconvert_exporter": "python",
   "pygments_lexer": "ipython3",
   "version": "3.11.11"
  }
 },
 "nbformat": 4,
 "nbformat_minor": 5
}
