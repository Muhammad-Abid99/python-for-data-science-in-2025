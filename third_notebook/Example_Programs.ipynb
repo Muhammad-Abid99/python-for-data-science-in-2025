{
 "cells": [
  {
   "cell_type": "markdown",
   "id": "7d07135f-1bd9-4331-9dec-bf2f34328843",
   "metadata": {},
   "source": [
    "# In this Notebook we try to apply our completed previous concepts.\n",
    "\n",
    "**So I had wrote some example programs.**"
   ]
  },
  {
   "cell_type": "markdown",
   "id": "26bcbe91-2abe-4d85-9a2c-fe918b3c11bb",
   "metadata": {},
   "source": [
    "## First Program this is a solid beginner-level program.\n",
    "\n",
    "**Program Description: Manual String Length Calculation**\n",
    "\n",
    "This Python program demonstrates a fundamental approach to determining the length of a string without utilizing built-in functions such as `len()`. It prompts the user to input a string and then iteratively counts the number of characters in the string by traversing each character one by one.\n",
    "\n",
    "### Detailed Explanation:\n",
    "\n",
    "1. **User Input:**  \n",
    "   The program begins by requesting the user to enter a string via the `input()` function, which captures the input as a sequence of characters.\n",
    "\n",
    "2. **Initialization of Counter:**  \n",
    "   A variable named `counter` is initialized to zero. This variable serves as an accumulator to keep track of the number of characters encountered during iteration.\n",
    "\n",
    "3. **Iterative Counting:**  \n",
    "   The program uses a `for` loop to iterate over each character in the input string. For every iteration (i.e., for each character), the counter is incremented by one. This process effectively counts all characters, including letters, digits, spaces, and special symbols.\n",
    "\n",
    "4. **Output:**  \n",
    "   After the loop completes, the program prints the total count, which represents the length of the string entered by the user.\n",
    "\n",
    "### Significance and Use Cases:\n",
    "\n",
    "- **Educational Value:**  \n",
    "  This program is an excellent exercise for beginners to understand string traversal, iteration, and manual counting mechanisms in Python.\n",
    "\n",
    "- **Algorithmic Insight:**  \n",
    "  It provides insight into how string length can be computed at a low level, which is foundational knowledge for understanding more complex string operations and algorithms.\n",
    "\n",
    "- **Avoiding Built-ins:**  \n",
    "  In scenarios where built-in functions are restricted or unavailable, this method offers a reliable alternative to determine string length."
   ]
  },
  {
   "cell_type": "code",
   "execution_count": 1,
   "id": "781ec174-db22-4250-86b3-3e30571c67a8",
   "metadata": {},
   "outputs": [
    {
     "name": "stdout",
     "output_type": "stream",
     "text": [
      "length of string is 17\n"
     ]
    }
   ],
   "source": [
    "# Find the length of a given string without using the len() function\n",
    "\n",
    "a = input('Enter the string')\n",
    "\n",
    "counter = 0\n",
    "\n",
    "for i in a:\n",
    "    counter += 1\n",
    "\n",
    "print('length of string is', counter)"
   ]
  },
  {
   "cell_type": "markdown",
   "id": "f4801bfb-d628-4a02-acb8-25f903833ab0",
   "metadata": {},
   "source": [
    "## Below are an optimized and enhanced version of first program.\n",
    "\n",
    "## Advance level Prgram:"
   ]
  },
  {
   "cell_type": "code",
   "execution_count": 2,
   "id": "febde040-cc44-43e3-9b6e-dd3a044047d0",
   "metadata": {},
   "outputs": [
    {
     "name": "stdout",
     "output_type": "stream",
     "text": [
      "Length of the string is 5\n"
     ]
    }
   ],
   "source": [
    "# Find the length of a given string without using the len() function\n",
    "\n",
    "def get_string_length(s: str) -> int:\n",
    "    \"\"\"Calculate the length of a string without using len().\"\"\"\n",
    "    counter = 0\n",
    "    for _ in s:\n",
    "        counter += 1\n",
    "    return counter\n",
    "\n",
    "if __name__ == \"__main__\":\n",
    "    user_input = input(\"Enter the string: \")\n",
    "    length = get_string_length(user_input)\n",
    "    print(f\"Length of the string is {length}\")\n"
   ]
  },
  {
   "cell_type": "markdown",
   "id": "fef3cd7c-f1b1-4245-aeeb-29a5f4f07e31",
   "metadata": {},
   "source": [
    "## Optimizations and Improvements Explained\n",
    "\n",
    "1. **Function Encapsulation:**  \n",
    "   Wrapping the length calculation logic inside a function (`get_string_length`) improves modularity and reusability. This makes the code cleaner and easier to maintain or test.\n",
    "\n",
    "2. **Use of Underscore (`_`) in Loop:**  \n",
    "   Since the loop variable is not used inside the loop body, using `_` as the variable name is a Python convention indicating the variable is intentionally unused.\n",
    "\n",
    "3. **Type Hinting:**  \n",
    "   Adding type hints (`s: str` and `-> int`) improves code readability and helps with static analysis tools, making the code more professional and maintainable.\n",
    "\n",
    "4. **`if __name__ == \"__main__\":` Guard:**  \n",
    "   This allows the script to be imported as a module without executing the input/output code, which is a good practice for writing Python scripts.\n",
    "\n",
    "5. **Formatted String (f-string):**  \n",
    "   Using f-strings for output improves readability and efficiency compared to string concatenation."
   ]
  },
  {
   "cell_type": "markdown",
   "id": "96e03e22-7af5-432e-b6f1-2077142c5a31",
   "metadata": {},
   "source": [
    "# Second Program for Absolutely beginner-level:"
   ]
  },
  {
   "cell_type": "markdown",
   "id": "0b7c039e-08a3-463e-b6c4-461d5505a339",
   "metadata": {},
   "source": [
    "## Program Description: Extracting the Username from an Email Address Using `.index()` and `.find()`\n",
    "\n",
    "This Python program demonstrates two distinct approaches to extracting the username portion of an email address (the substring before the `@` symbol) using the string methods `.index()` and `.find()`. The username is the unique identifier before the domain in an email address (e.g., in `ghulam34muhammad@gmail.com`, the username is `ghulam34muhammad`).\n",
    "\n",
    "### Step-by-Step Explanation\n",
    "\n",
    "#### 1. Using `.index()` Method\n",
    "\n",
    "- **User Input:**  \n",
    "  The program prompts the user to enter an email address.\n",
    "- **Finding the `@` Symbol:**  \n",
    "  The `.index('@')` method is used to determine the position (index) of the `@` character in the email string. This method raises a `ValueError` if the character is not found, which can be useful for enforcing valid email input.\n",
    "- **Extracting the Username:**  \n",
    "  The program slices the string from the beginning up to (but not including) the `@` symbol using `mail[0:possition]`.\n",
    "- **Output:**  \n",
    "  The username is printed to the user.\n",
    "\n",
    "#### 2. Using `.find()` Method\n",
    "\n",
    "- **User Input:**  \n",
    "  The program again prompts the user to enter an email address.\n",
    "- **Finding the `@` Symbol:**  \n",
    "  The `.find('@')` method is used to locate the position of the `@` character. Unlike `.index()`, `.find()` returns `-1` if the character is not found, allowing for more graceful error handling.\n",
    "- **Extracting the Username:**  \n",
    "  The substring before the `@` symbol is extracted in the same way as before.\n",
    "- **Output:**  \n",
    "  The username is displayed.\n",
    "\n",
    "### Key Concepts and Expertise Demonstrated\n",
    "\n",
    "- **String Manipulation:**  \n",
    "  The program showcases fundamental string slicing techniques to extract substrings based on character positions.\n",
    "- **Method Differences:**  \n",
    "  By using both `.index()` and `.find()`, the program illustrates the subtle but important differences between these methods:\n",
    "  - `.index()` is strict and will raise an error if the character is not found.\n",
    "  - `.find()` is more forgiving and returns `-1`, allowing for custom error handling.\n",
    "- **Input Validation (Potential Extension):**  \n",
    "  While the current program does not handle invalid input, it sets the stage for discussing robust input validation, which is crucial in production code.\n",
    "\n",
    "### Practical Applications\n",
    "\n",
    "- **User Data Processing:**  \n",
    "  Extracting usernames from email addresses is a common requirement in user registration systems, authentication workflows, and data analytics.\n",
    "- **Error Handling Awareness:**  \n",
    "  Understanding the difference between `.index()` and `.find()` is essential for writing robust and user-friendly applications.\n",
    "\n",
    "**In summary:**  \n",
    "This program provides a clear, practical demonstration of extracting the username from an email address using two different string search methods, highlighting their behaviors and potential use cases. It’s a valuable exercise for understanding string operations and method selection in Python."
   ]
  },
  {
   "cell_type": "code",
   "execution_count": 3,
   "id": "c8eb3108-3ad9-4eaa-90d7-ebc03c431779",
   "metadata": {},
   "outputs": [
    {
     "name": "stdout",
     "output_type": "stream",
     "text": [
      "User Name is --> abid\n"
     ]
    }
   ],
   "source": [
    "# Extract username from a given email.\n",
    "# Eg if the email is ghulam34muhammad@gmail.com\n",
    "# then the username should be ghulam34muhammad.\n",
    "\n",
    "# Remember here we use \".index\" function to find the possition of \"@\"\n",
    "\n",
    "mail = input('Enter the email')\n",
    "\n",
    "possition = mail.index('@')\n",
    "\n",
    "print('User Name is -->', mail[0:possition])"
   ]
  },
  {
   "cell_type": "code",
   "execution_count": 4,
   "id": "766d8142-065b-4a16-967d-31c3aa4ba076",
   "metadata": {},
   "outputs": [
    {
     "name": "stdout",
     "output_type": "stream",
     "text": [
      "User Name is --> zahid\n"
     ]
    }
   ],
   "source": [
    "# Here we use \".find\" function to find the possition.\n",
    "\n",
    "mail = input('Enter the email')\n",
    "\n",
    "possition = mail.find('@')\n",
    "\n",
    "print('User Name is -->', mail[0:possition])"
   ]
  },
  {
   "cell_type": "markdown",
   "id": "309704fe-c6e4-4a19-bb45-e8caaae96417",
   "metadata": {},
   "source": [
    "## Advance version of second program Mentioned below:"
   ]
  },
  {
   "cell_type": "code",
   "execution_count": 5,
   "id": "002a7279-6a08-456f-9cb1-ea41d247924f",
   "metadata": {},
   "outputs": [
    {
     "name": "stdout",
     "output_type": "stream",
     "text": [
      "Username is --> rashid\n"
     ]
    }
   ],
   "source": [
    "def extract_username(email: str) -> str:\n",
    "    \"\"\"\n",
    "    Extracts the username from an email address.\n",
    "    Returns the substring before the '@' symbol.\n",
    "    Raises ValueError if the email is invalid.\n",
    "    \"\"\"\n",
    "    at_pos = email.find('@')\n",
    "    if at_pos == -1:\n",
    "        raise ValueError(\"Invalid email address: '@' symbol not found.\")\n",
    "    if at_pos == 0:\n",
    "        raise ValueError(\"Invalid email address: username is missing.\")\n",
    "    return email[:at_pos]\n",
    "\n",
    "def main():\n",
    "    email = input(\"Enter the email address: \").strip()\n",
    "    try:\n",
    "        username = extract_username(email)\n",
    "        print(f\"Username is --> {username}\")\n",
    "    except ValueError as e:\n",
    "        print(f\"Error: {e}\")\n",
    "\n",
    "if __name__ == \"__main__\":\n",
    "    main()\n"
   ]
  },
  {
   "cell_type": "markdown",
   "id": "7109d53d-d2ce-4e22-b91e-ba4d35f822ee",
   "metadata": {},
   "source": [
    "## Expert-Level Improvements Explained:\n",
    "\n",
    "### 1. **Function Encapsulation**\n",
    "- The extraction logic is placed in a function `extract_username`, promoting code reuse, maintainability, and testability.\n",
    "\n",
    "### 2. **Error Handling**\n",
    "- The function checks for the presence and position of the `@` symbol:\n",
    "    - Raises an error if `@` is missing.\n",
    "    - Raises an error if the username is empty (i.e., if the email starts with `@`).\n",
    "- Errors are handled gracefully in the `main()` function using `try...except`, providing clear feedback to the user.\n",
    "\n",
    "### 3. **Input Sanitization**\n",
    "- The input is stripped of leading/trailing whitespace to prevent accidental formatting errors.\n",
    "\n",
    "### 4. **Type Hinting and Docstrings**\n",
    "- The function uses type hints and a descriptive docstring, following Python best practices for clarity and documentation.\n",
    "\n",
    "### 5. **Script Entry Point**\n",
    "- The `if __name__ == \"__main__\":` guard ensures the script can be imported as a module without running the main logic, which is a hallmark of professional Python scripts.\n",
    "\n",
    "### 6. **User Experience**\n",
    "- The output is clear and user-friendly, and errors are reported in a helpful way.\n",
    "\n",
    "---\n",
    "\n",
    "## Why This Is Advanced\n",
    "\n",
    "- **Robustness:** Handles invalid input and edge cases.\n",
    "- **Readability:** Clearly structured and documented.\n",
    "- **Reusability:** Logic is encapsulated for easy reuse or extension.\n",
    "- **Professional Standards:** Follows conventions used in real-world Python projects.\n"
   ]
  }
 ],
 "metadata": {
  "kernelspec": {
   "display_name": "Python 3",
   "language": "python",
   "name": "python3"
  },
  "language_info": {
   "codemirror_mode": {
    "name": "ipython",
    "version": 3
   },
   "file_extension": ".py",
   "mimetype": "text/x-python",
   "name": "python",
   "nbconvert_exporter": "python",
   "pygments_lexer": "ipython3",
   "version": "3.11.11"
  }
 },
 "nbformat": 4,
 "nbformat_minor": 5
}
