{
 "cells": [
  {
   "cell_type": "markdown",
   "id": "7d07135f-1bd9-4331-9dec-bf2f34328843",
   "metadata": {},
   "source": [
    "# In this Notebook we try to apply our completed previous concepts.\n",
    "\n",
    "**So I had wrote some example programs.**"
   ]
  },
  {
   "cell_type": "markdown",
   "id": "26bcbe91-2abe-4d85-9a2c-fe918b3c11bb",
   "metadata": {},
   "source": [
    "## First Program this is a solid beginner-level program.\n",
    "\n",
    "**Program Description: Manual String Length Calculation**\n",
    "\n",
    "This Python program demonstrates a fundamental approach to determining the length of a string without utilizing built-in functions such as `len()`. It prompts the user to input a string and then iteratively counts the number of characters in the string by traversing each character one by one.\n",
    "\n",
    "### Detailed Explanation:\n",
    "\n",
    "1. **User Input:**  \n",
    "   The program begins by requesting the user to enter a string via the `input()` function, which captures the input as a sequence of characters.\n",
    "\n",
    "2. **Initialization of Counter:**  \n",
    "   A variable named `counter` is initialized to zero. This variable serves as an accumulator to keep track of the number of characters encountered during iteration.\n",
    "\n",
    "3. **Iterative Counting:**  \n",
    "   The program uses a `for` loop to iterate over each character in the input string. For every iteration (i.e., for each character), the counter is incremented by one. This process effectively counts all characters, including letters, digits, spaces, and special symbols.\n",
    "\n",
    "4. **Output:**  \n",
    "   After the loop completes, the program prints the total count, which represents the length of the string entered by the user.\n",
    "\n",
    "### Significance and Use Cases:\n",
    "\n",
    "- **Educational Value:**  \n",
    "  This program is an excellent exercise for beginners to understand string traversal, iteration, and manual counting mechanisms in Python.\n",
    "\n",
    "- **Algorithmic Insight:**  \n",
    "  It provides insight into how string length can be computed at a low level, which is foundational knowledge for understanding more complex string operations and algorithms.\n",
    "\n",
    "- **Avoiding Built-ins:**  \n",
    "  In scenarios where built-in functions are restricted or unavailable, this method offers a reliable alternative to determine string length."
   ]
  },
  {
   "cell_type": "code",
   "execution_count": 1,
   "id": "781ec174-db22-4250-86b3-3e30571c67a8",
   "metadata": {},
   "outputs": [
    {
     "name": "stdout",
     "output_type": "stream",
     "text": [
      "length of string is 17\n"
     ]
    }
   ],
   "source": [
    "# Find the length of a given string without using the len() function\n",
    "\n",
    "a = input('Enter the string')\n",
    "\n",
    "counter = 0\n",
    "\n",
    "for i in a:\n",
    "    counter += 1\n",
    "\n",
    "print('length of string is', counter)"
   ]
  },
  {
   "cell_type": "markdown",
   "id": "f4801bfb-d628-4a02-acb8-25f903833ab0",
   "metadata": {},
   "source": [
    "## Below are an optimized and enhanced version of my program. Thanks by Perplexity.AI\n",
    "\n",
    "## Advance level Prgram:"
   ]
  },
  {
   "cell_type": "code",
   "execution_count": 2,
   "id": "febde040-cc44-43e3-9b6e-dd3a044047d0",
   "metadata": {},
   "outputs": [
    {
     "name": "stdout",
     "output_type": "stream",
     "text": [
      "Length of the string is 23\n"
     ]
    }
   ],
   "source": [
    "# Find the length of a given string without using the len() function\n",
    "\n",
    "def get_string_length(s: str) -> int:\n",
    "    \"\"\"Calculate the length of a string without using len().\"\"\"\n",
    "    counter = 0\n",
    "    for _ in s:\n",
    "        counter += 1\n",
    "    return counter\n",
    "\n",
    "if __name__ == \"__main__\":\n",
    "    user_input = input(\"Enter the string: \")\n",
    "    length = get_string_length(user_input)\n",
    "    print(f\"Length of the string is {length}\")\n"
   ]
  },
  {
   "cell_type": "markdown",
   "id": "fef3cd7c-f1b1-4245-aeeb-29a5f4f07e31",
   "metadata": {},
   "source": [
    "## Optimizations and Improvements Explained\n",
    "\n",
    "1. **Function Encapsulation:**  \n",
    "   Wrapping the length calculation logic inside a function (`get_string_length`) improves modularity and reusability. This makes the code cleaner and easier to maintain or test.\n",
    "\n",
    "2. **Use of Underscore (`_`) in Loop:**  \n",
    "   Since the loop variable is not used inside the loop body, using `_` as the variable name is a Python convention indicating the variable is intentionally unused.\n",
    "\n",
    "3. **Type Hinting:**  \n",
    "   Adding type hints (`s: str` and `-> int`) improves code readability and helps with static analysis tools, making the code more professional and maintainable.\n",
    "\n",
    "4. **`if __name__ == \"__main__\":` Guard:**  \n",
    "   This allows the script to be imported as a module without executing the input/output code, which is a good practice for writing Python scripts.\n",
    "\n",
    "5. **Formatted String (f-string):**  \n",
    "   Using f-strings for output improves readability and efficiency compared to string concatenation."
   ]
  }
 ],
 "metadata": {
  "kernelspec": {
   "display_name": "Python 3",
   "language": "python",
   "name": "python3"
  },
  "language_info": {
   "codemirror_mode": {
    "name": "ipython",
    "version": 3
   },
   "file_extension": ".py",
   "mimetype": "text/x-python",
   "name": "python",
   "nbconvert_exporter": "python",
   "pygments_lexer": "ipython3",
   "version": "3.11.11"
  }
 },
 "nbformat": 4,
 "nbformat_minor": 5
}
