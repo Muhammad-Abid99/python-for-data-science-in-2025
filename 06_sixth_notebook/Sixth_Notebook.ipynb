{
 "cells": [
  {
   "cell_type": "markdown",
   "id": "c6683819",
   "metadata": {},
   "source": [
    "# Functions:\n",
    "A *function* in Python is a named, reusable block of code designed to perform a specific task. Functions help organize your code, make it more readable, and allow you to avoid repeating the same code in multiple places. They can take input values (called *parameters* or *arguments*), process those values, and optionally return an output."
   ]
  },
  {
   "cell_type": "markdown",
   "id": "2e971594",
   "metadata": {},
   "source": [
    "## Key Features of Functions\n",
    "\n",
    "- **Definition**: You define a function using the `def` keyword, followed by the function name and parentheses, which may include parameters. The function body is an indented block of code that specifies what the function does.\n",
    "- **Calling**: To use a function, you \"call\" it by writing its name followed by parentheses. If the function requires arguments, you provide them inside the parentheses.\n",
    "- **Parameters and Arguments**: Functions can accept zero or more input values (parameters), which allow you to pass data into the function for processing.\n",
    "- **Return Value**: Functions can return a value using the `return` statement. If there is no return statement, the function returns `None` by default.\n",
    "- **Reusability**: Once defined, a function can be called as many times as needed, making your code more efficient and easier to maintain.\n",
    "\n",
    "### Example"
   ]
  },
  {
   "cell_type": "code",
   "execution_count": 1,
   "id": "4c8b74d7",
   "metadata": {},
   "outputs": [
    {
     "name": "stdout",
     "output_type": "stream",
     "text": [
      "8\n"
     ]
    }
   ],
   "source": [
    "def add(a, b):\n",
    "    return a + b\n",
    "\n",
    "result = add(3, 5)\n",
    "print(result)  # Output: 8\n"
   ]
  },
  {
   "cell_type": "markdown",
   "id": "a1877afb",
   "metadata": {},
   "source": [
    "In this example:\n",
    "- `add` is the function name.\n",
    "- `a` and `b` are parameters.\n",
    "- The function returns the sum of `a` and `b`.\n",
    "- You call the function with `add(3, 5)` and store the result in `result`."
   ]
  },
  {
   "cell_type": "markdown",
   "id": "c976a3c5",
   "metadata": {},
   "source": [
    "### Types of Functions\n",
    "\n",
    "- **Built-in Functions**: Python provides many built-in functions like `print()`, `len()`, etc.\n",
    "- **User-defined Functions**: You can create your own functions to perform specific tasks in your programs.\n",
    "- **Anonymous (Lambda) Functions**: Functions without a name, defined using the `lambda` keyword, typically for short, simple operations."
   ]
  },
  {
   "cell_type": "markdown",
   "id": "7051ea72",
   "metadata": {},
   "source": [
    "### Why Use Functions?\n",
    "\n",
    "- **Modularity**: Breaks complex problems into smaller, manageable pieces.\n",
    "- **Reusability**: Write code once and use it multiple times.\n",
    "- **Maintainability**: Easier to update and debug code.\n",
    "\n",
    "In summary, a function in Python is a central tool for structuring and simplifying your code. It encapsulates logic, making programs more organized, reusable, and easier to understand.\n"
   ]
  },
  {
   "cell_type": "markdown",
   "id": "2c26e87f",
   "metadata": {},
   "source": [
    "### Types of Arguments in Python Functions\n",
    "\n",
    "Python functions support several types of arguments, allowing for flexible and powerful ways to pass data to functions. Here are the main types:"
   ]
  },
  {
   "cell_type": "markdown",
   "id": "0beda233",
   "metadata": {},
   "source": [
    "**Positional Arguments**\n",
    "\n",
    "- These are the most common and are passed to the function in the order they are defined in the function’s parameter list.\n",
    "- The values are assigned to parameters based on their position.\n",
    "- Example:"
   ]
  },
  {
   "cell_type": "code",
   "execution_count": 5,
   "id": "b2da2255",
   "metadata": {},
   "outputs": [
    {
     "name": "stdout",
     "output_type": "stream",
     "text": [
      "5\n"
     ]
    }
   ],
   "source": [
    "def add(a, b):\n",
    "    return a + b\n",
    "\n",
    "result = add(2, 3)  # 2 is assigned to a, 3 to b\n",
    "print(result)"
   ]
  },
  {
   "cell_type": "markdown",
   "id": "91d55c5c",
   "metadata": {},
   "source": [
    "**Keyword Arguments**\n",
    "\n",
    "- You specify the parameter name and its value when calling the function, using the syntax `parameter=value`.\n",
    "- The order does not matter when using keyword arguments.\n",
    "- Example:"
   ]
  },
  {
   "cell_type": "code",
   "execution_count": 6,
   "id": "8b30bce4",
   "metadata": {},
   "outputs": [
    {
     "name": "stdout",
     "output_type": "stream",
     "text": [
      "Hello, Ali!\n"
     ]
    }
   ],
   "source": [
    "def greet(name, message):\n",
    "    print(f\"{message}, {name}!\")\n",
    "\n",
    "greet(message=\"Hello\", name=\"Ali\")\n"
   ]
  },
  {
   "cell_type": "markdown",
   "id": "51be65bf",
   "metadata": {},
   "source": [
    "**Default Arguments**\n",
    "\n",
    "- Parameters can have default values. If an argument is not provided for that parameter, the default value is used.\n",
    "- Example:\n"
   ]
  },
  {
   "cell_type": "code",
   "execution_count": 7,
   "id": "3d335c4a",
   "metadata": {},
   "outputs": [
    {
     "name": "stdout",
     "output_type": "stream",
     "text": [
      "9\n",
      "27\n"
     ]
    }
   ],
   "source": [
    "def power(base, exponent=2):\n",
    "    return base ** exponent\n",
    "\n",
    "print(power(3))      # Uses default exponent=2, prints 9\n",
    "print(power(3, 3))   # Uses exponent=3, prints 27\n"
   ]
  },
  {
   "cell_type": "markdown",
   "id": "738d201d",
   "metadata": {},
   "source": [
    "**Arbitrary Positional Arguments (`*args`)**\n",
    "\n",
    "- Allows passing a variable number of positional arguments to a function.\n",
    "- Inside the function, these arguments are accessible as a tuple.\n",
    "- Example:"
   ]
  },
  {
   "cell_type": "code",
   "execution_count": 8,
   "id": "517ca7d0",
   "metadata": {},
   "outputs": [
    {
     "name": "stdout",
     "output_type": "stream",
     "text": [
      "10\n"
     ]
    }
   ],
   "source": [
    "def sum_all(*numbers):\n",
    "    return sum(numbers)\n",
    "\n",
    "print(sum_all(1, 2, 3, 4))  # Prints 10\n"
   ]
  },
  {
   "cell_type": "markdown",
   "id": "0db313db",
   "metadata": {},
   "source": [
    "**Arbitrary Keyword Arguments (`**kwargs`)**\n",
    "\n",
    "- Allows passing a variable number of keyword arguments.\n",
    "- Inside the function, these arguments are accessible as a dictionary.\n",
    "- Example:"
   ]
  },
  {
   "cell_type": "code",
   "execution_count": 9,
   "id": "6e9937f7",
   "metadata": {},
   "outputs": [
    {
     "name": "stdout",
     "output_type": "stream",
     "text": [
      "name: Abid\n",
      "age: 30\n"
     ]
    }
   ],
   "source": [
    "def print_info(**info):\n",
    "    for key, value in info.items():\n",
    "        print(f\"{key}: {value}\")\n",
    "\n",
    "print_info(name=\"Abid\", age=30)\n"
   ]
  },
  {
   "cell_type": "markdown",
   "id": "281531ed",
   "metadata": {},
   "source": [
    "### Summary Table\n",
    "\n",
    "| Argument Type                | Syntax Example                        | Description                                                  |\n",
    "|------------------------------|---------------------------------------|--------------------------------------------------------------|\n",
    "| Positional                   | `func(1, 2)`                         | Matched by position/order                                    |\n",
    "| Keyword                      | `func(a=1, b=2)`                      | Matched by parameter name                                    |\n",
    "| Default                      | `def func(a, b=2):`                   | Uses default if not provided                                 |\n",
    "| Arbitrary Positional (`*args`)| `def func(*args):`                    | Accepts any number of positional arguments (tuple)           |\n",
    "| Arbitrary Keyword (`**kwargs`)| `def func(**kwargs):`                 | Accepts any number of keyword arguments (dictionary)         |\n",
    "\n",
    "\n"
   ]
  },
  {
   "cell_type": "markdown",
   "id": "f409fd2c",
   "metadata": {},
   "source": [
    "### Variable Scope in Python\n",
    "\n",
    "**Variable scope** in Python refers to the region of a program where a variable is recognized and can be accessed. The main types of variable scopes in Python are:\n",
    "\n",
    "- Local Scope\n",
    "- Global Scope\n"
   ]
  },
  {
   "cell_type": "markdown",
   "id": "6d35d309",
   "metadata": {},
   "source": [
    "### Local Variables\n",
    "\n",
    "A variable defined inside a function is called a *local variable*. It exists only within that function, and you cannot access it from outside the function (such as from the main program or other functions).\n",
    "\n",
    "**Example:**"
   ]
  },
  {
   "cell_type": "code",
   "execution_count": 2,
   "id": "2ea268c4",
   "metadata": {},
   "outputs": [
    {
     "name": "stdout",
     "output_type": "stream",
     "text": [
      "Hello\n"
     ]
    }
   ],
   "source": [
    "def greet():\n",
    "    message = 'Hello'\n",
    "    print(message)  # This works\n",
    "\n",
    "greet()\n",
    "#print(message)  # This will raise a NameError\n"
   ]
  },
  {
   "cell_type": "markdown",
   "id": "34b366b2",
   "metadata": {},
   "source": [
    "Trying to access `message` outside the function will result in an error because its scope is limited to `greet()`."
   ]
  },
  {
   "cell_type": "markdown",
   "id": "93c8606d",
   "metadata": {},
   "source": [
    "### Global Variables\n",
    "\n",
    "A variable defined outside any function is called a *global variable*. It can be accessed both inside and outside functions.\n",
    "\n",
    "**Example:**"
   ]
  },
  {
   "cell_type": "code",
   "execution_count": 3,
   "id": "2afd3ac2",
   "metadata": {},
   "outputs": [
    {
     "name": "stdout",
     "output_type": "stream",
     "text": [
      "Hello\n",
      "Hello\n"
     ]
    }
   ],
   "source": [
    "message = 'Hello'\n",
    "\n",
    "def greet():\n",
    "    print(message)  # This works\n",
    "\n",
    "greet()\n",
    "print(message)  # This also works\n"
   ]
  },
  {
   "cell_type": "markdown",
   "id": "266b9182",
   "metadata": {},
   "source": [
    "### Accessing Local Variables from the Main Program\n",
    "\n",
    "By default, you **cannot** access a local variable (declared inside a function) directly from the main program. However, there are two main ways to make a variable accessible outside its local scope:"
   ]
  },
  {
   "cell_type": "markdown",
   "id": "137df13a",
   "metadata": {},
   "source": [
    "\n",
    "#### 1. Using the `global` Keyword\n",
    "\n",
    "You can declare a variable as global inside a function using the `global` keyword. This makes the variable accessible throughout the program.\n",
    "\n",
    "**Example:**"
   ]
  },
  {
   "cell_type": "code",
   "execution_count": 4,
   "id": "e59a7083",
   "metadata": {},
   "outputs": [
    {
     "name": "stdout",
     "output_type": "stream",
     "text": [
      "Hello, world!\n"
     ]
    }
   ],
   "source": [
    "def my_function():\n",
    "    global my_variable\n",
    "    my_variable = \"Hello, world!\"\n",
    "\n",
    "my_function()\n",
    "print(my_variable)  # Output: Hello, world!\n"
   ]
  },
  {
   "cell_type": "markdown",
   "id": "4f791ba3",
   "metadata": {},
   "source": [
    "#### 2. Returning the Variable\n",
    "\n",
    "You can return the value from the function and assign it to a variable in the main program.\n",
    "\n",
    "**Example:**"
   ]
  },
  {
   "cell_type": "code",
   "execution_count": 5,
   "id": "2197f203",
   "metadata": {},
   "outputs": [
    {
     "name": "stdout",
     "output_type": "stream",
     "text": [
      "Hello, world!\n"
     ]
    }
   ],
   "source": [
    "def my_function():\n",
    "    local_var = \"Hello, world!\"\n",
    "    return local_var\n",
    "\n",
    "result = my_function()\n",
    "print(result)  # Output: Hello, world!\n"
   ]
  },
  {
   "cell_type": "markdown",
   "id": "edae9d47",
   "metadata": {},
   "source": [
    "#### 3. Using Mutable Types (Advanced)\n",
    "\n",
    "If you use a mutable object (like a list or dictionary) defined outside the function, you can modify its contents inside the function, and those changes will be visible outside.\n",
    "\n",
    "**Example:**"
   ]
  },
  {
   "cell_type": "code",
   "execution_count": 6,
   "id": "81d71dc3",
   "metadata": {},
   "outputs": [
    {
     "name": "stdout",
     "output_type": "stream",
     "text": [
      "['Hello']\n"
     ]
    }
   ],
   "source": [
    "my_list = []\n",
    "\n",
    "def add_item():\n",
    "    my_list.append(\"Hello\")\n",
    "\n",
    "add_item()\n",
    "print(my_list)  # Output: ['Hello']\n"
   ]
  },
  {
   "cell_type": "markdown",
   "id": "3869486f",
   "metadata": {},
   "source": [
    "### Difference between print and return:"
   ]
  },
  {
   "cell_type": "markdown",
   "id": "03adb1f0",
   "metadata": {},
   "source": [
    "The main difference between `return` and `print` in Python functions lies in their purpose and effect on program execution\n",
    "\n",
    "- **`return`** is a statement used inside a function to exit the function and send a value back to the caller. When a function hits a `return` statement, it immediately stops executing and passes the specified value back to the place where the function was called. This returned value can then be stored in a variable, used in expressions, or passed to other functions. Importantly, `return` affects the control flow by ending the function execution.\n",
    "\n",
    "- **`print`** is a function that outputs a value to the console (standard output). It is used primarily for displaying information to the user or for debugging. Unlike `return`, `print` does not affect the flow of the program or provide a value back to the caller. The function continues executing after a `print` statement, and no value is returned from the function unless explicitly done with `return`."
   ]
  },
  {
   "cell_type": "markdown",
   "id": "9759fb3a",
   "metadata": {},
   "source": [
    "### Key Differences Summarized\n",
    "\n",
    "| Aspect                 | `return`                                        | `print`                                  |\n",
    "|------------------------|------------------------------------------------|-----------------------------------------|\n",
    "| Purpose                | Sends a value back to the caller                | Displays output to the console           |\n",
    "| Effect on function     | Ends function execution immediately             | Function continues after printing        |\n",
    "| Value passed back      | Yes, returns a value to be used elsewhere       | No, returns `None` implicitly             |\n",
    "| Usage context          | Inside functions to provide results             | Anywhere, mainly for output or debugging  |\n",
    "| Can be assigned        | Yes, the returned value can be assigned to variables | No, `print` returns `None`                |\n",
    "\n"
   ]
  },
  {
   "cell_type": "code",
   "execution_count": 10,
   "id": "842d01d6",
   "metadata": {},
   "outputs": [
    {
     "name": "stdout",
     "output_type": "stream",
     "text": [
      "Returned: 7\n",
      "7\n",
      "Returned: None\n"
     ]
    }
   ],
   "source": [
    "# Example\n",
    "def add_return(a, b):\n",
    "    return a + b  # Returns the sum\n",
    "\n",
    "def add_print(a, b):\n",
    "    print(a + b)  # Prints the sum but returns None\n",
    "\n",
    "result = add_return(3, 4)\n",
    "print(\"Returned:\", result)  # Output: Returned: 7\n",
    "\n",
    "result2 = add_print(3, 4)   # Output: 7 (printed inside function)\n",
    "print(\"Returned:\", result2) # Output: Returned: None\n"
   ]
  },
  {
   "cell_type": "markdown",
   "id": "a243a11c",
   "metadata": {},
   "source": [
    "In this example, `add_return` provides a usable value that can be stored or further processed, while `add_print` only displays the value and returns `None` implicitly.\n",
    "\n",
    "In summary, use `return` when you want a function to produce a value that can be used by other parts of your program, and use `print` when you want to display information to the user or for debugging purposes."
   ]
  }
 ],
 "metadata": {
  "kernelspec": {
   "display_name": "Python 3",
   "language": "python",
   "name": "python3"
  },
  "language_info": {
   "codemirror_mode": {
    "name": "ipython",
    "version": 3
   },
   "file_extension": ".py",
   "mimetype": "text/x-python",
   "name": "python",
   "nbconvert_exporter": "python",
   "pygments_lexer": "ipython3",
   "version": "3.11.11"
  }
 },
 "nbformat": 4,
 "nbformat_minor": 5
}
