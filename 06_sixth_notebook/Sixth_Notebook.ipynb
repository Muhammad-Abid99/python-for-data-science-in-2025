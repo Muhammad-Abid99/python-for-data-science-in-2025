{
 "cells": [
  {
   "cell_type": "markdown",
   "id": "c6683819",
   "metadata": {},
   "source": [
    "# Functions:\n",
    "A *function* in Python is a named, reusable block of code designed to perform a specific task. Functions help organize your code, make it more readable, and allow you to avoid repeating the same code in multiple places. They can take input values (called *parameters* or *arguments*), process those values, and optionally return an output."
   ]
  },
  {
   "cell_type": "markdown",
   "id": "2e971594",
   "metadata": {},
   "source": [
    "## Key Features of Functions\n",
    "\n",
    "- **Definition**: You define a function using the `def` keyword, followed by the function name and parentheses, which may include parameters. The function body is an indented block of code that specifies what the function does.\n",
    "- **Calling**: To use a function, you \"call\" it by writing its name followed by parentheses. If the function requires arguments, you provide them inside the parentheses.\n",
    "- **Parameters and Arguments**: Functions can accept zero or more input values (parameters), which allow you to pass data into the function for processing.\n",
    "- **Return Value**: Functions can return a value using the `return` statement. If there is no return statement, the function returns `None` by default.\n",
    "- **Reusability**: Once defined, a function can be called as many times as needed, making your code more efficient and easier to maintain."
   ]
  }
 ],
 "metadata": {
  "kernelspec": {
   "display_name": "Python 3",
   "language": "python",
   "name": "python3"
  },
  "language_info": {
   "name": "python",
   "version": "3.11.11"
  }
 },
 "nbformat": 4,
 "nbformat_minor": 5
}
