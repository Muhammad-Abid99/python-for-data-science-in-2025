{
 "cells": [
  {
   "cell_type": "markdown",
   "id": "c6683819",
   "metadata": {},
   "source": [
    "# Functions:\n",
    "A *function* in Python is a named, reusable block of code designed to perform a specific task. Functions help organize your code, make it more readable, and allow you to avoid repeating the same code in multiple places. They can take input values (called *parameters* or *arguments*), process those values, and optionally return an output."
   ]
  },
  {
   "cell_type": "markdown",
   "id": "2e971594",
   "metadata": {},
   "source": [
    "## Key Features of Functions\n",
    "\n",
    "- **Definition**: You define a function using the `def` keyword, followed by the function name and parentheses, which may include parameters. The function body is an indented block of code that specifies what the function does.\n",
    "- **Calling**: To use a function, you \"call\" it by writing its name followed by parentheses. If the function requires arguments, you provide them inside the parentheses.\n",
    "- **Parameters and Arguments**: Functions can accept zero or more input values (parameters), which allow you to pass data into the function for processing.\n",
    "- **Return Value**: Functions can return a value using the `return` statement. If there is no return statement, the function returns `None` by default.\n",
    "- **Reusability**: Once defined, a function can be called as many times as needed, making your code more efficient and easier to maintain.\n",
    "\n",
    "### Example"
   ]
  },
  {
   "cell_type": "code",
   "execution_count": 1,
   "id": "4c8b74d7",
   "metadata": {},
   "outputs": [
    {
     "name": "stdout",
     "output_type": "stream",
     "text": [
      "8\n"
     ]
    }
   ],
   "source": [
    "def add(a, b):\n",
    "    return a + b\n",
    "\n",
    "result = add(3, 5)\n",
    "print(result)  # Output: 8\n"
   ]
  },
  {
   "cell_type": "markdown",
   "id": "a1877afb",
   "metadata": {},
   "source": [
    "In this example:\n",
    "- `add` is the function name.\n",
    "- `a` and `b` are parameters.\n",
    "- The function returns the sum of `a` and `b`.\n",
    "- You call the function with `add(3, 5)` and store the result in `result`."
   ]
  },
  {
   "cell_type": "markdown",
   "id": "c976a3c5",
   "metadata": {},
   "source": [
    "### Types of Functions\n",
    "\n",
    "- **Built-in Functions**: Python provides many built-in functions like `print()`, `len()`, etc.\n",
    "- **User-defined Functions**: You can create your own functions to perform specific tasks in your programs.\n",
    "- **Anonymous (Lambda) Functions**: Functions without a name, defined using the `lambda` keyword, typically for short, simple operations."
   ]
  },
  {
   "cell_type": "markdown",
   "id": "7051ea72",
   "metadata": {},
   "source": [
    "### Why Use Functions?\n",
    "\n",
    "- **Modularity**: Breaks complex problems into smaller, manageable pieces.\n",
    "- **Reusability**: Write code once and use it multiple times.\n",
    "- **Maintainability**: Easier to update and debug code.\n",
    "\n",
    "In summary, a function in Python is a central tool for structuring and simplifying your code. It encapsulates logic, making programs more organized, reusable, and easier to understand.\n"
   ]
  },
  {
   "cell_type": "markdown",
   "id": "2c26e87f",
   "metadata": {},
   "source": [
    "### Types of Arguments in Python Functions\n",
    "\n",
    "Python functions support several types of arguments, allowing for flexible and powerful ways to pass data to functions. Here are the main types:"
   ]
  },
  {
   "cell_type": "markdown",
   "id": "0beda233",
   "metadata": {},
   "source": [
    "**Positional Arguments**\n",
    "\n",
    "- These are the most common and are passed to the function in the order they are defined in the function’s parameter list.\n",
    "- The values are assigned to parameters based on their position.\n",
    "- Example:"
   ]
  },
  {
   "cell_type": "code",
   "execution_count": 5,
   "id": "b2da2255",
   "metadata": {},
   "outputs": [
    {
     "name": "stdout",
     "output_type": "stream",
     "text": [
      "5\n"
     ]
    }
   ],
   "source": [
    "def add(a, b):\n",
    "    return a + b\n",
    "\n",
    "result = add(2, 3)  # 2 is assigned to a, 3 to b\n",
    "print(result)"
   ]
  },
  {
   "cell_type": "markdown",
   "id": "91d55c5c",
   "metadata": {},
   "source": [
    "**Keyword Arguments**\n",
    "\n",
    "- You specify the parameter name and its value when calling the function, using the syntax `parameter=value`.\n",
    "- The order does not matter when using keyword arguments.\n",
    "- Example:"
   ]
  },
  {
   "cell_type": "code",
   "execution_count": 6,
   "id": "8b30bce4",
   "metadata": {},
   "outputs": [
    {
     "name": "stdout",
     "output_type": "stream",
     "text": [
      "Hello, Ali!\n"
     ]
    }
   ],
   "source": [
    "def greet(name, message):\n",
    "    print(f\"{message}, {name}!\")\n",
    "\n",
    "greet(message=\"Hello\", name=\"Ali\")\n"
   ]
  }
 ],
 "metadata": {
  "kernelspec": {
   "display_name": "Python 3",
   "language": "python",
   "name": "python3"
  },
  "language_info": {
   "codemirror_mode": {
    "name": "ipython",
    "version": 3
   },
   "file_extension": ".py",
   "mimetype": "text/x-python",
   "name": "python",
   "nbconvert_exporter": "python",
   "pygments_lexer": "ipython3",
   "version": "3.11.11"
  }
 },
 "nbformat": 4,
 "nbformat_minor": 5
}
