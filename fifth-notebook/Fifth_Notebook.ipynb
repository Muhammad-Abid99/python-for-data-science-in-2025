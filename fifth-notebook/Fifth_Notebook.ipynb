{
 "cells": [
  {
   "cell_type": "markdown",
   "id": "46f6fa49",
   "metadata": {},
   "source": [
    "## What is Tuple?"
   ]
  },
  {
   "cell_type": "markdown",
   "id": "15ac5ba1",
   "metadata": {},
   "source": [
    "A **tuple** in Python is a built-in data structure used to store multiple items in a single variable. The key feature that sets tuples apart from lists is that **tuples are immutable**-once you create a tuple, you cannot change, add, or remove its elements.\n",
    "\n",
    "### Key Points About Tuples\n",
    "\n",
    "- **Ordered Collection**: The items in a tuple have a fixed order and can be accessed by their index (starting from 0).\n",
    "- **Immutable**: You cannot modify, add, or delete items in a tuple after it is created.\n",
    "- **Allows Duplicates**: Tuples can contain duplicate values.\n",
    "- **Can Store Different Data Types**: A tuple can contain elements of any type-strings, numbers, booleans, even other tuples.\n",
    "- **Defined with Parentheses**: Tuples are written with round brackets `()` and items are separated by commas.\n"
   ]
  },
  {
   "cell_type": "markdown",
   "id": "fc98689d",
   "metadata": {},
   "source": [
    "### How to Create a Tuple\n",
    "\n",
    "Here are the most common ways to create a tuple:"
   ]
  },
  {
   "cell_type": "code",
   "execution_count": 1,
   "id": "6200b06f",
   "metadata": {},
   "outputs": [],
   "source": [
    "# Multiple items\n",
    "my_tuple = (\"apple\", \"banana\", \"cherry\")\n",
    "\n",
    "# With different data types\n",
    "mixed_tuple = (1, \"hello\", 3.14, True)\n",
    "\n",
    "# Single item (note the comma!)\n",
    "single_item_tuple = (\"apple\",)\n",
    "\n",
    "# Using the tuple() constructor\n",
    "my_list = [1, 2, 3]\n",
    "tuple_from_list = tuple(my_list)\n"
   ]
  },
  {
   "cell_type": "markdown",
   "id": "1ad1c55d",
   "metadata": {},
   "source": [
    "### Accessing Tuple Elements\n",
    "\n",
    "You can access tuple elements using their index:"
   ]
  },
  {
   "cell_type": "code",
   "execution_count": null,
   "id": "ec58ee28",
   "metadata": {},
   "outputs": [
    {
     "name": "stdout",
     "output_type": "stream",
     "text": [
      "banana\n",
      "cherry\n"
     ]
    }
   ],
   "source": [
    "fruits = (\"apple\", \"banana\", \"cherry\")\n",
    "print(fruits[1])    \n",
    "print(fruits[-1])   \n"
   ]
  },
  {
   "cell_type": "markdown",
   "id": "52654cc8",
   "metadata": {},
   "source": [
    "### Why Use Tuples?\n",
    "\n",
    "- **Data Safety**: Since tuples can't be changed, they're useful for storing data you don't want to accidentally modify, like fixed settings or database records.\n",
    "- **Performance**: Tuples are slightly more memory-efficient and faster than lists, especially for large collections."
   ]
  },
  {
   "cell_type": "code",
   "execution_count": null,
   "id": "425da390",
   "metadata": {},
   "outputs": [
    {
     "name": "stdout",
     "output_type": "stream",
     "text": [
      "Jane Doe\n"
     ]
    }
   ],
   "source": [
    "# Example\n",
    "person = (\"Jane Doe\", 25, 1.75, \"Canada\")\n",
    "print(person[0]) \n"
   ]
  },
  {
   "cell_type": "markdown",
   "id": "94c0adec",
   "metadata": {},
   "source": [
    "### Summary Table\n",
    "\n",
    "| Feature           | Tuple                         | List              |\n",
    "|-------------------|------------------------------|-------------------|\n",
    "| Syntax            | `()`                          | `[]`              |\n",
    "| Mutable           | No                            | Yes               |\n",
    "| Ordered           | Yes                           | Yes               |\n",
    "| Duplicates Allowed| Yes                           | Yes               |\n",
    "| Use Case          | Fixed data, keys in dict      | Dynamic data      |\n",
    "\n",
    "In summary, **a tuple is like a list you can’t change**-useful for grouping related data that should remain constant throughout your program."
   ]
  }
 ],
 "metadata": {
  "kernelspec": {
   "display_name": "Python 3",
   "language": "python",
   "name": "python3"
  },
  "language_info": {
   "codemirror_mode": {
    "name": "ipython",
    "version": 3
   },
   "file_extension": ".py",
   "mimetype": "text/x-python",
   "name": "python",
   "nbconvert_exporter": "python",
   "pygments_lexer": "ipython3",
   "version": "3.11.11"
  }
 },
 "nbformat": 4,
 "nbformat_minor": 5
}
