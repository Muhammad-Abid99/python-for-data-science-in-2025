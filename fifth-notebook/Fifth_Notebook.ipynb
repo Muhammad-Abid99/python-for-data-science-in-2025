{
 "cells": [
  {
   "cell_type": "markdown",
   "id": "46f6fa49",
   "metadata": {},
   "source": [
    "## What is Tuple?"
   ]
  },
  {
   "cell_type": "markdown",
   "id": "15ac5ba1",
   "metadata": {},
   "source": [
    "A **tuple** in Python is a built-in data structure used to store multiple items in a single variable. The key feature that sets tuples apart from lists is that **tuples are immutable**-once you create a tuple, you cannot change, add, or remove its elements.\n",
    "\n",
    "### Key Points About Tuples\n",
    "\n",
    "- **Ordered Collection**: The items in a tuple have a fixed order and can be accessed by their index (starting from 0).\n",
    "- **Immutable**: You cannot modify, add, or delete items in a tuple after it is created.\n",
    "- **Allows Duplicates**: Tuples can contain duplicate values.\n",
    "- **Can Store Different Data Types**: A tuple can contain elements of any type-strings, numbers, booleans, even other tuples.\n",
    "- **Defined with Parentheses**: Tuples are written with round brackets `()` and items are separated by commas.\n"
   ]
  },
  {
   "cell_type": "markdown",
   "id": "fc98689d",
   "metadata": {},
   "source": [
    "### How to Create a Tuple\n",
    "\n",
    "Here are the most common ways to create a tuple:"
   ]
  },
  {
   "cell_type": "code",
   "execution_count": 1,
   "id": "6200b06f",
   "metadata": {},
   "outputs": [],
   "source": [
    "# Multiple items\n",
    "my_tuple = (\"apple\", \"banana\", \"cherry\")\n",
    "\n",
    "# With different data types\n",
    "mixed_tuple = (1, \"hello\", 3.14, True)\n",
    "\n",
    "# Single item (note the comma!)\n",
    "single_item_tuple = (\"apple\",)\n",
    "\n",
    "# Using the tuple() constructor\n",
    "my_list = [1, 2, 3]\n",
    "tuple_from_list = tuple(my_list)\n"
   ]
  },
  {
   "cell_type": "markdown",
   "id": "b8f21ffb",
   "metadata": {},
   "source": [
    "### Common Operations on Tuples in Python\n",
    "\n",
    "Tuples are immutable, ordered collections that allow duplicate elements. While you cannot modify their contents after creation, you can perform a variety of useful operations with them.\n",
    "\n",
    "**Basic Tuple Operations**"
   ]
  },
  {
   "cell_type": "markdown",
   "id": "6a9fef5e",
   "metadata": {},
   "source": [
    "- **Accessing Elements:**  \n",
    "  Access tuple items using indexing and slicing. Positive and negative indices are supported."
   ]
  },
  {
   "cell_type": "code",
   "execution_count": 10,
   "id": "134dc20a",
   "metadata": {},
   "outputs": [
    {
     "name": "stdout",
     "output_type": "stream",
     "text": [
      "banana\n",
      "cherry\n",
      "('apple', 'banana')\n"
     ]
    }
   ],
   "source": [
    "t = (\"apple\", \"banana\", \"cherry\")\n",
    "print(t[1])    # Output: banana\n",
    "print(t[-1])   # Output: cherry\n",
    "print(t[0:2])  # Output: ('apple', 'banana')\n"
   ]
  },
  {
   "cell_type": "markdown",
   "id": "dcd85a9e",
   "metadata": {},
   "source": [
    "- **Concatenation:**  \n",
    "  Combine two or more tuples using the `+` operator."
   ]
  },
  {
   "cell_type": "code",
   "execution_count": 12,
   "id": "40f2ce9f",
   "metadata": {},
   "outputs": [
    {
     "name": "stdout",
     "output_type": "stream",
     "text": [
      "(1, 2, 3, 4)\n"
     ]
    }
   ],
   "source": [
    "t1 = (1, 2)\n",
    "t2 = (3, 4)\n",
    "t3 = t1 + t2  # (1, 2, 3, 4)\n",
    "print(t3)\n"
   ]
  },
  {
   "cell_type": "markdown",
   "id": "c7a0f1e5",
   "metadata": {},
   "source": [
    "- **Repetition:**  \n",
    "  Repeat a tuple multiple times using the `*` operator."
   ]
  },
  {
   "cell_type": "code",
   "execution_count": 14,
   "id": "4122f0f2",
   "metadata": {},
   "outputs": [
    {
     "name": "stdout",
     "output_type": "stream",
     "text": [
      "(1, 2, 1, 2, 1, 2)\n"
     ]
    }
   ],
   "source": [
    "t = (1, 2)\n",
    "t_repeated = t * 3  # (1, 2, 1, 2, 1, 2)\n",
    "print(t_repeated)"
   ]
  },
  {
   "cell_type": "markdown",
   "id": "2270c9e8",
   "metadata": {},
   "source": [
    "- **Membership Test:**  \n",
    "  Check if an item exists in a tuple using the `in` operator."
   ]
  },
  {
   "cell_type": "code",
   "execution_count": 15,
   "id": "af2d4b94",
   "metadata": {},
   "outputs": [
    {
     "name": "stdout",
     "output_type": "stream",
     "text": [
      "True\n"
     ]
    }
   ],
   "source": [
    "t = (1, 2, 3)\n",
    "print(2 in t)  # True\n"
   ]
  },
  {
   "cell_type": "markdown",
   "id": "b6850a65",
   "metadata": {},
   "source": [
    "- **Length:**  \n",
    "  Get the number of elements using `len()`."
   ]
  },
  {
   "cell_type": "code",
   "execution_count": 17,
   "id": "46c31705",
   "metadata": {},
   "outputs": [
    {
     "name": "stdout",
     "output_type": "stream",
     "text": [
      "3\n"
     ]
    }
   ],
   "source": [
    "t = (1, 2, 3)\n",
    "print(len(t))  # 3\n"
   ]
  },
  {
   "cell_type": "markdown",
   "id": "0819889b",
   "metadata": {},
   "source": [
    "- **Tuple Unpacking:**  \n",
    "  Assign tuple elements to variables in a single statement."
   ]
  },
  {
   "cell_type": "code",
   "execution_count": 19,
   "id": "5c154213",
   "metadata": {},
   "outputs": [
    {
     "name": "stdout",
     "output_type": "stream",
     "text": [
      "1 2 3\n"
     ]
    }
   ],
   "source": [
    "t = (1, 2, 3)\n",
    "a, b, c = t\n",
    "print(a,b,c)\n"
   ]
  },
  {
   "cell_type": "markdown",
   "id": "56ad4aa5",
   "metadata": {},
   "source": [
    "- **Slicing:**  \n",
    "  Extract a range of elements to create a new tuple."
   ]
  },
  {
   "cell_type": "code",
   "execution_count": 20,
   "id": "9418b9cd",
   "metadata": {},
   "outputs": [
    {
     "name": "stdout",
     "output_type": "stream",
     "text": [
      "(2, 3, 4)\n"
     ]
    }
   ],
   "source": [
    "t = (1, 2, 3, 4, 5)\n",
    "print(t[1:4])  # (2, 3, 4)\n"
   ]
  },
  {
   "cell_type": "markdown",
   "id": "51e2bf48",
   "metadata": {},
   "source": [
    "**Tuple Methods**\n",
    "\n",
    "Tuples have only two built-in methods:\n",
    "- `count(x)`: Returns the number of times `x` appears in the tuple.\n",
    "- `index(x)`: Returns the index of the first occurrence of `x`. Raises `ValueError` if not found.\n"
   ]
  },
  {
   "cell_type": "code",
   "execution_count": 21,
   "id": "f37343e4",
   "metadata": {},
   "outputs": [
    {
     "name": "stdout",
     "output_type": "stream",
     "text": [
      "2\n",
      "3\n"
     ]
    }
   ],
   "source": [
    "t = (1, 2, 2, 3)\n",
    "print(t.count(2))  # 2\n",
    "print(t.index(3))  # 3\n"
   ]
  },
  {
   "cell_type": "markdown",
   "id": "a017c067",
   "metadata": {},
   "source": [
    "**Other Useful Built-in Functions**\n",
    "\n",
    "- `min(tuple)`, `max(tuple)`: Return the smallest/largest element.\n",
    "- `sum(tuple)`: Returns the sum of elements (for numeric tuples)."
   ]
  },
  {
   "cell_type": "code",
   "execution_count": 22,
   "id": "1f68919c",
   "metadata": {},
   "outputs": [
    {
     "name": "stdout",
     "output_type": "stream",
     "text": [
      "1\n",
      "3\n",
      "6\n"
     ]
    }
   ],
   "source": [
    "t = (1, 2, 3)\n",
    "print(min(t))  # 1\n",
    "print(max(t))  # 3\n",
    "print(sum(t))  # 6\n"
   ]
  },
  {
   "cell_type": "markdown",
   "id": "ba5ccda4",
   "metadata": {},
   "source": [
    "**Immutability and Workarounds**\n",
    "\n",
    "- Tuples cannot be changed after creation. Any operation that seems to \"modify\" a tuple (like removing an element) actually creates a new tuple, often via slicing or concatenation.\n",
    "\n",
    "**Summary Table of Tuple Operations**\n",
    "\n",
    "| Operation         | Example Syntax                    | Description                                   |\n",
    "|-------------------|----------------------------------|-----------------------------------------------|\n",
    "| Access            | `t`, `t[-1]`, `t[1:3]`        | Indexing and slicing                          |\n",
    "| Concatenation     | `t1 + t2`                        | Combine tuples                                |\n",
    "| Repetition        | `t * n`                          | Repeat tuple                                  |\n",
    "| Membership        | `x in t`                         | Check existence of element                    |\n",
    "| Length            | `len(t)`                         | Number of elements                            |\n",
    "| Count             | `t.count(x)`                     | Occurrences of x                              |\n",
    "| Index             | `t.index(x)`                     | First index of x                              |\n",
    "| Min/Max/Sum       | `min(t)`, `max(t)`, `sum(t)`     | Aggregate numeric operations                  |\n",
    "| Unpacking         | `a, b = t`                       | Assign elements to variables                  |\n",
    "\n",
    "Tuples are efficient and useful for fixed, ordered collections where immutability is required."
   ]
  },
  {
   "cell_type": "markdown",
   "id": "52654cc8",
   "metadata": {},
   "source": [
    "### Why Use Tuples?\n",
    "\n",
    "- **Data Safety**: Since tuples can't be changed, they're useful for storing data you don't want to accidentally modify, like fixed settings or database records.\n",
    "- **Performance**: Tuples are slightly more memory-efficient and faster than lists, especially for large collections."
   ]
  },
  {
   "cell_type": "code",
   "execution_count": null,
   "id": "425da390",
   "metadata": {},
   "outputs": [
    {
     "name": "stdout",
     "output_type": "stream",
     "text": [
      "Jane Doe\n"
     ]
    }
   ],
   "source": [
    "# Example\n",
    "person = (\"Jane Doe\", 25, 1.75, \"Canada\")\n",
    "print(person[0]) \n"
   ]
  },
  {
   "cell_type": "markdown",
   "id": "94c0adec",
   "metadata": {},
   "source": [
    "### Summary Table\n",
    "\n",
    "| Feature           | Tuple                         | List              |\n",
    "|-------------------|------------------------------|-------------------|\n",
    "| Syntax            | `()`                          | `[]`              |\n",
    "| Mutable           | No                            | Yes               |\n",
    "| Ordered           | Yes                           | Yes               |\n",
    "| Duplicates Allowed| Yes                           | Yes               |\n",
    "| Use Case          | Fixed data, keys in dict      | Dynamic data      |\n",
    "\n",
    "In summary, **a tuple is like a list you can’t change**-useful for grouping related data that should remain constant throughout your program."
   ]
  },
  {
   "cell_type": "markdown",
   "id": "a1472b8a",
   "metadata": {},
   "source": [
    "### Deleting a Tuple in Python\n",
    "\n",
    "**Tuples in Python are immutable**, which means their contents cannot be changed, added to, or removed after creation. However, you can delete an entire tuple or simulate item removal by using workarounds.\n",
    "\n",
    "### Can You Delete a Tuple?\n",
    "\n",
    "- **You cannot delete individual elements** from a tuple directly because of immutability. Any attempt to delete an element, such as using `del tuple_variable[index]`, will result in a `TypeError`.\n",
    "- **You can delete the entire tuple** using the `del` statement. For example:"
   ]
  },
  {
   "cell_type": "code",
   "execution_count": 4,
   "id": "c150a269",
   "metadata": {},
   "outputs": [],
   "source": [
    "my_tuple = (1, 2, 3)\n",
    "del my_tuple\n",
    "# Trying to print my_tuple now will raise a NameError"
   ]
  },
  {
   "cell_type": "markdown",
   "id": "4b93b858",
   "metadata": {},
   "source": [
    "After deletion, any reference to the tuple will raise an error because it no longer exists.\n",
    "### Can You Remove Items from a Tuple?\n",
    "\n",
    "- **Direct removal is not possible.** Tuples do not support item deletion or modification.\n",
    "- **Workaround:** If you need to \"remove\" an item, you can:\n",
    "  1. Convert the tuple to a list.\n",
    "  2. Remove the desired element(s) from the list.\n",
    "  3. Convert the list back to a tuple."
   ]
  },
  {
   "cell_type": "code",
   "execution_count": 6,
   "id": "ffdaf59d",
   "metadata": {},
   "outputs": [
    {
     "name": "stdout",
     "output_type": "stream",
     "text": [
      "(1, 2, 4)\n"
     ]
    }
   ],
   "source": [
    "my_tuple = (1, 2, 3, 4)\n",
    "temp_list = list(my_tuple)\n",
    "temp_list.remove(3)\n",
    "my_tuple = tuple(temp_list)\n",
    "print(my_tuple)\n"
   ]
  },
  {
   "cell_type": "markdown",
   "id": "f45afc8a",
   "metadata": {},
   "source": [
    "  This does not change the original tuple but creates a new one without the removed elements.\n",
    "\n",
    "### Clearing a Tuple\n",
    "\n",
    "- **To \"clear\" a tuple** (i.e., make it empty), you can assign an empty tuple to the variable:"
   ]
  },
  {
   "cell_type": "code",
   "execution_count": 8,
   "id": "76e0e0ab",
   "metadata": {},
   "outputs": [
    {
     "name": "stdout",
     "output_type": "stream",
     "text": [
      "()\n"
     ]
    }
   ],
   "source": [
    "my_tuple = (1, 2, 3)\n",
    "my_tuple = ()\n",
    "print(my_tuple)\n"
   ]
  },
  {
   "cell_type": "markdown",
   "id": "b389ea5f",
   "metadata": {},
   "source": [
    "\n",
    "  Alternatively, you can delete the tuple entirely with `del my_tuple`.\n",
    "\n",
    "### Summary Table\n",
    "\n",
    "| Operation           | Possible Directly? | Workaround Available?        |\n",
    "|---------------------|--------------------|-----------------------------|\n",
    "| Delete entire tuple | Yes (`del`)        | N/A                         |\n",
    "| Delete single item  | No                 | Convert to list, modify, back to tuple |\n",
    "| Clear all items     | No                 | Assign `()` or use workaround |\n",
    "\n",
    "**In summary:**  \n",
    "You cannot delete individual elements from a tuple due to immutability, but you can delete the entire tuple with `del`. If you need to remove specific items, convert the tuple to a list, modify it, and convert it back to a tuple."
   ]
  }
 ],
 "metadata": {
  "kernelspec": {
   "display_name": "Python 3",
   "language": "python",
   "name": "python3"
  },
  "language_info": {
   "codemirror_mode": {
    "name": "ipython",
    "version": 3
   },
   "file_extension": ".py",
   "mimetype": "text/x-python",
   "name": "python",
   "nbconvert_exporter": "python",
   "pygments_lexer": "ipython3",
   "version": "3.11.11"
  }
 },
 "nbformat": 4,
 "nbformat_minor": 5
}
