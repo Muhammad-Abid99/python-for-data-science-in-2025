{
 "cells": [
  {
   "cell_type": "markdown",
   "id": "46f6fa49",
   "metadata": {},
   "source": [
    "## What is Tuple?"
   ]
  },
  {
   "cell_type": "markdown",
   "id": "15ac5ba1",
   "metadata": {},
   "source": [
    "A **tuple** in Python is a built-in data structure used to store multiple items in a single variable. The key feature that sets tuples apart from lists is that **tuples are immutable**-once you create a tuple, you cannot change, add, or remove its elements.\n",
    "\n",
    "### Key Points About Tuples\n",
    "\n",
    "- **Ordered Collection**: The items in a tuple have a fixed order and can be accessed by their index (starting from 0).\n",
    "- **Immutable**: You cannot modify, add, or delete items in a tuple after it is created.\n",
    "- **Allows Duplicates**: Tuples can contain duplicate values.\n",
    "- **Can Store Different Data Types**: A tuple can contain elements of any type-strings, numbers, booleans, even other tuples.\n",
    "- **Defined with Parentheses**: Tuples are written with round brackets `()` and items are separated by commas.\n"
   ]
  },
  {
   "cell_type": "markdown",
   "id": "fc98689d",
   "metadata": {},
   "source": [
    "### How to Create a Tuple\n",
    "\n",
    "Here are the most common ways to create a tuple:"
   ]
  },
  {
   "cell_type": "code",
   "execution_count": 1,
   "id": "6200b06f",
   "metadata": {},
   "outputs": [],
   "source": [
    "# Multiple items\n",
    "my_tuple = (\"apple\", \"banana\", \"cherry\")\n",
    "\n",
    "# With different data types\n",
    "mixed_tuple = (1, \"hello\", 3.14, True)\n",
    "\n",
    "# Single item (note the comma!)\n",
    "single_item_tuple = (\"apple\",)\n",
    "\n",
    "# Using the tuple() constructor\n",
    "my_list = [1, 2, 3]\n",
    "tuple_from_list = tuple(my_list)\n"
   ]
  },
  {
   "cell_type": "markdown",
   "id": "1ad1c55d",
   "metadata": {},
   "source": [
    "### Accessing Tuple Elements\n",
    "\n",
    "You can access tuple elements using their index:"
   ]
  },
  {
   "cell_type": "code",
   "execution_count": null,
   "id": "ec58ee28",
   "metadata": {},
   "outputs": [
    {
     "name": "stdout",
     "output_type": "stream",
     "text": [
      "banana\n",
      "cherry\n"
     ]
    }
   ],
   "source": [
    "fruits = (\"apple\", \"banana\", \"cherry\")\n",
    "print(fruits[1])    \n",
    "print(fruits[-1])   \n"
   ]
  },
  {
   "cell_type": "markdown",
   "id": "52654cc8",
   "metadata": {},
   "source": [
    "### Why Use Tuples?\n",
    "\n",
    "- **Data Safety**: Since tuples can't be changed, they're useful for storing data you don't want to accidentally modify, like fixed settings or database records.\n",
    "- **Performance**: Tuples are slightly more memory-efficient and faster than lists, especially for large collections."
   ]
  },
  {
   "cell_type": "code",
   "execution_count": null,
   "id": "425da390",
   "metadata": {},
   "outputs": [
    {
     "name": "stdout",
     "output_type": "stream",
     "text": [
      "Jane Doe\n"
     ]
    }
   ],
   "source": [
    "# Example\n",
    "person = (\"Jane Doe\", 25, 1.75, \"Canada\")\n",
    "print(person[0]) \n"
   ]
  },
  {
   "cell_type": "markdown",
   "id": "94c0adec",
   "metadata": {},
   "source": [
    "### Summary Table\n",
    "\n",
    "| Feature           | Tuple                         | List              |\n",
    "|-------------------|------------------------------|-------------------|\n",
    "| Syntax            | `()`                          | `[]`              |\n",
    "| Mutable           | No                            | Yes               |\n",
    "| Ordered           | Yes                           | Yes               |\n",
    "| Duplicates Allowed| Yes                           | Yes               |\n",
    "| Use Case          | Fixed data, keys in dict      | Dynamic data      |\n",
    "\n",
    "In summary, **a tuple is like a list you can’t change**-useful for grouping related data that should remain constant throughout your program."
   ]
  },
  {
   "cell_type": "markdown",
   "id": "a1472b8a",
   "metadata": {},
   "source": [
    "### Deleting a Tuple in Python\n",
    "\n",
    "**Tuples in Python are immutable**, which means their contents cannot be changed, added to, or removed after creation. However, you can delete an entire tuple or simulate item removal by using workarounds.\n",
    "\n",
    "### Can You Delete a Tuple?\n",
    "\n",
    "- **You cannot delete individual elements** from a tuple directly because of immutability. Any attempt to delete an element, such as using `del tuple_variable[index]`, will result in a `TypeError`.\n",
    "- **You can delete the entire tuple** using the `del` statement. For example:"
   ]
  },
  {
   "cell_type": "code",
   "execution_count": 4,
   "id": "c150a269",
   "metadata": {},
   "outputs": [],
   "source": [
    "my_tuple = (1, 2, 3)\n",
    "del my_tuple\n",
    "# Trying to print my_tuple now will raise a NameError"
   ]
  },
  {
   "cell_type": "markdown",
   "id": "4b93b858",
   "metadata": {},
   "source": [
    "After deletion, any reference to the tuple will raise an error because it no longer exists.\n",
    "### Can You Remove Items from a Tuple?\n",
    "\n",
    "- **Direct removal is not possible.** Tuples do not support item deletion or modification.\n",
    "- **Workaround:** If you need to \"remove\" an item, you can:\n",
    "  1. Convert the tuple to a list.\n",
    "  2. Remove the desired element(s) from the list.\n",
    "  3. Convert the list back to a tuple."
   ]
  },
  {
   "cell_type": "code",
   "execution_count": 6,
   "id": "ffdaf59d",
   "metadata": {},
   "outputs": [
    {
     "name": "stdout",
     "output_type": "stream",
     "text": [
      "(1, 2, 4)\n"
     ]
    }
   ],
   "source": [
    "my_tuple = (1, 2, 3, 4)\n",
    "temp_list = list(my_tuple)\n",
    "temp_list.remove(3)\n",
    "my_tuple = tuple(temp_list)\n",
    "print(my_tuple)\n"
   ]
  },
  {
   "cell_type": "markdown",
   "id": "f45afc8a",
   "metadata": {},
   "source": [
    "  This does not change the original tuple but creates a new one without the removed elements.\n",
    "\n",
    "### Clearing a Tuple\n",
    "\n",
    "- **To \"clear\" a tuple** (i.e., make it empty), you can assign an empty tuple to the variable:"
   ]
  },
  {
   "cell_type": "code",
   "execution_count": 8,
   "id": "76e0e0ab",
   "metadata": {},
   "outputs": [
    {
     "name": "stdout",
     "output_type": "stream",
     "text": [
      "()\n"
     ]
    }
   ],
   "source": [
    "my_tuple = (1, 2, 3)\n",
    "my_tuple = ()\n",
    "print(my_tuple)\n"
   ]
  },
  {
   "cell_type": "markdown",
   "id": "b389ea5f",
   "metadata": {},
   "source": [
    "\n",
    "  Alternatively, you can delete the tuple entirely with `del my_tuple`.\n",
    "\n",
    "### Summary Table\n",
    "\n",
    "| Operation           | Possible Directly? | Workaround Available?        |\n",
    "|---------------------|--------------------|-----------------------------|\n",
    "| Delete entire tuple | Yes (`del`)        | N/A                         |\n",
    "| Delete single item  | No                 | Convert to list, modify, back to tuple |\n",
    "| Clear all items     | No                 | Assign `()` or use workaround |\n",
    "\n",
    "**In summary:**  \n",
    "You cannot delete individual elements from a tuple due to immutability, but you can delete the entire tuple with `del`. If you need to remove specific items, convert the tuple to a list, modify it, and convert it back to a tuple."
   ]
  }
 ],
 "metadata": {
  "kernelspec": {
   "display_name": "Python 3",
   "language": "python",
   "name": "python3"
  },
  "language_info": {
   "codemirror_mode": {
    "name": "ipython",
    "version": 3
   },
   "file_extension": ".py",
   "mimetype": "text/x-python",
   "name": "python",
   "nbconvert_exporter": "python",
   "pygments_lexer": "ipython3",
   "version": "3.11.11"
  }
 },
 "nbformat": 4,
 "nbformat_minor": 5
}
