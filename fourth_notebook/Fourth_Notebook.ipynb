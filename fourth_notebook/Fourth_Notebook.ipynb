{
 "cells": [
  {
   "cell_type": "markdown",
   "id": "58067f6d-0e45-4095-9101-1f75277a78bc",
   "metadata": {},
   "source": [
    "## 1. List\n",
    "\n",
    "- What are List?\n",
    "- Lists Vs Arrays\n",
    "- Characterstics of a List\n",
    "- How to create a list\n",
    "- Access items from a List\n",
    "- Editing items in a List\n",
    "- Deleting items from a List\n",
    "- Operations on Lists\n",
    "- Functions on Lists\n"
   ]
  },
  {
   "cell_type": "markdown",
   "id": "d7c7ee20-b971-4cc5-917a-dbbe47d38992",
   "metadata": {},
   "source": [
    "### What are List\n",
    "\n",
    "List is a data type where you can store multiple items under 1 name. More technically, lists act like dynamic arrays which means you can add more items on the fly.\n",
    "\n",
    "<p align=\"center\">\n",
    "  <img src=\"images/python-list.jpg\" alt=\"PRKWS\" width=\"700\"/>\n",
    "</p>"
   ]
  },
  {
   "cell_type": "markdown",
   "id": "34d0b460-d959-49d7-83d2-21821f7ef513",
   "metadata": {},
   "source": [
    "## Array vs List\n",
    "\n",
    "**Prose of list**\n",
    "\n",
    "- Fixed Vs Dynamic Size: Array is fixed size but List is dynamic array.\n",
    "- Convenience -> Hetrogeneous: Meant we can store multiple types of data in list but not in array.\n",
    "\n",
    "**Conse of list**\n",
    "\n",
    "- Speed of Execution: Python list are slow incomperasion of Array.\n",
    "- Memory: Also python list occupy more memory (Because list is refrencial array) than array."
   ]
  },
  {
   "cell_type": "markdown",
   "id": "4c54961a-42e4-421b-821c-8575d41ff909",
   "metadata": {},
   "source": [
    "## How list are stored in memory To understand it we use `id()` function.\n",
    "\n",
    "## What is `id()` ?\n",
    "\n",
    "The `id()` is a built-in function in Python that returns the **identity** of an object. This identity is an integer that is guaranteed to be unique and constant for the object during its lifetime. In the standard CPython implementation, this integer corresponds to the memory address where the object is stored.\n",
    "\n",
    "### Key Points about `id()`:\n",
    "\n",
    "- **Purpose:** Returns a unique integer representing the object's identity.\n",
    "- **Uniqueness:** The returned value is unique for the object while it exists. Two different objects will have different `id()` values.\n",
    "- **Lifetime:** If an object is destroyed, its `id()` value can be reused by a new object created later.\n",
    "- **CPython Detail:** The `id()` value is the memory address of the object in CPython.\n",
    "- **Usage:** Commonly used for debugging, to check if two variables refer to the same object (equivalent to the `is` operator).\n",
    "\n",
    "### Summary\n",
    "\n",
    "- `id()` provides a way to get the unique identity of an object.\n",
    "- It is mainly useful to understand object references and memory management.\n",
    "- Equivalent to checking `x is y` when comparing two objects."
   ]
  },
  {
   "cell_type": "code",
   "execution_count": 1,
   "id": "f3dfb6f5-2e8b-4ad0-b76e-a7d1c134be4a",
   "metadata": {},
   "outputs": [
    {
     "name": "stdout",
     "output_type": "stream",
     "text": [
      "2759928847552\n",
      "140724376513016\n",
      "140724376513048\n",
      "140724376513080\n",
      "140724376513016\n",
      "140724376513048\n",
      "140724376513080\n"
     ]
    }
   ],
   "source": [
    "# Using id function find memory loaction.\n",
    "\n",
    "L = [3,4,5]\n",
    "\n",
    "print(id(L))        # It's a memeory location of list\n",
    "print(id(L[0]))     # Memory location of first item and so on\n",
    "print(id(L[1]))\n",
    "print(id(L[2]))\n",
    "\n",
    "# Now you can see here and understand it carefully. Meant id of 3 is nothing but id of first index.\n",
    "print(id(3))\n",
    "print(id(4))\n",
    "print(id(5))"
   ]
  },
  {
   "cell_type": "markdown",
   "id": "d64a118c",
   "metadata": {},
   "source": [
    "## Characterstics of a List\n",
    "\n",
    "- Ordered\n",
    "- Changeble/Mutable\n",
    "- Hetrogeneous\n",
    "- Can have duplicates\n",
    "- are dynamic\n",
    "- can be nested\n",
    "- items can be accessed\n",
    "- can contain any kind of objects."
   ]
  },
  {
   "cell_type": "markdown",
   "id": "de5b5923",
   "metadata": {},
   "source": [
    "## Creating a List"
   ]
  },
  {
   "cell_type": "code",
   "execution_count": 1,
   "id": "d663742c",
   "metadata": {},
   "outputs": [
    {
     "name": "stdout",
     "output_type": "stream",
     "text": [
      "It's a empty list []\n",
      "It's a 1D list also you can call it homogenous list [1, 2, 3, 4, 5]\n",
      "It's a 2D list [1, 2, 3, [4, 5, 6]]\n",
      "It's a 3D list [[[1, 2], [3, 4]], [[5, 6], [7, 8]]]\n",
      "It's a hetrogenous list [1, 2, True, 3.4, 30j, 'Hello']\n",
      "It's a type converted list ['h', 'e', 'l', 'l', 'o']\n"
     ]
    }
   ],
   "source": [
    "# Empty\n",
    "print(\"It's a empty list\", [])\n",
    "# 1D -> Homogeneous\n",
    "print(\"It's a 1D list also you can call it homogenous list\", [1,2,3,4,5])\n",
    "# 2D -> Hetrogenous\n",
    "print(\"It's a 2D list\", [1, 2, 3,[4, 5, 6]])\n",
    "# 3D\n",
    "print(\"It's a 3D list\", [[[1, 2],[3, 4]],[[5, 6],[7, 8]]]) # it's a homogenous list because inside list are 2D list not different item.\n",
    "# Hetrogenous\n",
    "print(\"It's a hetrogenous list\", [1,2,True,3.4,5*6j, 'Hello'])\n",
    "# Using Type conversion\n",
    "print(\"It's a type converted list\",list('hello'))"
   ]
  },
  {
   "cell_type": "markdown",
   "id": "f3f9f1fa",
   "metadata": {},
   "source": [
    "## Accessing Items:\n",
    "\n",
    "Using **Indexing**\n",
    "\n",
    "Using **Slicing**"
   ]
  },
  {
   "cell_type": "code",
   "execution_count": 2,
   "id": "106eedb5",
   "metadata": {},
   "outputs": [
    {
     "name": "stdout",
     "output_type": "stream",
     "text": [
      "4\n",
      "5\n"
     ]
    }
   ],
   "source": [
    "# Indexing are two type first positive this is start from 0 and move on left to right.\n",
    "L = [1,2,3,4,5]\n",
    "print(L[3])\n",
    "\n",
    "# Second type of indexing is negative this start from minus one (-1) and move on right to left.\n",
    "print(L[-1])"
   ]
  },
  {
   "cell_type": "code",
   "execution_count": 3,
   "id": "ec2b8e8f",
   "metadata": {},
   "outputs": [
    {
     "name": "stdout",
     "output_type": "stream",
     "text": [
      "5\n",
      "4\n"
     ]
    }
   ],
   "source": [
    "# How to fetch any item from 2D list using indexing?\n",
    "\n",
    "# Understand this concept\n",
    "\n",
    "L = [1,2,3,[4,5]]\n",
    "print(L[3][1])    # Using positive indexing fetch \"5\"\n",
    "\n",
    "print(L[-1][-2])  # Using negative indexing fetch \"4\""
   ]
  },
  {
   "cell_type": "code",
   "execution_count": 4,
   "id": "10cf6ea4",
   "metadata": {},
   "outputs": [
    {
     "name": "stdout",
     "output_type": "stream",
     "text": [
      "Using positive indexing --> 7\n",
      "Using negative indexing --> 3\n"
     ]
    }
   ],
   "source": [
    "# How to fetch any item form 3D list using positive indexing?\n",
    "\n",
    "L = [[[1, 2],[3, 4]],[[5, 6],[7, 8]]]\n",
    "\n",
    "# Here we will learn how to fetch \"7\"\n",
    "\n",
    "# first step \n",
    "#print(L[1])\n",
    "\n",
    "# second step\n",
    "#print(L[1][1])\n",
    "\n",
    "# third and last step\n",
    "print(\"Using positive indexing -->\", L[1][1][0]) # finel code snippet\n",
    "\n",
    "# How to fetch any item form 3D list using Negative indexing?\n",
    "\n",
    "# Here we will learn how to fetch \"3\"\n",
    "\n",
    "# first step\n",
    "#print(L[-2])\n",
    "\n",
    "# second step\n",
    "#print(L[-2][-1])\n",
    "\n",
    "# third and last step\n",
    "print(\"Using negative indexing -->\", L[-2][-1][-2]) # finel code snippet"
   ]
  },
  {
   "cell_type": "markdown",
   "id": "ac4c72ba",
   "metadata": {},
   "source": [
    "### Accessing items using slicing:"
   ]
  },
  {
   "cell_type": "code",
   "execution_count": 1,
   "id": "51935f3e",
   "metadata": {},
   "outputs": [
    {
     "name": "stdout",
     "output_type": "stream",
     "text": [
      "Using positive slicing [1, 2, 3, 4, 5]\n",
      "Using negative slicing [3, 4, 5, 6]\n"
     ]
    }
   ],
   "source": [
    "L = [1,2,3,4,5,6,7]\n",
    "print(\"Using positive slicing\", L[0:5])\n",
    "\n",
    "print(\"Using negative slicing\", L[-5:-1])"
   ]
  },
  {
   "cell_type": "code",
   "execution_count": 2,
   "id": "17d0ecfa",
   "metadata": {},
   "outputs": [
    {
     "name": "stdout",
     "output_type": "stream",
     "text": [
      "[1, 3, 5, 7]\n"
     ]
    }
   ],
   "source": [
    "# Using positive slicing\n",
    "L = [1,2,3,4,5,6,7]\n",
    "\n",
    "# print alternative digits\n",
    "print(L[::2]) # here first colon says print from 0 index and second colon says to last index and 2 says print alternative numbers not all.\n"
   ]
  },
  {
   "cell_type": "code",
   "execution_count": 3,
   "id": "5679415b",
   "metadata": {},
   "outputs": [
    {
     "name": "stdout",
     "output_type": "stream",
     "text": [
      "Complete list in reverse order -->  [7, 6, 5, 4, 3, 2, 1]\n",
      "[7, 5, 3, 1]\n",
      "[1, 3, 5]\n"
     ]
    }
   ],
   "source": [
    "# Using negative slicing\n",
    "L = [1,2,3,4,5,6,7]\n",
    "\n",
    "# Complete list in reverse order\n",
    "print(\"Complete list in reverse order --> \", L[::-1])\n",
    "\n",
    "# Alternative item in reverse order\n",
    "print(L[::-2])\n",
    "\n",
    "print(L[:-1:2])"
   ]
  },
  {
   "cell_type": "markdown",
   "id": "91490ca4",
   "metadata": {},
   "source": [
    "### Three important methods\n",
    "\n",
    "Python lists provide three important methods for adding elements: **append()**, **extend()**, and **insert()**. Each serves a different purpose:"
   ]
  },
  {
   "cell_type": "markdown",
   "id": "45d7a6f6",
   "metadata": {},
   "source": [
    "### append()\n",
    "\n",
    "- **Purpose:** Adds a single element to the end of the list.\n",
    "- **Usage:**"
   ]
  },
  {
   "cell_type": "code",
   "execution_count": 4,
   "id": "1d34e363",
   "metadata": {},
   "outputs": [
    {
     "name": "stdout",
     "output_type": "stream",
     "text": [
      "Before appending an item output is --> ['apple', 'banana', 'cherry']\n",
      "After appending an item result is here --> ['apple', 'banana', 'cherry', 'orange']\n"
     ]
    }
   ],
   "source": [
    "fruits = ['apple', 'banana', 'cherry']\n",
    "print(\"Before appending an item output is -->\", fruits)\n",
    "\n",
    "fruits.append('orange')\n",
    "print(\"After appending an item result is here -->\", fruits)"
   ]
  },
  {
   "cell_type": "markdown",
   "id": "1f1d801e",
   "metadata": {},
   "source": [
    "- **Note:** If you append a list, it is added as a single element (a nested list), not merged with the original list."
   ]
  },
  {
   "cell_type": "markdown",
   "id": "ae9fbd76",
   "metadata": {},
   "source": [
    "### extend()\n",
    "\n",
    "- **Purpose:** Adds all elements from an iterable (like another list, tuple, or set) to the end of the list.\n",
    "- **Usage:**"
   ]
  },
  {
   "cell_type": "code",
   "execution_count": 5,
   "id": "d560a9e5",
   "metadata": {},
   "outputs": [
    {
     "name": "stdout",
     "output_type": "stream",
     "text": [
      "['apple', 'banana', 'cherry', 'Ford', 'BMW', 'Volvo']\n"
     ]
    }
   ],
   "source": [
    "fruits = ['apple', 'banana', 'cherry']\n",
    "cars = ['Ford', 'BMW', 'Volvo']\n",
    "fruits.extend(cars)\n",
    "print(fruits)"
   ]
  },
  {
   "cell_type": "markdown",
   "id": "9bfe5144",
   "metadata": {},
   "source": [
    "- **Note:** Each element of the iterable is added individually, not as a single nested object."
   ]
  },
  {
   "cell_type": "markdown",
   "id": "acf2be7f",
   "metadata": {},
   "source": [
    "### insert()\n",
    "\n",
    "- **Purpose:** Inserts a single element at a specified index in the list.\n",
    "- **Usage:**"
   ]
  },
  {
   "cell_type": "code",
   "execution_count": 6,
   "id": "2a9b8676",
   "metadata": {},
   "outputs": [
    {
     "name": "stdout",
     "output_type": "stream",
     "text": [
      "['Ghulam', 'Ali', 'Muhammad', 'Abid']\n"
     ]
    }
   ],
   "source": [
    "names = ['Ghulam', 'Muhammad', 'Abid']\n",
    "names.insert(1, 'Ali')\n",
    "print(names)"
   ]
  },
  {
   "cell_type": "markdown",
   "id": "595f5ee8",
   "metadata": {},
   "source": [
    "- **Note:** Elements at and after the specified index are shifted to the right. If the index is greater than the list length, the element is added at the end. Negative indices are also supported."
   ]
  },
  {
   "cell_type": "markdown",
   "id": "ee073da8",
   "metadata": {},
   "source": [
    "**Summary:**  \n",
    "- Use `append()` to add a single item at the end.\n",
    "- Use `extend()` to add multiple items from another iterable.\n",
    "- Use `insert()` to add a single item at a specific position in the list."
   ]
  },
  {
   "cell_type": "markdown",
   "id": "10bb0dc2",
   "metadata": {},
   "source": [
    "## Editing items in a List"
   ]
  },
  {
   "cell_type": "code",
   "execution_count": 1,
   "id": "914b9368",
   "metadata": {},
   "outputs": [
    {
     "name": "stdout",
     "output_type": "stream",
     "text": [
      "Before edditing --> [1, 2, 3, 4, 5, 6, 7]\n",
      "After edditing --> [1, 2, 3, 4, 5, 6, 700]\n"
     ]
    }
   ],
   "source": [
    "# Editing with indexing.\n",
    "\n",
    "L = [1,2,3,4,5,6,7]\n",
    "print('Before edditing -->', L)\n",
    "\n",
    "L[-1] = 700\n",
    "print('After edditing -->', L)"
   ]
  },
  {
   "cell_type": "code",
   "execution_count": 2,
   "id": "c2efa9ea",
   "metadata": {},
   "outputs": [
    {
     "name": "stdout",
     "output_type": "stream",
     "text": [
      "Before edditing --> [1, 2, 3, 4, 5, 6, 7]\n",
      "After edditin --> [1, 200, 300, 400, 500, 6, 7]\n"
     ]
    }
   ],
   "source": [
    "# Editing with slicing\n",
    "\n",
    "L = [1,2,3,4,5,6,7]\n",
    "print('Before edditing -->', L)\n",
    "\n",
    "L[1:5] = 200, 300, 400, 500\n",
    "print('After edditin -->', L)"
   ]
  },
  {
   "cell_type": "markdown",
   "id": "50b8b63c",
   "metadata": {},
   "source": [
    "## Deleting a Specific Item\n",
    "\n",
    "You can delete items from a list in Python in several ways, depending on whether you want to remove a specific item by value, by index, or clear the entire list.\n",
    "\n",
    "You can choose the method that best fits your need: remove a specific item, clear all items, or delete the entire list object.\n",
    "\n",
    "- **First By Value:** Use the `remove()` method to delete the first occurrence of a specific value."
   ]
  },
  {
   "cell_type": "code",
   "execution_count": 3,
   "id": "8f127f1a",
   "metadata": {},
   "outputs": [
    {
     "name": "stdout",
     "output_type": "stream",
     "text": [
      "Before Removing item my list is --> ['apple', 'banana', 'cherry', 'banana']\n",
      "After Removing Banana from list now my list is --> ['apple', 'cherry', 'banana']\n"
     ]
    }
   ],
   "source": [
    "my_list = [\"apple\", \"banana\", \"cherry\", \"banana\"]\n",
    "print('Before Removing item my list is -->', my_list)\n",
    "\n",
    "my_list.remove(\"banana\") # Removes the only first \"banana\" not all.\n",
    "print('After Removing Banana from list now my list is -->', my_list)"
   ]
  },
  {
   "cell_type": "markdown",
   "id": "7e097120",
   "metadata": {},
   "source": [
    "  **Remember** if the value is not found, a `ValueError` is raised."
   ]
  },
  {
   "cell_type": "markdown",
   "id": "9bf09862",
   "metadata": {},
   "source": [
    "- **Second By Index:** Use the `pop()` method to remove an item at a specific index. If no index is provided, it removes the last item by default means by default value of pop is -1."
   ]
  },
  {
   "cell_type": "code",
   "execution_count": 4,
   "id": "727f7cde",
   "metadata": {},
   "outputs": [
    {
     "name": "stdout",
     "output_type": "stream",
     "text": [
      "After Poping Banana now my list is --> ['apple', 'cherry']\n"
     ]
    }
   ],
   "source": [
    "my_list = [\"apple\", \"banana\", \"cherry\"]\n",
    "my_list.pop(1) # Removes \"banana\"\n",
    "print('After Poping Banana now my list is -->', my_list)"
   ]
  },
  {
   "cell_type": "markdown",
   "id": "31e406d6",
   "metadata": {},
   "source": [
    "  **Remember** this method also returns the removed item."
   ]
  },
  {
   "cell_type": "markdown",
   "id": "22e66e1f",
   "metadata": {},
   "source": [
    "- **Third Using `del`:** You can delete an item by its index, or a range of items."
   ]
  },
  {
   "cell_type": "code",
   "execution_count": 5,
   "id": "60309139",
   "metadata": {},
   "outputs": [
    {
     "name": "stdout",
     "output_type": "stream",
     "text": [
      "After deleting first item my list is --> ['banana', 'cherry', 'date']\n",
      "['banana', 'cherry', 'date']\n",
      "After slicing my list is --> ['banana']\n"
     ]
    }
   ],
   "source": [
    "my_list = [\"apple\", \"banana\", \"cherry\", \"date\"]\n",
    "del my_list[0]  # Removes \"apple\"\n",
    "print('After deleting first item my list is -->', my_list)\n",
    "\n",
    "print(my_list)\n",
    "del my_list[1:3]  # Removes items from index 1 up to (but not including) 4\n",
    "print('After slicing my list is -->', my_list)"
   ]
  },
  {
   "cell_type": "markdown",
   "id": "8b77df8d",
   "metadata": {},
   "source": [
    "  **Remember** the `del` statement can also delete the entire list."
   ]
  },
  {
   "cell_type": "markdown",
   "id": "43b6c88c",
   "metadata": {},
   "source": [
    "### Deleting All Items or the Entire List\n",
    "\n",
    "- **Clear All Items:** Use the `clear()` method to remove all elements, leaving an empty list."
   ]
  },
  {
   "cell_type": "code",
   "execution_count": 6,
   "id": "7c6840d5",
   "metadata": {},
   "outputs": [
    {
     "name": "stdout",
     "output_type": "stream",
     "text": [
      "[]\n"
     ]
    }
   ],
   "source": [
    "my_list = [\"apple\", \"banana\", \"cherry\"]\n",
    "my_list.clear()  # my_list becomes []\n",
    "print(my_list)"
   ]
  },
  {
   "cell_type": "markdown",
   "id": "3b19af39",
   "metadata": {},
   "source": [
    "  **Remember** the list object remains, but it is empty."
   ]
  },
  {
   "cell_type": "markdown",
   "id": "e22e2854",
   "metadata": {},
   "source": [
    "- **Delete the Entire List:** Use the `del` statement to delete the list object itself."
   ]
  },
  {
   "cell_type": "code",
   "execution_count": 7,
   "id": "4d478132",
   "metadata": {},
   "outputs": [],
   "source": [
    "my_list = [\"apple\", \"banana\", \"cherry\"]\n",
    "del my_list  # my_list is now undefined\n",
    "#print(my_list)"
   ]
  },
  {
   "cell_type": "markdown",
   "id": "88966f10",
   "metadata": {},
   "source": [
    "  **Remember** after this, you cannot use `my_list` unless you recreate it."
   ]
  },
  {
   "cell_type": "markdown",
   "id": "38be8655",
   "metadata": {},
   "source": [
    "- **Assign an Empty List:** You can also assign an empty list to the variable to \"clear\" it, but this creates a new list object."
   ]
  },
  {
   "cell_type": "code",
   "execution_count": 8,
   "id": "6c5b9006",
   "metadata": {},
   "outputs": [
    {
     "name": "stdout",
     "output_type": "stream",
     "text": [
      "[]\n"
     ]
    }
   ],
   "source": [
    "my_list = [1, 2, 3]\n",
    "my_list = []  # my_list is now an empty list\n",
    "print(my_list)"
   ]
  },
  {
   "cell_type": "markdown",
   "id": "d315251a",
   "metadata": {},
   "source": [
    "  **Remember** this does not affect other references to the original list."
   ]
  },
  {
   "cell_type": "markdown",
   "id": "4bf8f524",
   "metadata": {},
   "source": [
    "## Summary Table:\n",
    "<p align=\"center\">\n",
    "  <img src=\"images/summary.PNG\" alt=\"PRKWS\" width=\"700\"/>\n",
    "</p>"
   ]
  },
  {
   "cell_type": "markdown",
   "id": "93b7d11b",
   "metadata": {},
   "source": [
    "## Operations on Lists"
   ]
  },
  {
   "cell_type": "markdown",
   "id": "c6150ca4",
   "metadata": {},
   "source": [
    "Python lists support a variety of operation types, primarily through built-in methods and functions. The core **list methods** commonly used to manipulate lists include 11 main methods:\n",
    "\n",
    "- `append()` - add an element to the end  \n",
    "- `clear()` - remove all elements  \n",
    "- `copy()` - return a shallow copy  \n",
    "- `count()` - count occurrences of a value  \n",
    "- `extend()` - add elements from another iterable  \n",
    "- `index()` - find the first index of a value  \n",
    "- `insert()` - insert an element at a specified position  \n",
    "- `pop()` - remove and return element at an index (default last)  \n",
    "- `remove()` - remove first occurrence of a value  \n",
    "- `reverse()` - reverse the list in place  \n",
    "- `sort()` - sort the list in place  \n",
    "\n",
    "In addition to these methods, Python provides **list functions** that operate on lists:\n",
    "\n",
    "- `len()` - get the number of elements  \n",
    "- `sorted()` - return a new sorted list  \n",
    "- `min()` - smallest element  \n",
    "- `max()` - largest element  \n",
    "- `sum()` - sum of elements  \n",
    "- `list()` - create a list from an iterable  \n",
    "\n",
    "Besides these, lists also support various special (dunder) methods like `__getitem__`, `__setitem__`, `__iter__`, etc., which enable indexing, slicing, and iteration.\n",
    "\n",
    "**Summary:**  \n",
    "- There are about **11 primary list methods** for direct list manipulation.  \n",
    "- Several **built-in functions** work on lists for querying or creating lists.  \n",
    "- Together, these provide a rich set of operations to create, access, modify, and analyze lists efficiently in Python.\n",
    "\n",
    "This overview aligns with Python’s official documentation and multiple authoritative tutorials.\n"
   ]
  },
  {
   "cell_type": "markdown",
   "id": "48abc84f",
   "metadata": {},
   "source": [
    "### Common Operation:\n",
    "\n",
    "#### 1. **Arithmetic Operations**\n",
    "- Lists themselves do not support direct arithmetic like numbers, but element-wise arithmetic can be performed using loops, comprehensions, or libraries like NumPy.\n",
    "- Supported operations include:\n",
    "  - **Concatenation (`+`)**: Joins two lists into one.\n",
    "  - **Repetition (`*`)**: Repeats the list elements multiple times.\n",
    "- For element-wise arithmetic (addition, subtraction, etc.), you typically iterate over paired elements or use libraries.\n",
    "- The main operation types applied on Python lists include **arithmetic (concatenation, repetition), amd membership**. Direct arithmetic on list elements requires explicit iteration or specialized libraries.\n",
    "  \n",
    "#### Example of concatenation and repetition given below:"
   ]
  },
  {
   "cell_type": "code",
   "execution_count": 1,
   "id": "e28ef5e6",
   "metadata": {},
   "outputs": [
    {
     "name": "stdout",
     "output_type": "stream",
     "text": [
      "[1, 2, 3, 4, 5, 6]\n",
      "[1, 2, 3, 1, 2, 3, 1, 2, 3]\n"
     ]
    }
   ],
   "source": [
    "a = [1,2,3]\n",
    "b = [4,5,6]\n",
    "print(a + b)  # [1, 2, 3, 4, 5, 6]\n",
    "print(a * 3)  # [1, 2, 3, 1, 2, 3, 1, 2, 3]\n"
   ]
  },
  {
   "cell_type": "markdown",
   "id": "89ac6b4a",
   "metadata": {},
   "source": [
    "### 2. **Membership Operations**\n",
    "- Check if an element exists in a list using:\n",
    "  - `in` operator (returns `True` or `False`)\n",
    "  - `not in` operator"
   ]
  },
  {
   "cell_type": "code",
   "execution_count": 2,
   "id": "87ec97fa",
   "metadata": {},
   "outputs": [
    {
     "data": {
      "text/plain": [
       "True"
      ]
     },
     "execution_count": 2,
     "metadata": {},
     "output_type": "execute_result"
    }
   ],
   "source": [
    "3 in [1, 2, 3]  # True\n",
    "5 not in [1, 2, 3]  # True"
   ]
  },
  {
   "cell_type": "code",
   "execution_count": 3,
   "id": "4e171402",
   "metadata": {},
   "outputs": [
    {
     "name": "stdout",
     "output_type": "stream",
     "text": [
      "[[1, 2], [3, 4]]\n",
      "[[5, 6], [7, 8]]\n"
     ]
    }
   ],
   "source": [
    "# Loops on list\n",
    "\n",
    "l1 = [1,2,3,4,5]\n",
    "l2 = [1,2,3,4,[5,6]]\n",
    "l3 = [[[1, 2],[3, 4]],[[5, 6],[7, 8]]]\n",
    "\n",
    "for i in l3:\n",
    "    print(i)"
   ]
  },
  {
   "cell_type": "code",
   "execution_count": 4,
   "id": "786e5166",
   "metadata": {},
   "outputs": [
    {
     "name": "stdout",
     "output_type": "stream",
     "text": [
      "6\n",
      "0\n",
      "9\n",
      "[0, 1, 2, 5, 7, 9]\n",
      "[9, 7, 5, 2, 1, 0]\n"
     ]
    }
   ],
   "source": [
    "# len/min/max/sorted. These are universal functions\n",
    "\n",
    "L = [2,5,1,0,9,7]\n",
    "L1 = [2,5,1,9,7,'hello']\n",
    "\n",
    "print(len(L))\n",
    "print(min(L)) # Remember it's works only Homogenous list\n",
    "#print(min(L1)) # Showing error becouse not \"Homgenous\"\n",
    "print(max(L))\n",
    "print(sorted(L))\n",
    "print(sorted(L,reverse=True))"
   ]
  },
  {
   "cell_type": "code",
   "execution_count": 5,
   "id": "d7ae8f19",
   "metadata": {},
   "outputs": [
    {
     "data": {
      "text/plain": [
       "3"
      ]
     },
     "execution_count": 5,
     "metadata": {},
     "output_type": "execute_result"
    }
   ],
   "source": [
    "# count of frequency\n",
    "\n",
    "L = [1,2,3,1,2,4,5,5,5]\n",
    "L.count(5)"
   ]
  },
  {
   "cell_type": "code",
   "execution_count": 6,
   "id": "ee1291e1",
   "metadata": {},
   "outputs": [
    {
     "data": {
      "text/plain": [
       "6"
      ]
     },
     "execution_count": 6,
     "metadata": {},
     "output_type": "execute_result"
    }
   ],
   "source": [
    "# index of position\n",
    "\n",
    "L = [1,2,3,1,2,4,5,5,5]\n",
    "L.index(5)"
   ]
  },
  {
   "cell_type": "code",
   "execution_count": 7,
   "id": "b26ab76e",
   "metadata": {},
   "outputs": [
    {
     "name": "stdout",
     "output_type": "stream",
     "text": [
      "[5, 5, 5, 4, 2, 1, 3, 2, 1]\n"
     ]
    }
   ],
   "source": [
    "# reverse\n",
    "\n",
    "L = [1,2,3,1,2,4,5,5,5]\n",
    "L.reverse()\n",
    "# this function permanently reverses the list\n",
    "print(L)"
   ]
  },
  {
   "cell_type": "code",
   "execution_count": 8,
   "id": "9ccfaa22",
   "metadata": {},
   "outputs": [
    {
     "name": "stdout",
     "output_type": "stream",
     "text": [
      "[4, 3, 8, 2, 0, 1]\n",
      "[0, 1, 2, 3, 4, 8]\n",
      "After appling sorted function --> [4, 3, 8, 2, 0, 1]\n",
      "After appling sort function --> [0, 1, 2, 3, 4, 8]\n"
     ]
    }
   ],
   "source": [
    "# sort vs sorted\n",
    "\n",
    "L = [4,3,8,2,0,1]\n",
    "print(L)\n",
    "print(sorted(L))\n",
    "print('After appling sorted function -->', L)\n",
    "# sort will change parmenently so be careful\n",
    "L.sort()\n",
    "print('After appling sort function -->', L)\n"
   ]
  },
  {
   "cell_type": "code",
   "execution_count": 9,
   "id": "621a2741",
   "metadata": {},
   "outputs": [
    {
     "name": "stdout",
     "output_type": "stream",
     "text": [
      "[4, 3, 8, 2, 0, 1]\n",
      "2323865078528\n",
      "[4, 3, 8, 2, 0, 1]\n",
      "2323864884608\n"
     ]
    }
   ],
   "source": [
    "# copy this function create a shollow copy at different memory location\n",
    "\n",
    "L = [4,3,8,2,0,1]\n",
    "print(L)\n",
    "print(id(L))\n",
    "\n",
    "L1 = L.copy()\n",
    "print(L1)\n",
    "print(id(L1))"
   ]
  },
  {
   "cell_type": "markdown",
   "id": "9e1d0600",
   "metadata": {},
   "source": [
    "## List Comprehension\n",
    "\n",
    "List comprehension in Python is a concise and efficient syntax for creating a new list by applying an expression to each item in an existing iterable (such as a list, tuple, set, string, or range) and optionally filtering elements based on a condition. It allows you to write what would typically be multiple lines of loop and conditional code in a single, readable line, improving both code clarity and performance compared to traditional loops."
   ]
  },
  {
   "cell_type": "markdown",
   "id": "324ca7ee",
   "metadata": {},
   "source": [
    "### Key Features of List Comprehension\n",
    "\n",
    "- **Syntax:**  \n",
    "  ```python\n",
    "  new_list = [expression for item in iterable if condition]\n",
    "  ```\n",
    "\n",
    "<p align=\"center\">\n",
    "  <img src=\"images/1_8-j8zcm77WONz3uziGYOVw.png\" alt=\"PRKWS\" width=\"700\"/>\n",
    "</p>\n",
    "\n",
    "  - *expression*: Operation applied to each item to produce elements of the new list.  \n",
    "  - *item*: Variable representing each element in the iterable.  \n",
    "  - *iterable*: The source collection to iterate over.  \n",
    "  - *condition* (optional): A filter to include only items that satisfy the condition.\n",
    "\n",
    "\n",
    "### Benefits\n",
    "\n",
    "- **Readability:** More compact and clearer than equivalent loops.  \n",
    "- **Performance:** Typically faster than using loops or functions like `map()` and `filter()`.  \n",
    "- **Expressiveness:** Enables complex list transformations and filtering in a single line.\n",
    "\n",
    "**In summary**, list comprehension is a powerful Python feature that simplifies list creation by combining iteration, conditional filtering, and expression evaluation into a concise, readable form. It is widely used for its clarity and efficiency in Python programming.\n"
   ]
  },
  {
   "cell_type": "code",
   "execution_count": 1,
   "id": "9d0b055c",
   "metadata": {},
   "outputs": [
    {
     "name": "stdout",
     "output_type": "stream",
     "text": [
      "[1, 2, 3, 4, 5, 6, 7, 8, 9, 10]\n"
     ]
    }
   ],
   "source": [
    "# Program Add 1 to 10 numbers to a list Using traditional way:\n",
    "\n",
    "L = []\n",
    "\n",
    "for i in range(1,11):\n",
    "    L.append(i)\n",
    "print(L)"
   ]
  },
  {
   "cell_type": "code",
   "execution_count": 2,
   "id": "0fe2829c",
   "metadata": {},
   "outputs": [
    {
     "name": "stdout",
     "output_type": "stream",
     "text": [
      "[1, 2, 3, 4, 5, 6, 7, 8, 9, 10]\n"
     ]
    }
   ],
   "source": [
    "# Program Add 1 to 10 numbers to a list Using list comprehension way:\n",
    "\n",
    "# Remember here first \"i\" is expression and \"range(1,11)\" is iterable\n",
    "L = [i for i in range(1,11)]\n",
    "print(L)"
   ]
  },
  {
   "cell_type": "code",
   "execution_count": 3,
   "id": "5835efcf",
   "metadata": {},
   "outputs": [
    {
     "name": "stdout",
     "output_type": "stream",
     "text": [
      "[-6, -9, -12]\n"
     ]
    }
   ],
   "source": [
    "# Program scalar multiplication on a vector\n",
    "\n",
    "v = [2,3,4]\n",
    "s = -3\n",
    "# expected output shuld be --> [-6, -9, -12]\n",
    "x = []\n",
    "for i in v:\n",
    "    x.append(i*s)\n",
    "print(x)"
   ]
  },
  {
   "cell_type": "code",
   "execution_count": 4,
   "id": "1ca3f778",
   "metadata": {},
   "outputs": [
    {
     "data": {
      "text/plain": [
       "[-20, -24, -28]"
      ]
     },
     "execution_count": 4,
     "metadata": {},
     "output_type": "execute_result"
    }
   ],
   "source": [
    "# Program scalar multiplication on a vector using list comprehension\n",
    "\n",
    "v = [5,6,7]\n",
    "s = -4\n",
    "\n",
    "[s*i for i in v]"
   ]
  },
  {
   "cell_type": "code",
   "execution_count": 5,
   "id": "d095b6b3",
   "metadata": {},
   "outputs": [
    {
     "data": {
      "text/plain": [
       "[1, 4, 9, 16, 25]"
      ]
     },
     "execution_count": 5,
     "metadata": {},
     "output_type": "execute_result"
    }
   ],
   "source": [
    "# Add squares\n",
    "L = [1,2,3,4,5]\n",
    "\n",
    "[i**2 for i in L]"
   ]
  },
  {
   "cell_type": "code",
   "execution_count": 6,
   "id": "48a7c209",
   "metadata": {},
   "outputs": [
    {
     "name": "stdout",
     "output_type": "stream",
     "text": [
      "[1, 4, 9, 16, 25]\n"
     ]
    }
   ],
   "source": [
    "# Program Create a list of squares of numbers 1 to 5:\n",
    "\n",
    "squares = [x**2 for x in range(1, 6)]\n",
    "print(squares)"
   ]
  },
  {
   "cell_type": "code",
   "execution_count": 7,
   "id": "0f8c09f0",
   "metadata": {},
   "outputs": [
    {
     "name": "stdout",
     "output_type": "stream",
     "text": [
      "[2, 4, 6, 8, 0]\n"
     ]
    }
   ],
   "source": [
    "# Program Filter even numbers from a list:\n",
    "numbers = [1,2,3,4,5,6,7,8,9,0]\n",
    "evens = [num for num in numbers if num % 2 == 0]\n",
    "print(evens)"
   ]
  },
  {
   "cell_type": "code",
   "execution_count": 5,
   "id": "7ce2c140",
   "metadata": {},
   "outputs": [
    {
     "name": "stdout",
     "output_type": "stream",
     "text": [
      "[1, 2, 3, 4, 5, 6, 7, 8, 9, 10]\n"
     ]
    }
   ],
   "source": [
    "# Here is a complete Python program that demonstrates how to flatten a matrix (a list of lists) using list comprehension:\n",
    "\n",
    "matrix = [\n",
    "    [1, 2, 3, 4],\n",
    "    [5, 6, 7],\n",
    "    [8, 9, 10]\n",
    "]\n",
    "\n",
    "# Flatten the matrix using list comprehension\n",
    "flattened = [num for row in matrix for num in row]\n",
    "\n",
    "# Print the flattened list\n",
    "print(flattened)"
   ]
  },
  {
   "cell_type": "markdown",
   "id": "d77ed196",
   "metadata": {},
   "source": [
    "### Explanation:\n",
    "- `matrix` is a list containing sublists (rows).\n",
    "- The list comprehension `[num for row in matrix for num in row]` iterates over each `row` in `matrix`, then over each `num` in that `row`, collecting all numbers into a single flat list.\n",
    "- The result is a one-dimensional list containing all elements from the nested lists.\n",
    "\n",
    "### Output:\n",
    "```\n",
    "[1, 2, 3, 4, 5, 6, 7, 8, 9, 10]\n",
    "```\n",
    "\n",
    "This approach is a clean and Pythonic way to flatten a list of lists in one line, as shown in multiple examples and tutorials. It is efficient and easy to understand compared to nested loops or other methods."
   ]
  },
  {
   "cell_type": "code",
   "execution_count": 3,
   "id": "57bf1066",
   "metadata": {},
   "outputs": [
    {
     "data": {
      "text/plain": [
       "[5, 10, 15, 20, 25, 30, 35, 40, 45, 50]"
      ]
     },
     "execution_count": 3,
     "metadata": {},
     "output_type": "execute_result"
    }
   ],
   "source": [
    "# Print all numbers divisible by 5 in the range of 1 to 50\n",
    "\n",
    "[i for i in range(1,51) if i%5 == 0]"
   ]
  },
  {
   "cell_type": "code",
   "execution_count": 4,
   "id": "52588c4a",
   "metadata": {},
   "outputs": [
    {
     "data": {
      "text/plain": [
       "['java', 'javascript']"
      ]
     },
     "execution_count": 4,
     "metadata": {},
     "output_type": "execute_result"
    }
   ],
   "source": [
    "# find languages which start with letter p\n",
    "languages = ['java','python','php','c','javascript']\n",
    "\n",
    "[language for language in languages if language.startswith('j')]"
   ]
  },
  {
   "cell_type": "code",
   "execution_count": 6,
   "id": "74f60dee",
   "metadata": {},
   "outputs": [
    {
     "data": {
      "text/plain": [
       "['apple']"
      ]
     },
     "execution_count": 6,
     "metadata": {},
     "output_type": "execute_result"
    }
   ],
   "source": [
    "# Nested if with List Comprehension\n",
    "basket = ['apple','guava','cherry','banana']\n",
    "my_fruits = ['apple','kiwi','grapes','banana']\n",
    "\n",
    "# add new list from my_fruits and items if the fruit exists in basket and also starts with 'a'\n",
    "\n",
    "[fruit for fruit in my_fruits if fruit in basket if fruit.startswith('a')]"
   ]
  },
  {
   "cell_type": "code",
   "execution_count": 7,
   "id": "79d5a883",
   "metadata": {},
   "outputs": [
    {
     "data": {
      "text/plain": [
       "[[1, 2, 3], [2, 4, 6], [3, 6, 9]]"
      ]
     },
     "execution_count": 7,
     "metadata": {},
     "output_type": "execute_result"
    }
   ],
   "source": [
    "# Print a (3,3) matrix using list comprehension -> Nested List comprehension\n",
    "\n",
    "[[i*j for i in range(1,4)] for j in range(1,4)]"
   ]
  },
  {
   "cell_type": "code",
   "execution_count": 8,
   "id": "91ed2408",
   "metadata": {},
   "outputs": [
    {
     "data": {
      "text/plain": [
       "[5, 6, 7, 8, 10, 12, 14, 16, 15, 18, 21, 24, 20, 24, 28, 32]"
      ]
     },
     "execution_count": 8,
     "metadata": {},
     "output_type": "execute_result"
    }
   ],
   "source": [
    "# cartesian products -> List comprehension on 2 lists together\n",
    "\n",
    "L1 = [1,2,3,4]\n",
    "L2 = [5,6,7,8]\n",
    "\n",
    "[i*j for i in L1 for j in L2]"
   ]
  }
 ],
 "metadata": {
  "kernelspec": {
   "display_name": "Python 3",
   "language": "python",
   "name": "python3"
  },
  "language_info": {
   "codemirror_mode": {
    "name": "ipython",
    "version": 3
   },
   "file_extension": ".py",
   "mimetype": "text/x-python",
   "name": "python",
   "nbconvert_exporter": "python",
   "pygments_lexer": "ipython3",
   "version": "3.11.11"
  }
 },
 "nbformat": 4,
 "nbformat_minor": 5
}
