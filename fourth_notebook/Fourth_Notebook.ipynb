{
 "cells": [
  {
   "cell_type": "markdown",
   "id": "58067f6d-0e45-4095-9101-1f75277a78bc",
   "metadata": {},
   "source": [
    "## 1. List\n",
    "\n",
    "- What are List?\n",
    "- Lists Vs Arrays\n",
    "- Characterstics of a List\n",
    "- How to create a list\n",
    "- Access items from a List\n",
    "- Editing items in a List\n",
    "- Deleting items from a List\n",
    "- Operations on Lists\n",
    "- Functions on Lists\n"
   ]
  },
  {
   "cell_type": "markdown",
   "id": "d7c7ee20-b971-4cc5-917a-dbbe47d38992",
   "metadata": {},
   "source": [
    "### What are List\n",
    "\n",
    "List is a data type where you can store multiple items under 1 name. More technically, lists act like dynamic arrays which means you can add more items on the fly.\n",
    "\n",
    "<p align=\"center\">\n",
    "  <img src=\"images/python-list.jpg\" alt=\"PRKWS\" width=\"700\"/>\n",
    "</p>"
   ]
  },
  {
   "cell_type": "markdown",
   "id": "34d0b460-d959-49d7-83d2-21821f7ef513",
   "metadata": {},
   "source": [
    "## Array vs List\n",
    "\n",
    "**Prose of list**\n",
    "\n",
    "- Fixed Vs Dynamic Size: Array is fixed size but List is dynamic array.\n",
    "- Convenience -> Hetrogeneous: Meant we can store multiple types of data in list but not in array.\n",
    "\n",
    "**Conse of list**\n",
    "\n",
    "- Speed of Execution: Python list are slow incomperasion of Array.\n",
    "- Memory: Also python list occupy more memory (Because list is refrencial array) than array."
   ]
  },
  {
   "cell_type": "markdown",
   "id": "4c54961a-42e4-421b-821c-8575d41ff909",
   "metadata": {},
   "source": [
    "## How list are stored in memory To understand it we use `id()` function.\n",
    "\n",
    "## What is `id()` ?\n",
    "\n",
    "The `id()` is a built-in function in Python that returns the **identity** of an object. This identity is an integer that is guaranteed to be unique and constant for the object during its lifetime. In the standard CPython implementation, this integer corresponds to the memory address where the object is stored.\n",
    "\n",
    "### Key Points about `id()`:\n",
    "\n",
    "- **Purpose:** Returns a unique integer representing the object's identity.\n",
    "- **Uniqueness:** The returned value is unique for the object while it exists. Two different objects will have different `id()` values.\n",
    "- **Lifetime:** If an object is destroyed, its `id()` value can be reused by a new object created later.\n",
    "- **CPython Detail:** The `id()` value is the memory address of the object in CPython.\n",
    "- **Usage:** Commonly used for debugging, to check if two variables refer to the same object (equivalent to the `is` operator).\n",
    "\n",
    "### Summary\n",
    "\n",
    "- `id()` provides a way to get the unique identity of an object.\n",
    "- It is mainly useful to understand object references and memory management.\n",
    "- Equivalent to checking `x is y` when comparing two objects."
   ]
  },
  {
   "cell_type": "code",
   "execution_count": 1,
   "id": "f3dfb6f5-2e8b-4ad0-b76e-a7d1c134be4a",
   "metadata": {},
   "outputs": [
    {
     "name": "stdout",
     "output_type": "stream",
     "text": [
      "2759928847552\n",
      "140724376513016\n",
      "140724376513048\n",
      "140724376513080\n",
      "140724376513016\n",
      "140724376513048\n",
      "140724376513080\n"
     ]
    }
   ],
   "source": [
    "# Using id function find memory loaction.\n",
    "\n",
    "L = [3,4,5]\n",
    "\n",
    "print(id(L))        # It's a memeory location of list\n",
    "print(id(L[0]))     # Memory location of first item and so on\n",
    "print(id(L[1]))\n",
    "print(id(L[2]))\n",
    "\n",
    "# Now you can see here and understand it carefully. Meant id of 3 is nothing but id of first index.\n",
    "print(id(3))\n",
    "print(id(4))\n",
    "print(id(5))"
   ]
  },
  {
   "cell_type": "markdown",
   "id": "d64a118c",
   "metadata": {},
   "source": [
    "## Characterstics of a List\n",
    "\n",
    "- Ordered\n",
    "- Changeble/Mutable\n",
    "- Hetrogeneous\n",
    "- Can have duplicates\n",
    "- are dynamic\n",
    "- can be nested\n",
    "- items can be accessed\n",
    "- can contain any kind of objects."
   ]
  },
  {
   "cell_type": "markdown",
   "id": "de5b5923",
   "metadata": {},
   "source": [
    "## Creating a List"
   ]
  },
  {
   "cell_type": "code",
   "execution_count": 1,
   "id": "d663742c",
   "metadata": {},
   "outputs": [
    {
     "name": "stdout",
     "output_type": "stream",
     "text": [
      "It's a empty list []\n",
      "It's a 1D list also you can call it homogenous list [1, 2, 3, 4, 5]\n",
      "It's a 2D list [1, 2, 3, [4, 5, 6]]\n",
      "It's a 3D list [[[1, 2], [3, 4]], [[5, 6], [7, 8]]]\n",
      "It's a hetrogenous list [1, 2, True, 3.4, 30j, 'Hello']\n",
      "It's a type converted list ['h', 'e', 'l', 'l', 'o']\n"
     ]
    }
   ],
   "source": [
    "# Empty\n",
    "print(\"It's a empty list\", [])\n",
    "# 1D -> Homogeneous\n",
    "print(\"It's a 1D list also you can call it homogenous list\", [1,2,3,4,5])\n",
    "# 2D -> Hetrogenous\n",
    "print(\"It's a 2D list\", [1, 2, 3,[4, 5, 6]])\n",
    "# 3D\n",
    "print(\"It's a 3D list\", [[[1, 2],[3, 4]],[[5, 6],[7, 8]]]) # it's a homogenous list because inside list are 2D list not different item.\n",
    "# Hetrogenous\n",
    "print(\"It's a hetrogenous list\", [1,2,True,3.4,5*6j, 'Hello'])\n",
    "# Using Type conversion\n",
    "print(\"It's a type converted list\",list('hello'))"
   ]
  },
  {
   "cell_type": "markdown",
   "id": "f3f9f1fa",
   "metadata": {},
   "source": [
    "## Accessing Items from a List\n",
    "\n",
    "Using **Indexing**\n",
    "\n",
    "Using **Slicing**"
   ]
  },
  {
   "cell_type": "code",
   "execution_count": 2,
   "id": "106eedb5",
   "metadata": {},
   "outputs": [
    {
     "name": "stdout",
     "output_type": "stream",
     "text": [
      "4\n",
      "5\n"
     ]
    }
   ],
   "source": [
    "# Indexing are two type first positive this is start from 0 and move on left to right.\n",
    "L = [1,2,3,4,5]\n",
    "print(L[3])\n",
    "\n",
    "# Second type of indexing is negative this start from minus one (-1) and move on right to left.\n",
    "print(L[-1])"
   ]
  },
  {
   "cell_type": "code",
   "execution_count": 3,
   "id": "ec2b8e8f",
   "metadata": {},
   "outputs": [
    {
     "name": "stdout",
     "output_type": "stream",
     "text": [
      "5\n",
      "4\n"
     ]
    }
   ],
   "source": [
    "# How to fetch any item from 2D list using indexing?\n",
    "\n",
    "# Understand this concept\n",
    "\n",
    "L = [1,2,3,[4,5]]\n",
    "print(L[3][1])    # Using positive indexing fetch \"5\"\n",
    "\n",
    "print(L[-1][-2])  # Using negative indexing fetch \"4\""
   ]
  },
  {
   "cell_type": "code",
   "execution_count": 4,
   "id": "10cf6ea4",
   "metadata": {},
   "outputs": [
    {
     "name": "stdout",
     "output_type": "stream",
     "text": [
      "Using positive indexing --> 7\n",
      "Using negative indexing --> 3\n"
     ]
    }
   ],
   "source": [
    "# How to fetch any item form 3D list using positive indexing?\n",
    "\n",
    "L = [[[1, 2],[3, 4]],[[5, 6],[7, 8]]]\n",
    "\n",
    "# Here we will learn how to fetch \"7\"\n",
    "\n",
    "# first step \n",
    "#print(L[1])\n",
    "\n",
    "# second step\n",
    "#print(L[1][1])\n",
    "\n",
    "# third and last step\n",
    "print(\"Using positive indexing -->\", L[1][1][0]) # finel code snippet\n",
    "\n",
    "# How to fetch any item form 3D list using Negative indexing?\n",
    "\n",
    "# Here we will learn how to fetch \"3\"\n",
    "\n",
    "# first step\n",
    "#print(L[-2])\n",
    "\n",
    "# second step\n",
    "#print(L[-2][-1])\n",
    "\n",
    "# third and last step\n",
    "print(\"Using negative indexing -->\", L[-2][-1][-2]) # finel code snippet"
   ]
  },
  {
   "cell_type": "markdown",
   "id": "ac4c72ba",
   "metadata": {},
   "source": [
    "### Accessing items using slicing:"
   ]
  },
  {
   "cell_type": "code",
   "execution_count": 1,
   "id": "51935f3e",
   "metadata": {},
   "outputs": [
    {
     "name": "stdout",
     "output_type": "stream",
     "text": [
      "Using positive slicing [1, 2, 3, 4, 5]\n",
      "Using negative slicing [3, 4, 5, 6]\n"
     ]
    }
   ],
   "source": [
    "L = [1,2,3,4,5,6,7]\n",
    "print(\"Using positive slicing\", L[0:5])\n",
    "\n",
    "print(\"Using negative slicing\", L[-5:-1])"
   ]
  },
  {
   "cell_type": "code",
   "execution_count": 2,
   "id": "17d0ecfa",
   "metadata": {},
   "outputs": [
    {
     "name": "stdout",
     "output_type": "stream",
     "text": [
      "[1, 3, 5, 7]\n"
     ]
    }
   ],
   "source": [
    "# Using positive slicing\n",
    "L = [1,2,3,4,5,6,7]\n",
    "\n",
    "# print alternative digits\n",
    "print(L[::2]) # here first colon says print from 0 index and second colon says to last index and 2 says print alternative numbers not all.\n"
   ]
  },
  {
   "cell_type": "code",
   "execution_count": 3,
   "id": "5679415b",
   "metadata": {},
   "outputs": [
    {
     "name": "stdout",
     "output_type": "stream",
     "text": [
      "Complete list in reverse order -->  [7, 6, 5, 4, 3, 2, 1]\n",
      "[7, 5, 3, 1]\n",
      "[1, 3, 5]\n"
     ]
    }
   ],
   "source": [
    "# Using negative slicing\n",
    "L = [1,2,3,4,5,6,7]\n",
    "\n",
    "# Complete list in reverse order\n",
    "print(\"Complete list in reverse order --> \", L[::-1])\n",
    "\n",
    "# Alternative item in reverse order\n",
    "print(L[::-2])\n",
    "\n",
    "print(L[:-1:2])"
   ]
  },
  {
   "cell_type": "markdown",
   "id": "91490ca4",
   "metadata": {},
   "source": [
    "### Three important methods\n",
    "\n",
    "Python lists provide three important methods for adding elements: **append()**, **extend()**, and **insert()**. Each serves a different purpose:"
   ]
  },
  {
   "cell_type": "markdown",
   "id": "45d7a6f6",
   "metadata": {},
   "source": [
    "### append()\n",
    "\n",
    "- **Purpose:** Adds a single element to the end of the list.\n",
    "- **Usage:**"
   ]
  },
  {
   "cell_type": "code",
   "execution_count": 4,
   "id": "1d34e363",
   "metadata": {},
   "outputs": [
    {
     "name": "stdout",
     "output_type": "stream",
     "text": [
      "Before appending an item output is --> ['apple', 'banana', 'cherry']\n",
      "After appending an item result is here --> ['apple', 'banana', 'cherry', 'orange']\n"
     ]
    }
   ],
   "source": [
    "fruits = ['apple', 'banana', 'cherry']\n",
    "print(\"Before appending an item output is -->\", fruits)\n",
    "\n",
    "fruits.append('orange')\n",
    "print(\"After appending an item result is here -->\", fruits)"
   ]
  },
  {
   "cell_type": "markdown",
   "id": "1f1d801e",
   "metadata": {},
   "source": [
    "- **Note:** If you append a list, it is added as a single element (a nested list), not merged with the original list."
   ]
  },
  {
   "cell_type": "markdown",
   "id": "ae9fbd76",
   "metadata": {},
   "source": [
    "### extend()\n",
    "\n",
    "- **Purpose:** Adds all elements from an iterable (like another list, tuple, or set) to the end of the list.\n",
    "- **Usage:**"
   ]
  },
  {
   "cell_type": "code",
   "execution_count": 5,
   "id": "d560a9e5",
   "metadata": {},
   "outputs": [
    {
     "name": "stdout",
     "output_type": "stream",
     "text": [
      "['apple', 'banana', 'cherry', 'Ford', 'BMW', 'Volvo']\n"
     ]
    }
   ],
   "source": [
    "fruits = ['apple', 'banana', 'cherry']\n",
    "cars = ['Ford', 'BMW', 'Volvo']\n",
    "fruits.extend(cars)\n",
    "print(fruits)"
   ]
  },
  {
   "cell_type": "markdown",
   "id": "9bfe5144",
   "metadata": {},
   "source": [
    "- **Note:** Each element of the iterable is added individually, not as a single nested object."
   ]
  },
  {
   "cell_type": "markdown",
   "id": "acf2be7f",
   "metadata": {},
   "source": [
    "### insert()\n",
    "\n",
    "- **Purpose:** Inserts a single element at a specified index in the list.\n",
    "- **Usage:**"
   ]
  },
  {
   "cell_type": "code",
   "execution_count": 6,
   "id": "2a9b8676",
   "metadata": {},
   "outputs": [
    {
     "name": "stdout",
     "output_type": "stream",
     "text": [
      "['Ghulam', 'Ali', 'Muhammad', 'Abid']\n"
     ]
    }
   ],
   "source": [
    "names = ['Ghulam', 'Muhammad', 'Abid']\n",
    "names.insert(1, 'Ali')\n",
    "print(names)"
   ]
  },
  {
   "cell_type": "markdown",
   "id": "595f5ee8",
   "metadata": {},
   "source": [
    "- **Note:** Elements at and after the specified index are shifted to the right. If the index is greater than the list length, the element is added at the end. Negative indices are also supported."
   ]
  },
  {
   "cell_type": "markdown",
   "id": "ee073da8",
   "metadata": {},
   "source": [
    "**Summary:**  \n",
    "- Use `append()` to add a single item at the end.\n",
    "- Use `extend()` to add multiple items from another iterable.\n",
    "- Use `insert()` to add a single item at a specific position in the list."
   ]
  }
 ],
 "metadata": {
  "kernelspec": {
   "display_name": "Python 3",
   "language": "python",
   "name": "python3"
  },
  "language_info": {
   "codemirror_mode": {
    "name": "ipython",
    "version": 3
   },
   "file_extension": ".py",
   "mimetype": "text/x-python",
   "name": "python",
   "nbconvert_exporter": "python",
   "pygments_lexer": "ipython3",
   "version": "3.11.11"
  }
 },
 "nbformat": 4,
 "nbformat_minor": 5
}
