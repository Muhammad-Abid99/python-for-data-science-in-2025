{
 "cells": [
  {
   "cell_type": "markdown",
   "id": "58067f6d-0e45-4095-9101-1f75277a78bc",
   "metadata": {},
   "source": [
    "## 1. List\n",
    "\n",
    "- What are List?\n",
    "- Lists Vs Arrays\n",
    "- Characterstics of a List\n",
    "- How to create a list\n",
    "- Access items from a List\n",
    "- Editing items in a List\n",
    "- Deleting items from a List\n",
    "- Operations on Lists\n",
    "- Functions on Lists\n"
   ]
  },
  {
   "cell_type": "markdown",
   "id": "d7c7ee20-b971-4cc5-917a-dbbe47d38992",
   "metadata": {},
   "source": [
    "### What are List\n",
    "\n",
    "List is a data type where you can store multiple items under 1 name. More technically, lists act like dynamic arrays which means you can add more items on the fly.\n",
    "\n",
    "<p align=\"center\">\n",
    "  <img src=\"images/python-list.jpg\" alt=\"PRKWS\" width=\"700\"/>\n",
    "</p>"
   ]
  },
  {
   "cell_type": "markdown",
   "id": "34d0b460-d959-49d7-83d2-21821f7ef513",
   "metadata": {},
   "source": [
    "## Array vs List\n",
    "\n",
    "**Prose of list**\n",
    "\n",
    "- Fixed Vs Dynamic Size: Array is fixed size but List is dynamic array.\n",
    "- Convenience -> Hetrogeneous: Meant we can store multiple types of data in list but not in array.\n",
    "\n",
    "**Conse of list**\n",
    "\n",
    "- Speed of Execution: Python list are slow incomperasion of Array.\n",
    "- Memory: Also python list occupy more memory (Because list is refrencial array) than array."
   ]
  },
  {
   "cell_type": "markdown",
   "id": "4c54961a-42e4-421b-821c-8575d41ff909",
   "metadata": {},
   "source": [
    "## How list are stored in memory To understand it we use `id()` function.\n",
    "\n",
    "## What is `id()` ?\n",
    "\n",
    "The `id()` is a built-in function in Python that returns the **identity** of an object. This identity is an integer that is guaranteed to be unique and constant for the object during its lifetime. In the standard CPython implementation, this integer corresponds to the memory address where the object is stored.\n",
    "\n",
    "### Key Points about `id()`:\n",
    "\n",
    "- **Purpose:** Returns a unique integer representing the object's identity.\n",
    "- **Uniqueness:** The returned value is unique for the object while it exists. Two different objects will have different `id()` values.\n",
    "- **Lifetime:** If an object is destroyed, its `id()` value can be reused by a new object created later.\n",
    "- **CPython Detail:** The `id()` value is the memory address of the object in CPython.\n",
    "- **Usage:** Commonly used for debugging, to check if two variables refer to the same object (equivalent to the `is` operator).\n",
    "\n",
    "### Summary\n",
    "\n",
    "- `id()` provides a way to get the unique identity of an object.\n",
    "- It is mainly useful to understand object references and memory management.\n",
    "- Equivalent to checking `x is y` when comparing two objects."
   ]
  },
  {
   "cell_type": "code",
   "execution_count": 1,
   "id": "f3dfb6f5-2e8b-4ad0-b76e-a7d1c134be4a",
   "metadata": {},
   "outputs": [
    {
     "name": "stdout",
     "output_type": "stream",
     "text": [
      "2759928847552\n",
      "140724376513016\n",
      "140724376513048\n",
      "140724376513080\n",
      "140724376513016\n",
      "140724376513048\n",
      "140724376513080\n"
     ]
    }
   ],
   "source": [
    "# Using id function find memory loaction.\n",
    "\n",
    "L = [3,4,5]\n",
    "\n",
    "print(id(L))        # It's a memeory location of list\n",
    "print(id(L[0]))     # Memory location of first item and so on\n",
    "print(id(L[1]))\n",
    "print(id(L[2]))\n",
    "\n",
    "# Now you can see here and understand it carefully. Meant id of 3 is nothing but id of first index.\n",
    "print(id(3))\n",
    "print(id(4))\n",
    "print(id(5))"
   ]
  }
 ],
 "metadata": {
  "kernelspec": {
   "display_name": "Python 3",
   "language": "python",
   "name": "python3"
  },
  "language_info": {
   "codemirror_mode": {
    "name": "ipython",
    "version": 3
   },
   "file_extension": ".py",
   "mimetype": "text/x-python",
   "name": "python",
   "nbconvert_exporter": "python",
   "pygments_lexer": "ipython3",
   "version": "3.11.11"
  }
 },
 "nbformat": 4,
 "nbformat_minor": 5
}
