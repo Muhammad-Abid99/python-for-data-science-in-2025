{
 "cells": [
  {
   "cell_type": "markdown",
   "id": "6792a346-5b50-45d2-b81d-adeb825f5bc5",
   "metadata": {},
   "source": [
    "# Operators in Python\n",
    "\n",
    "Python has **seven main types of operators**,\n",
    "each serving a specific purpose in programming and data manipulation. Here’s a summary of the operator categories:\n",
    "\n",
    "- **Arithmetic Operators**: Used for mathematical operations like addition (+), subtraction (-), multiplication (*), division (/), modulus (%), exponentiation (**), and floor division (//).\n",
    "- **Assignment Operators**: Assign values to variables, including =, +=, -=, *=, /=, %=, //=, **=, and others.\n",
    "- **Comparison (Relational) Operators**: Compare values and include ==, !=, >, >=, <, <=.\n",
    "- **Logical Operators**: Used for boolean logic, such as and, or, not.\n",
    "- **Bitwise Operators**: Operate on binary representations of integers, such as &, |, ^, ~, <<, >>.\n",
    "- **Membership Operators**: Test for membership in a sequence (in, not in).\n",
    "- **Identity Operators**: Check if two variables refer to the same object (is, is not).\n"
   ]
  },
  {
   "cell_type": "code",
   "execution_count": 1,
   "id": "4d63df78-95b7-4ade-9eae-809f197645cd",
   "metadata": {},
   "outputs": [
    {
     "name": "stdout",
     "output_type": "stream",
     "text": [
      "The addition of a plus b is --> 12\n",
      "The subtruction of a plus b is --> 2\n",
      "The Multiplication of a plus b is --> 35\n",
      "The Division of a plus b is --> 1.4\n",
      "The Floor division of a plus b is --> 1\n",
      "The Modulus of a plus b is --> 2\n",
      "The Exponentiation of a plus b is --> 16807\n"
     ]
    }
   ],
   "source": [
    "# Arithmetic Operators\n",
    "\n",
    "a = 7\n",
    "b = 5\n",
    "\n",
    "print(\"The addition of a plus b is -->\", a+b)\n",
    "\n",
    "print(\"The subtruction of a plus b is -->\", a-b)\n",
    "\n",
    "print(\"The Multiplication of a plus b is -->\", a*b)\n",
    "\n",
    "print(\"The Division of a plus b is -->\", a/b)\n",
    "\n",
    "print(\"The Floor division of a plus b is -->\", a//b) #Integer Division\n",
    "\n",
    "print(\"The Modulus of a plus b is -->\", a%b)\n",
    "\n",
    "print(\"The Exponentiation of a plus b is -->\", a**b)"
   ]
  },
  {
   "cell_type": "code",
   "execution_count": 2,
   "id": "161bf322-a2dc-4139-adc5-514b43a6d4f8",
   "metadata": {},
   "outputs": [
    {
     "name": "stdout",
     "output_type": "stream",
     "text": [
      "2\n",
      "5\n"
     ]
    }
   ],
   "source": [
    "# Assignment Operators\n",
    "\n",
    "a = 2 #here (a) is variable (=) assignment operator and (2) is literal\n",
    "print(a)\n",
    "\n",
    "a += 3 # Actually is this --> a = a + 3\n",
    "print(a)"
   ]
  },
  {
   "cell_type": "code",
   "execution_count": 3,
   "id": "cbe847d7-fc17-4643-92cd-855e12cd9115",
   "metadata": {},
   "outputs": [
    {
     "name": "stdout",
     "output_type": "stream",
     "text": [
      "False\n",
      "True\n",
      "False\n",
      "True\n",
      "False\n",
      "True\n"
     ]
    }
   ],
   "source": [
    "# Comparison (Relational) Operators\n",
    "\n",
    "print(7>8)\n",
    "\n",
    "print(7<8)\n",
    "\n",
    "print(7>=9)\n",
    "\n",
    "print(7<=9)\n",
    "\n",
    "print(7==8)\n",
    "\n",
    "print(7!=5)"
   ]
  },
  {
   "cell_type": "code",
   "execution_count": 4,
   "id": "f667daf6-1b10-4ca4-b5a7-e825db420126",
   "metadata": {},
   "outputs": [
    {
     "name": "stdout",
     "output_type": "stream",
     "text": [
      "7\n",
      "3\n",
      "0\n",
      "0\n",
      "3\n",
      "3\n",
      "False\n"
     ]
    }
   ],
   "source": [
    "# Logical Operators\n",
    "\n",
    "print(3 and 7)\n",
    "\n",
    "print(7 and 3)\n",
    "\n",
    "print(3 and 0)\n",
    "\n",
    "print(0 and 3)\n",
    "\n",
    "print(3 or 0)\n",
    "\n",
    "print(0 or 3)\n",
    "\n",
    "print(not 3)"
   ]
  },
  {
   "cell_type": "code",
   "execution_count": 5,
   "id": "86c509cc-26cb-4aec-98e3-bdf87256ba68",
   "metadata": {},
   "outputs": [
    {
     "name": "stdout",
     "output_type": "stream",
     "text": [
      "2\n",
      "3\n",
      "1\n",
      "-4\n",
      "1\n",
      "16\n"
     ]
    }
   ],
   "source": [
    "# Bitwise Operators\n",
    "\n",
    "# bitwise and\n",
    "print(2 & 3)\n",
    "\n",
    "# bitwise or\n",
    "print(2 | 3)\n",
    "\n",
    "# bitwise xor\n",
    "print(2 ^ 3)\n",
    "\n",
    "# bitwise not\n",
    "print(~3)\n",
    "\n",
    "# bitwise left shift\n",
    "print(4 >> 2)\n",
    "\n",
    "# bitwise right shift\n",
    "print(4 << 2)"
   ]
  },
  {
   "cell_type": "code",
   "execution_count": 6,
   "id": "c8e94573-5238-4122-8918-cf72a5dec690",
   "metadata": {},
   "outputs": [
    {
     "name": "stdout",
     "output_type": "stream",
     "text": [
      "True\n",
      "False\n",
      "True\n"
     ]
    }
   ],
   "source": [
    "# Membership Operators\n",
    "\n",
    "# in/not in\n",
    "\n",
    "print('N' in 'Nawabshah')\n",
    "\n",
    "print('K' not in 'Karachi')\n",
    "\n",
    "print(3 in [1,2,3,4,5,7])"
   ]
  },
  {
   "cell_type": "markdown",
   "id": "93f3ed44-01d4-4cce-82d6-56b0e733d01d",
   "metadata": {},
   "source": [
    "### **Identity operators**\n",
    "In Python are used to check whether two variables refer to the same object in memory, not just if they are equal in value. The two identity operators are:\n",
    "\n",
    "- `is`: Returns `True` if both variables point to the same object.\n",
    "- `is not`: Returns `True` if the variables point to different objects.\n",
    "\n",
    "### Summary\n",
    "- Use `is` and `is not` to compare object identities (memory locations), not values.\n",
    "- Two objects can be equal (`==`) but not identical (`is`).\n",
    "- Useful for checking if variables reference the same object, such as singletons like `None`.\n"
   ]
  },
  {
   "cell_type": "code",
   "execution_count": 7,
   "id": "14f2acdb-8d6d-4a0e-b4fc-7d12058e279c",
   "metadata": {},
   "outputs": [
    {
     "name": "stdout",
     "output_type": "stream",
     "text": [
      "True\n",
      "False\n",
      "True\n"
     ]
    }
   ],
   "source": [
    "# Identity Operators\n",
    "\n",
    "a = [1, 2, 3]\n",
    "b = a          # b references the same list object as a\n",
    "c = [1, 2, 3]  # c is a new list object with the same content as a\n",
    "\n",
    "print(a is b)      # True, because a and b refer to the same object\n",
    "print(a is c)      # False, because a and c are different objects in memory\n",
    "print(a is not c)  # True, confirming a and c are not the same object\n"
   ]
  },
  {
   "cell_type": "markdown",
   "id": "6766d368-8a77-4a5a-a030-fb62e3797f5a",
   "metadata": {},
   "source": [
    "**Explanation**:\n",
    "- `a is b` is `True` because `b` was assigned to `a`, so both point to the same memory location.\n",
    "- `a is c` is `False` because even though `a` and `c` have the same contents, they are distinct objects stored at different memory locations.\n",
    "- `a is not c` is `True` because they are not the same object."
   ]
  },
  {
   "cell_type": "code",
   "execution_count": 8,
   "id": "8c80a53f-87f3-4840-ab84-a1fb10898fd9",
   "metadata": {},
   "outputs": [
    {
     "name": "stdout",
     "output_type": "stream",
     "text": [
      "x is an integer\n"
     ]
    }
   ],
   "source": [
    "# Another common use is to check the type of a variable:\n",
    "\n",
    "x = 10\n",
    "if type(x) is int:\n",
    "    print(\"x is an integer\")\n"
   ]
  },
  {
   "cell_type": "markdown",
   "id": "99f23aee-2df9-409f-b7f0-e5541ad7216c",
   "metadata": {},
   "source": [
    "This prints `\"x is an integer\"` because `type(x) is int` checks if `x`'s type object is exactly `int` (same object in memory).\n",
    "\n",
    "### Summary\n",
    "- Use `is` and `is not` to compare object identities (memory locations), not values.\n",
    "- Two objects can be equal (`==`) but not identical (`is`).\n",
    "- Useful for checking if variables reference the same object, such as singletons like `None`."
   ]
  },
  {
   "cell_type": "markdown",
   "id": "59e35baa-2c1d-4262-9c57-b8a22f29f243",
   "metadata": {},
   "source": [
    "## Write a program that find the sum of three digits given by user."
   ]
  },
  {
   "cell_type": "code",
   "execution_count": 10,
   "id": "bbcecd31-e529-45c9-aaca-0e1a4197b8d6",
   "metadata": {},
   "outputs": [
    {
     "name": "stdout",
     "output_type": "stream",
     "text": [
      "Seperated first number and stored in \"a\" variable is --> 5\n",
      "Seperated second number and stored in \"b\" variable is --> 4\n",
      "Seperated third number and stored in \"number\" variable is --> 3\n",
      "The Sum of given 3 digits is --> 12\n"
     ]
    }
   ],
   "source": [
    "# Program:\n",
    "\n",
    "number = int(input('Enter a 3 digit number'))\n",
    "\n",
    "# 345%10 -> 5\n",
    "a = number % 10   #first step to seperate the first right number, in this case is (5).\n",
    "print('Seperated first number and stored in \"a\" variable is -->', a)\n",
    "\n",
    "number = number // 10\n",
    "\n",
    "\n",
    "# 34%10 -> 4\n",
    "b = number % 10       #second step to seperate the second right number, here is (4).\n",
    "print('Seperated second number and stored in \"b\" variable is -->', b)\n",
    "\n",
    "\n",
    "number = number // 10\n",
    "print('Seperated third number and stored in \"number\" variable is -->', number)\n",
    "\n",
    "\n",
    "# 3 % 10 -> 3\n",
    "#c = number % 10\n",
    "\n",
    "print(\"The Sum of given 3 digits is -->\", a+b+number)"
   ]
  },
  {
   "cell_type": "markdown",
   "id": "508b007e-6121-4ff3-9be0-f0feda50a318",
   "metadata": {},
   "source": [
    "# If-else Statement in Python\n",
    "\n",
    "The **if-else statement** in Python is a fundamental control structure used for decision-making. It allows the program to execute one block of code if a specified condition is true, and a different block of code if the condition is false.\n",
    "\n",
    "## Syntax\n",
    "\n",
    "```python\n",
    "if condition:\n",
    "    # block of code executed if condition is True\n",
    "else:\n",
    "    # block of code executed if condition is False\n",
    "```\n",
    "\n",
    "- The `condition` is an expression evaluated to either `True` or `False`.\n",
    "- The code blocks under `if` and `else` must be indented.\n",
    "- The colon (`:`) indicates the start of the code block.\n",
    "\n",
    "## How It Works\n",
    "\n",
    "- If the `condition` evaluates to **True**, the code inside the `if` block runs, and the `else` block is skipped.\n",
    "- If the `condition` evaluates to **False**, the code inside the `else` block runs, and the `if` block is skipped.\n",
    "\n",
    "## Example:"
   ]
  },
  {
   "cell_type": "code",
   "execution_count": 11,
   "id": "a9654067-e5e1-4f58-a5c1-4711ac46e760",
   "metadata": {},
   "outputs": [
    {
     "name": "stdout",
     "output_type": "stream",
     "text": [
      "Positive number\n",
      "This statement always executes\n"
     ]
    }
   ],
   "source": [
    "number = int(input('Enter a number: '))\n",
    "\n",
    "if number > 0:\n",
    "    print('Positive number')\n",
    "else:\n",
    "    print('Not a positive number')\n",
    "\n",
    "print('This statement always executes')"
   ]
  },
  {
   "cell_type": "markdown",
   "id": "d9787321-da61-4960-9d0a-14d0417e3f24",
   "metadata": {},
   "source": [
    "### Here we write a Simple login program using if else statement.\n",
    "- Simple login program\n",
    "- Find the biggest of 3 given numbers\n",
    "- Menu driven program"
   ]
  },
  {
   "cell_type": "code",
   "execution_count": 12,
   "id": "b5ccf11c-a531-47c8-82e2-80440edb6168",
   "metadata": {},
   "outputs": [
    {
     "name": "stdout",
     "output_type": "stream",
     "text": [
      "Welcome\n"
     ]
    }
   ],
   "source": [
    "# Here we don't have any database so we assume login mail and password below.\n",
    "# email -> abid@gmail.com\n",
    "# password -> 1234\n",
    "\n",
    "email = input('Enter email')\n",
    "password = input('Enter password')\n",
    "\n",
    "if email == 'abid@gmail.com' and password == '1234':\n",
    "    print('Welcome')\n",
    "else:\n",
    "    print('Your credentils incorrect.')"
   ]
  },
  {
   "cell_type": "markdown",
   "id": "01a9a03e-0b2a-4625-b4de-141a1fe05d01",
   "metadata": {},
   "source": [
    "## Nested if-else statement\n",
    "- Python also supports **nested if-else** statements, where an if-else block is placed inside another if or else block.\n",
    "\n",
    "- For multiple conditions, Python provides the elif (else if) statement.\n",
    "\n",
    "- There is a shorthand syntax for if-else known as the **ternary operator**:\n",
    "\n",
    "- In below program we use **nested if-else** to give a User one more chance."
   ]
  },
  {
   "cell_type": "code",
   "execution_count": 13,
   "id": "126ffd5e-d99e-4555-bacb-6403c4d1c065",
   "metadata": {},
   "outputs": [
    {
     "name": "stdout",
     "output_type": "stream",
     "text": [
      "Welcome\n"
     ]
    }
   ],
   "source": [
    " \n",
    "\n",
    "email = input('Enter email')\n",
    "password = input('Enter password')\n",
    "\n",
    "if email == 'abid@gmail.com' and password == '1234':\n",
    "    print('Welcome')\n",
    "# from here we use nested if-else statement.\n",
    "elif email == 'abid@gmail.com' and password != '1234':\n",
    "    print('Incorrect password')\n",
    "    password = input('Enter password again')\n",
    "    if password == '1234':\n",
    "        print('Finally Welcome')\n",
    "    else:\n",
    "        print('Your password still incorrect.')\n",
    "else:\n",
    "    print('Not correct')"
   ]
  },
  {
   "cell_type": "code",
   "execution_count": 14,
   "id": "360d588c-9867-41fc-9c70-457e61f3d15a",
   "metadata": {},
   "outputs": [
    {
     "name": "stdout",
     "output_type": "stream",
     "text": [
      "Maximum number is 9\n"
     ]
    }
   ],
   "source": [
    "# Find the maximum of 3 givin numbers\n",
    "\n",
    "a = int(input('Enter first number'))\n",
    "b = int(input('Enter second number'))\n",
    "c = int(input('Enter third number'))\n",
    "\n",
    "if a>b and a>c:\n",
    "    print('Maximum number is', a)\n",
    "elif b>c:\n",
    "    print('Maximum number is', b)\n",
    "else:\n",
    "    print('Maximum number is', c)"
   ]
  },
  {
   "cell_type": "code",
   "execution_count": 15,
   "id": "e748abd9-86d9-45dd-8453-a5070c0cf6bb",
   "metadata": {},
   "outputs": [
    {
     "name": "stdout",
     "output_type": "stream",
     "text": [
      "15\n"
     ]
    }
   ],
   "source": [
    "# Menu driven Calculator\n",
    "\n",
    "first_number = int(input('Enter first number'))\n",
    "second_number = int(input('Enter second number'))\n",
    "\n",
    "operation = input('What you want to be operate?')\n",
    "\n",
    "if operation == '+':\n",
    "    print(first_number + second_number)\n",
    "elif operation == '-':\n",
    "    print(first_number - second_number)\n",
    "elif operation == '*':\n",
    "    print(first_number * second_number)\n",
    "else:\n",
    "    print(first_number / second_number)"
   ]
  },
  {
   "cell_type": "markdown",
   "id": "b219e5c4-9c28-4d26-8b8e-da988a87c1dd",
   "metadata": {},
   "source": [
    "# Modules in Python\n",
    "\n",
    "A **module** in Python is a file containing Python code-such as functions, classes, variables, and runnable statements-that helps organize and reuse code efficiently. Modules allow you to break down large programs into smaller, manageable, and logical parts, making your code easier to maintain and understand.\n",
    "\n",
    "### Key Features of Python Modules\n",
    "\n",
    "- **Organization:** Modules let you group related code (functions, classes, variables) together in a single file, typically with a `.py` extension.\n",
    "- **Reusability:** Once a module is created, you can import and use its contents in any other Python script, avoiding code duplication and promoting reuse.\n",
    "- **Namespace:** Each module has its own namespace, so the names defined in one module won’t conflict with names in another, reducing naming collisions.\n",
    "- **Standard and User-Defined:** Python comes with a rich standard library of modules (like `math`, `os`, `sys`), and you can also create your own custom modules.\n",
    "- **Importing:** To use a module, you import it into your script using the `import` statement.\n",
    "\n",
    "### Advantages of Using Modules\n",
    "\n",
    "- **Simplicity:** Breaks complex problems into smaller, focused files.\n",
    "- **Maintainability:** Easier to update or fix code in one place without affecting the entire project.\n",
    "- **Reusability:** Share and reuse code across multiple projects or with other developers.\n",
    "- **Scoping:** Avoids name conflicts by providing each module with its own namespace.\n",
    "\n",
    "In summary, a Python module is a fundamental tool for structuring, organizing, and reusing code, whether you use built-in modules or create your own.\n",
    "\n",
    "In this section we discuss about **Math**, **Keyword**, **Random** and **Datetime** Modules."
   ]
  },
  {
   "cell_type": "markdown",
   "id": "61ce6996-cd7d-455d-992d-19e67e1dff8a",
   "metadata": {},
   "source": [
    "## Math Module\n",
    "\n",
    "The **math module** in Python is a built-in module that provides access to a wide range of mathematical functions and constants defined by the C standard library. It is used for performing mathematical tasks such as trigonometric calculations, logarithms, factorials, rounding, and more. However, the functions in the math module do not support complex numbers.\n",
    "\n",
    "### Key Features of the math Module:\n",
    "\n",
    "- **Mathematical Functions:** Includes functions like `sqrt()` (square root), `sin()`, `cos()`, `tan()`, `log()`, `factorial()`, `ceil()`, `floor()`, and many others.\n",
    "- **Constants:** Provides important mathematical constants such as `pi` (π ≈ 3.14159), `e` (Euler's number ≈ 2.718), `tau` (τ ≈ 6.283), `inf` (infinity), and `nan` (not a number).\n",
    "- **Usage:** You need to import the module using `import math` before using its functions and constants.\n",
    "\n",
    "### Example mentioned below:"
   ]
  },
  {
   "cell_type": "code",
   "execution_count": 16,
   "id": "0fea73a9-0cbd-4261-8c1f-6b1e75ad4115",
   "metadata": {},
   "outputs": [
    {
     "name": "stdout",
     "output_type": "stream",
     "text": [
      "4.0\n",
      "3.141592653589793\n",
      "120\n",
      "5\n",
      "2.302585092994046\n"
     ]
    }
   ],
   "source": [
    "import math\n",
    "\n",
    "print(math.sqrt(16))   # Output: 4.0\n",
    "print(math.pi)         # Output: 3.141592653589793\n",
    "print(math.factorial(5))  # Output: 120\n",
    "print(math.ceil(4.2))  # Output: 5\n",
    "print(math.log(10))    # Natural logarithm of 10\n"
   ]
  },
  {
   "cell_type": "markdown",
   "id": "800717ec-3250-47bd-bf9d-f3aa4d7185bc",
   "metadata": {},
   "source": [
    "### Summary\n",
    "\n",
    "The math module extends Python’s capabilities by providing efficient and reliable mathematical functions and constants for numerical computations, making it essential for scientific, engineering, and mathematical programming tasks."
   ]
  },
  {
   "cell_type": "markdown",
   "id": "e51327a4-886b-451e-951d-657b3f08c72d",
   "metadata": {},
   "source": [
    "## Keyword Module\n",
    "\n",
    "The **keyword module** in Python is a built-in module that provides tools to work with Python's reserved keywords. Keywords are special reserved words in Python that have predefined meanings and cannot be used as variable names or identifiers.\n",
    "\n",
    "### Main Features of the keyword Module\n",
    "\n",
    "- **List of Keywords:** The module provides `keyword.kwlist`, a list containing all the current Python keywords.\n",
    "- **Check if a String is a Keyword:** The function `keyword.iskeyword(s)` returns `True` if the string `s` is a Python keyword, otherwise `False`.\n",
    "- **Soft Keywords:** Python also supports \"soft keywords\" (like `'type'`, `'case'`, `'match'`, `'_'`), which are context-dependent keywords. The module provides `keyword.issoftkeyword(s)` and `keyword.softkwlist` for these.\n",
    "- **Version Awareness:** Since Python keywords can change between versions, this module helps ensure compatibility by checking keywords dynamically.\n",
    "\n",
    "### Example Usage mentioned below:"
   ]
  },
  {
   "cell_type": "code",
   "execution_count": 17,
   "id": "a9e272f7-21be-4642-ba7b-4512f53f3cd6",
   "metadata": {},
   "outputs": [
    {
     "name": "stdout",
     "output_type": "stream",
     "text": [
      "['False', 'None', 'True', 'and', 'as', 'assert', 'async', 'await', 'break', 'class', 'continue', 'def', 'del', 'elif', 'else', 'except', 'finally', 'for', 'from', 'global', 'if', 'import', 'in', 'is', 'lambda', 'nonlocal', 'not', 'or', 'pass', 'raise', 'return', 'try', 'while', 'with', 'yield']\n",
      "True\n",
      "False\n",
      "False\n"
     ]
    }
   ],
   "source": [
    "import keyword\n",
    "\n",
    "print(keyword.kwlist)  # Prints all Python keywords\n",
    "\n",
    "print(keyword.iskeyword(\"if\"))    # True\n",
    "print(keyword.iskeyword(\"hello\")) # False\n",
    "\n",
    "print(keyword.issoftkeyword(\"type\"))  # True"
   ]
  },
  {
   "cell_type": "markdown",
   "id": "7ee250be-62a0-4791-a19f-b11b88607d7c",
   "metadata": {},
   "source": [
    "### Why Use the keyword Module?\n",
    "\n",
    "- To avoid using reserved words as variable or function names, which would cause syntax errors.\n",
    "- To dynamically check or list keywords in your Python environment.\n",
    "- To handle language parsing or code analysis tools that need to recognize Python keywords.\n",
    "\n",
    "### Summary\n",
    "\n",
    "The keyword module is a handy utility for managing and identifying Python's reserved words programmatically, helping developers write syntactically correct and compatible code.\n",
    "\n",
    "This information is based on Python documentation and tutorials on the keyword module."
   ]
  },
  {
   "cell_type": "markdown",
   "id": "3777fae0-2026-4ce3-9151-667767dd1efb",
   "metadata": {},
   "source": [
    "## Random Module\n",
    "\n",
    "The **random module** in Python is a built-in library that provides functions to generate pseudo-random numbers and perform random selections. It supports generating random integers, floating-point numbers, and making random choices from sequences, as well as shuffling and sampling.\n",
    "\n",
    "### Key Features of the random Module\n",
    "\n",
    "- **Pseudo-random number generation:** Generates numbers that appear random but are produced by deterministic algorithms.\n",
    "- **Random integers:** Functions like `randint()` and `randrange()` return random integers within specified ranges.\n",
    "- **Random floats:** Functions like `random()` return a floating-point number between 0 and 1, while `uniform(a, b)` returns a float between `a` and `b`.\n",
    "- **Random selections:**  \n",
    "  - `choice()` picks a random element from a sequence.  \n",
    "  - `choices()` picks multiple elements, optionally with weights.  \n",
    "  - `sample()` returns a unique sample of elements without replacement.\n",
    "- **Shuffling:** `shuffle()` randomly reorders elements in a list.\n",
    "- **Statistical distributions:** Functions like `gauss()`, `betavariate()`, `expovariate()`, and others generate random numbers based on various probability distributions.\n",
    "- **Seeding:** `seed()` initializes the random number generator to produce repeatable sequences.\n",
    "\n",
    "### Example Usage are mentioned below:"
   ]
  },
  {
   "cell_type": "code",
   "execution_count": 18,
   "id": "f5aaf80f-a30f-4ec7-8989-ce966ac50d22",
   "metadata": {},
   "outputs": [
    {
     "name": "stdout",
     "output_type": "stream",
     "text": [
      "0.2580627038704766\n",
      "46\n",
      "b\n",
      "[3, 2, 4, 1]\n",
      "[28, 56, 35, 72, 51]\n"
     ]
    }
   ],
   "source": [
    "import random\n",
    "\n",
    "print(random.random())          # Random float between 0 and 1\n",
    "print(random.randint(1, 50))   # Random integer between 1 and 50\n",
    "print(random.choice(['a', 'b', 'c']))  # Random element from list\n",
    "my_list = [1, 2, 3, 4]\n",
    "random.shuffle(my_list)         # Shuffle list in place\n",
    "print(my_list)\n",
    "print(random.sample(range(100), 5))  # 5 unique random numbers from 0 to 99"
   ]
  },
  {
   "cell_type": "markdown",
   "id": "3dc2afd8-c681-451f-8c73-498e0ab5b94d",
   "metadata": {},
   "source": [
    "### Summary\n",
    "\n",
    "The random module is essential for tasks involving randomness such as simulations, games, testing, and sampling. It offers a broad set of functions to generate random numbers and manipulate sequences randomly, all based on pseudo-random number generators.\n",
    "\n",
    "This information is based on the official Python documentation and multiple tutorials on the random module."
   ]
  },
  {
   "cell_type": "markdown",
   "id": "57966a7b-478e-48ed-9c73-a4c686536d6e",
   "metadata": {},
   "source": [
    "## DateTime Module\n",
    "\n",
    "The **datetime module** in Python supplies classes for manipulating dates and times. It provides a variety of objects to represent dates, times, and combinations of both, allowing you to perform date/time arithmetic, extract attributes, format output, and handle time zones.\n",
    "\n",
    "### Key Features:\n",
    "\n",
    "- **Classes:** Includes `date`, `time`, `datetime`, and `timedelta` for representing dates, times, combined date and time, and time differences respectively.\n",
    "- **Aware vs Naive Objects:**  \n",
    "  - *Naive* objects do not contain time zone information and represent date/time in an ambiguous context.  \n",
    "  - *Aware* objects include time zone info (`tzinfo`) and can unambiguously represent a specific moment in time.\n",
    "- **Time Zones:** The module provides a `timezone` class for fixed-offset time zones like UTC or EST.\n",
    "- **Date and Time Arithmetic:** Supports adding or subtracting time intervals.\n",
    "- **Formatting:** The `strftime()` method formats date/time objects into readable strings.\n",
    "- **Creation:** You can create date/time objects by specifying year, month, day, and optionally hour, minute, second, microsecond, and time zone.\n",
    "\n",
    "### Example Mentioned are below:"
   ]
  },
  {
   "cell_type": "code",
   "execution_count": 19,
   "id": "469e2300-dc41-42c4-a457-2ab52ab069ab",
   "metadata": {},
   "outputs": [
    {
     "name": "stdout",
     "output_type": "stream",
     "text": [
      "2025-05-10 22:46:10.434847\n",
      "2022-02-22 00:00:00\n",
      "Saturday, May 10, 2025\n"
     ]
    }
   ],
   "source": [
    "import datetime\n",
    "\n",
    "# Current date and time\n",
    "now = datetime.datetime.now()\n",
    "print(now)\n",
    "\n",
    "# Create a specific date\n",
    "d = datetime.datetime(2022, 2, 22)\n",
    "print(d)\n",
    "\n",
    "# Format date as a string\n",
    "print(now.strftime(\"%A, %B %d, %Y\"))\n"
   ]
  },
  {
   "cell_type": "markdown",
   "id": "e8f14e61-3c08-4c5a-9836-4a68fd5dc550",
   "metadata": {},
   "source": [
    "### Summary\n",
    "\n",
    "The datetime module is essential for working with dates and times in Python, providing flexible and powerful tools for creating, manipulating, and formatting date/time data, including support for time zones and aware/naive distinctions."
   ]
  },
  {
   "cell_type": "code",
   "execution_count": 34,
   "id": "320b651b-d82c-472a-a7d8-6b86902b44f0",
   "metadata": {},
   "outputs": [],
   "source": [
    "# If you want to know how many modules are installed in this environement use \"help\" function --> help('modules')\n",
    "#help('modules')"
   ]
  },
  {
   "cell_type": "markdown",
   "id": "82d04c87-93d8-45b0-bba9-f8ce122b593c",
   "metadata": {},
   "source": [
    "## Loops in Python\n",
    "\n",
    "Loops in Python are control flow statements that allow you to execute a block of code repeatedly as long as a specified condition is met or for each item in a sequence. They help automate repetitive tasks efficiently.\n",
    "\n",
    "## Types of Loops in Python\n",
    "\n",
    "### 1. For Loop\n",
    "The `for` loop iterates over each item in a sequence (like a list, tuple, string, dictionary, or range) and executes the block of code for each item.\n",
    "\n",
    "**Example are Mentioned below:**"
   ]
  },
  {
   "cell_type": "code",
   "execution_count": 20,
   "id": "1a14943e-5380-4e69-b7e9-504d27179ffb",
   "metadata": {},
   "outputs": [
    {
     "name": "stdout",
     "output_type": "stream",
     "text": [
      "Python\n",
      "Java\n",
      "C++\n"
     ]
    }
   ],
   "source": [
    "languages = ['Python', 'Java', 'C++']\n",
    "for lang in languages:\n",
    "    print(lang)"
   ]
  },
  {
   "cell_type": "markdown",
   "id": "b49c8743-c453-4bb1-ac27-e4edc14ad59d",
   "metadata": {},
   "source": [
    "Here, the variable `lang` takes each value from the `languages` list in each iteration, and the loop runs as many times as there are elements in the sequence.\n",
    "\n",
    "### 2. While Loop\n",
    "The `while` loop repeatedly executes a block of code as long as a given condition is `True`.\n",
    "**Example are Mentioned below:**"
   ]
  },
  {
   "cell_type": "code",
   "execution_count": 21,
   "id": "ea1b4b77-919b-4404-adc4-4542f40aab27",
   "metadata": {},
   "outputs": [
    {
     "name": "stdout",
     "output_type": "stream",
     "text": [
      "1\n",
      "2\n",
      "3\n",
      "4\n",
      "5\n"
     ]
    }
   ],
   "source": [
    "count = 1\n",
    "while count <= 5:\n",
    "    print(count)\n",
    "    count += 1"
   ]
  },
  {
   "cell_type": "markdown",
   "id": "f78634f3-9658-4df3-afd2-7966158016e5",
   "metadata": {},
   "source": [
    "The loop continues until the condition `count <= 5` becomes `False`.\n",
    "\n",
    "### Additional Loop Concepts\n",
    "\n",
    "- **Infinite Loop:** Created when the condition always remains `True`. For example:\n",
    "  ```python\n",
    "  while True:\n",
    "      # code block\n",
    "  ```\n",
    "  Use `break` to exit such loops manually.\n",
    "\n",
    "- **Loop with Condition in the Middle:** Use an infinite loop with a conditional `break` inside to exit based on a condition.\n",
    "  \n",
    "- **Loop with Condition at the Bottom:** Similar to a do-while loop, ensures the loop body executes at least once by placing the condition check at the end with a `break`.\n",
    "\n",
    "- **Nested Loops:** Loops inside loops, useful for multidimensional data or complex iterations.\n",
    "\n",
    "**Example of nested for loop:**"
   ]
  },
  {
   "cell_type": "code",
   "execution_count": 22,
   "id": "584a4eea-3bc6-4ab5-ba2e-5f2698fe4f77",
   "metadata": {},
   "outputs": [
    {
     "name": "stdout",
     "output_type": "stream",
     "text": [
      "1 \n",
      "1 2 \n",
      "1 2 3 \n",
      "1 2 3 4 \n",
      "1 2 3 4 5 \n"
     ]
    }
   ],
   "source": [
    "for i in range(1, 6):\n",
    "    for j in range(1, i+1):\n",
    "        print(j, end=\" \")\n",
    "    print()"
   ]
  },
  {
   "cell_type": "markdown",
   "id": "cae72ea4-d9be-49d5-9acd-57455836dba0",
   "metadata": {},
   "source": [
    "### When to Use For vs While Loops\n",
    "\n",
    "- Use **for loops** when you know the number of iterations or when iterating over a sequence.\n",
    "- Use **while loops** when you want to repeat until a condition changes, which might not be tied to a fixed number of iterations.\n",
    "\n",
    "\n",
    "**In summary**, loops in Python are essential for repeating tasks efficiently, with `for` loops iterating over sequences and `while` loops running based on conditions. They support nested structures and can be controlled with statements like `break` and `continue` to manage flow."
   ]
  },
  {
   "cell_type": "code",
   "execution_count": 23,
   "id": "e871efb9-3644-4bf6-8699-b17039977bef",
   "metadata": {},
   "outputs": [
    {
     "name": "stdout",
     "output_type": "stream",
     "text": [
      "5\n",
      "10\n",
      "15\n",
      "20\n",
      "25\n"
     ]
    }
   ],
   "source": [
    "# Here a simple program to take a number from user and multiply it self.\n",
    "\n",
    "number = int(input('Enter a digit'))\n",
    "\n",
    "i = 1\n",
    "while i < 6:\n",
    "    print(number * i)\n",
    "    i += 1"
   ]
  },
  {
   "cell_type": "code",
   "execution_count": 24,
   "id": "20425509-39e8-40cc-ab62-66ab0f977b24",
   "metadata": {},
   "outputs": [
    {
     "name": "stdout",
     "output_type": "stream",
     "text": [
      "9 * 1 = 9\n",
      "9 * 2 = 18\n",
      "9 * 3 = 27\n",
      "9 * 4 = 36\n",
      "9 * 5 = 45\n",
      "9 * 6 = 54\n",
      "9 * 7 = 63\n",
      "9 * 8 = 72\n",
      "9 * 9 = 81\n",
      "9 * 10 = 90\n"
     ]
    }
   ],
   "source": [
    "# A simple program to print a table.\n",
    "\n",
    "number = int(input('Enter the number'))\n",
    "\n",
    "i = 1\n",
    "while i < 11:\n",
    "    print(number, '*' ,i, '=', number * i)\n",
    "\n",
    "    i += 1"
   ]
  },
  {
   "cell_type": "code",
   "execution_count": 25,
   "id": "95afb456-4d65-497f-b4e0-85ed495f6903",
   "metadata": {},
   "outputs": [
    {
     "name": "stdout",
     "output_type": "stream",
     "text": [
      "first guess is --> 77\n",
      "Wrong, guess lower\n",
      "Wrong, guess heigher\n",
      "Wrong, guess heigher\n",
      "Wrong, guess lower\n",
      "Wrong, guess heigher\n",
      "Wrong, guess lower\n",
      "Wrong, guess lower\n",
      "Correct guess is --> 66\n",
      "Total attempts 8\n"
     ]
    }
   ],
   "source": [
    "# In this Program we make a Gassing Game to apply if-else stetments and loops.\n",
    "\n",
    "import random\n",
    "jackpot = random.randint(1,100)\n",
    "\n",
    "guess = int(input('Enter number and guess jackpot'))\n",
    "print('first guess is -->', guess)\n",
    "\n",
    "counter = 1\n",
    "while guess != jackpot:\n",
    "    if guess > jackpot:\n",
    "        print('Wrong, guess lower')\n",
    "    else:\n",
    "        print('Wrong, guess heigher')\n",
    "\n",
    "    guess = int(input('your new guess is'))\n",
    "    counter += 1\n",
    "\n",
    "else:\n",
    "    print('Correct guess is -->', guess)\n",
    "    print('Total attempts', counter)"
   ]
  },
  {
   "cell_type": "code",
   "execution_count": 26,
   "id": "bba2921c-7934-4f96-8e60-811723df76d5",
   "metadata": {},
   "outputs": [
    {
     "name": "stdout",
     "output_type": "stream",
     "text": [
      "1\n",
      "2\n",
      "3\n",
      "4\n",
      "5\n",
      "6\n",
      "7\n",
      "8\n",
      "9\n",
      "10\n"
     ]
    }
   ],
   "source": [
    "# For loop demo\n",
    "\n",
    "for i in range(1,11):\n",
    "    print(i)"
   ]
  },
  {
   "cell_type": "code",
   "execution_count": 27,
   "id": "a7d06cc4-ac0f-49b0-813c-9d6ad28837b5",
   "metadata": {},
   "outputs": [
    {
     "name": "stdout",
     "output_type": "stream",
     "text": [
      "1\n",
      "3\n",
      "5\n",
      "7\n",
      "9\n"
     ]
    }
   ],
   "source": [
    "# for loop step wise\n",
    "\n",
    "for i in range (1,11,2):\n",
    "    print(i)"
   ]
  },
  {
   "cell_type": "code",
   "execution_count": 28,
   "id": "cc24481a-5a13-42c8-96f7-c3bd7416e92d",
   "metadata": {},
   "outputs": [
    {
     "name": "stdout",
     "output_type": "stream",
     "text": [
      "10\n",
      "9\n",
      "8\n",
      "7\n",
      "6\n",
      "5\n",
      "4\n",
      "3\n",
      "2\n",
      "1\n"
     ]
    }
   ],
   "source": [
    "# for loop in revers order\n",
    "\n",
    "for i in range(10,0,-1):\n",
    "    print(i)"
   ]
  },
  {
   "cell_type": "code",
   "execution_count": 29,
   "id": "816628aa-7bba-44c8-b2eb-01aa95a78fe8",
   "metadata": {},
   "outputs": [
    {
     "name": "stdout",
     "output_type": "stream",
     "text": [
      "N\n",
      "a\n",
      "w\n",
      "a\n",
      "b\n",
      "s\n",
      "h\n",
      "a\n",
      "h\n"
     ]
    }
   ],
   "source": [
    "# for loop iterate also strings and other data types\n",
    "\n",
    "for i in \"Nawabshah\":\n",
    "    print(i)"
   ]
  }
 ],
 "metadata": {
  "kernelspec": {
   "display_name": "Python 3",
   "language": "python",
   "name": "python3"
  },
  "language_info": {
   "codemirror_mode": {
    "name": "ipython",
    "version": 3
   },
   "file_extension": ".py",
   "mimetype": "text/x-python",
   "name": "python",
   "nbconvert_exporter": "python",
   "pygments_lexer": "ipython3",
   "version": "3.11.11"
  }
 },
 "nbformat": 4,
 "nbformat_minor": 5
}
