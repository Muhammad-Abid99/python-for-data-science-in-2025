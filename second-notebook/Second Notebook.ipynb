{
 "cells": [
  {
   "cell_type": "markdown",
   "id": "6792a346-5b50-45d2-b81d-adeb825f5bc5",
   "metadata": {},
   "source": [
    "# Operators in Python\n",
    "\n",
    "Python has **seven main types of operators**,\n",
    "each serving a specific purpose in programming and data manipulation. Here’s a summary of the operator categories:\n",
    "\n",
    "- **Arithmetic Operators**: Used for mathematical operations like addition (+), subtraction (-), multiplication (*), division (/), modulus (%), exponentiation (**), and floor division (//).\n",
    "- **Assignment Operators**: Assign values to variables, including =, +=, -=, *=, /=, %=, //=, **=, and others.\n",
    "- **Comparison (Relational) Operators**: Compare values and include ==, !=, >, >=, <, <=.\n",
    "- **Logical Operators**: Used for boolean logic, such as and, or, not.\n",
    "- **Bitwise Operators**: Operate on binary representations of integers, such as &, |, ^, ~, <<, >>.\n",
    "- **Membership Operators**: Test for membership in a sequence (in, not in).\n",
    "- **Identity Operators**: Check if two variables refer to the same object (is, is not).\n"
   ]
  },
  {
   "cell_type": "code",
   "execution_count": 13,
   "id": "4d63df78-95b7-4ade-9eae-809f197645cd",
   "metadata": {},
   "outputs": [
    {
     "name": "stdout",
     "output_type": "stream",
     "text": [
      "The addition of a plus b is --> 12\n",
      "The subtruction of a plus b is --> 2\n",
      "The Multiplication of a plus b is --> 35\n",
      "The Division of a plus b is --> 1.4\n",
      "The Floor division of a plus b is --> 1\n",
      "The Modulus of a plus b is --> 2\n",
      "The Exponentiation of a plus b is --> 16807\n"
     ]
    }
   ],
   "source": [
    "# Arithmetic Operators\n",
    "\n",
    "a = 7\n",
    "b = 5\n",
    "\n",
    "print(\"The addition of a plus b is -->\", a+b)\n",
    "\n",
    "print(\"The subtruction of a plus b is -->\", a-b)\n",
    "\n",
    "print(\"The Multiplication of a plus b is -->\", a*b)\n",
    "\n",
    "print(\"The Division of a plus b is -->\", a/b)\n",
    "\n",
    "print(\"The Floor division of a plus b is -->\", a//b) #Integer Division\n",
    "\n",
    "print(\"The Modulus of a plus b is -->\", a%b)\n",
    "\n",
    "print(\"The Exponentiation of a plus b is -->\", a**b)"
   ]
  },
  {
   "cell_type": "code",
   "execution_count": 14,
   "id": "161bf322-a2dc-4139-adc5-514b43a6d4f8",
   "metadata": {},
   "outputs": [
    {
     "name": "stdout",
     "output_type": "stream",
     "text": [
      "2\n",
      "5\n"
     ]
    }
   ],
   "source": [
    "# Assignment Operators\n",
    "\n",
    "a = 2 #here (a) is variable (=) assignment operator and (2) is literal\n",
    "print(a)\n",
    "\n",
    "a += 3 # Actually is this --> a = a + 3\n",
    "print(a)"
   ]
  },
  {
   "cell_type": "code",
   "execution_count": 15,
   "id": "cbe847d7-fc17-4643-92cd-855e12cd9115",
   "metadata": {},
   "outputs": [
    {
     "name": "stdout",
     "output_type": "stream",
     "text": [
      "False\n",
      "True\n",
      "False\n",
      "True\n",
      "False\n",
      "True\n"
     ]
    }
   ],
   "source": [
    "# Comparison (Relational) Operators\n",
    "\n",
    "print(7>8)\n",
    "\n",
    "print(7<8)\n",
    "\n",
    "print(7>=9)\n",
    "\n",
    "print(7<=9)\n",
    "\n",
    "print(7==8)\n",
    "\n",
    "print(7!=5)"
   ]
  },
  {
   "cell_type": "code",
   "execution_count": 16,
   "id": "f667daf6-1b10-4ca4-b5a7-e825db420126",
   "metadata": {},
   "outputs": [
    {
     "name": "stdout",
     "output_type": "stream",
     "text": [
      "7\n",
      "3\n",
      "0\n",
      "0\n",
      "3\n",
      "3\n",
      "False\n"
     ]
    }
   ],
   "source": [
    "# Logical Operators\n",
    "\n",
    "print(3 and 7)\n",
    "\n",
    "print(7 and 3)\n",
    "\n",
    "print(3 and 0)\n",
    "\n",
    "print(0 and 3)\n",
    "\n",
    "print(3 or 0)\n",
    "\n",
    "print(0 or 3)\n",
    "\n",
    "print(not 3)"
   ]
  },
  {
   "cell_type": "code",
   "execution_count": 17,
   "id": "86c509cc-26cb-4aec-98e3-bdf87256ba68",
   "metadata": {},
   "outputs": [
    {
     "name": "stdout",
     "output_type": "stream",
     "text": [
      "2\n",
      "3\n",
      "1\n",
      "-4\n",
      "1\n",
      "16\n"
     ]
    }
   ],
   "source": [
    "# Bitwise Operators\n",
    "\n",
    "# bitwise and\n",
    "print(2 & 3)\n",
    "\n",
    "# bitwise or\n",
    "print(2 | 3)\n",
    "\n",
    "# bitwise xor\n",
    "print(2 ^ 3)\n",
    "\n",
    "# bitwise not\n",
    "print(~3)\n",
    "\n",
    "# bitwise left shift\n",
    "print(4 >> 2)\n",
    "\n",
    "# bitwise right shift\n",
    "print(4 << 2)"
   ]
  },
  {
   "cell_type": "code",
   "execution_count": 18,
   "id": "c8e94573-5238-4122-8918-cf72a5dec690",
   "metadata": {},
   "outputs": [
    {
     "name": "stdout",
     "output_type": "stream",
     "text": [
      "True\n",
      "False\n",
      "True\n"
     ]
    }
   ],
   "source": [
    "# Membership Operators\n",
    "\n",
    "# in/not in\n",
    "\n",
    "print('N' in 'Nawabshah')\n",
    "\n",
    "print('K' not in 'Karachi')\n",
    "\n",
    "print(3 in [1,2,3,4,5,7])"
   ]
  },
  {
   "cell_type": "markdown",
   "id": "93f3ed44-01d4-4cce-82d6-56b0e733d01d",
   "metadata": {},
   "source": [
    "### **Identity operators**\n",
    "In Python are used to check whether two variables refer to the same object in memory, not just if they are equal in value. The two identity operators are:\n",
    "\n",
    "- `is`: Returns `True` if both variables point to the same object.\n",
    "- `is not`: Returns `True` if the variables point to different objects.\n",
    "\n",
    "### Summary\n",
    "- Use `is` and `is not` to compare object identities (memory locations), not values.\n",
    "- Two objects can be equal (`==`) but not identical (`is`).\n",
    "- Useful for checking if variables reference the same object, such as singletons like `None`.\n"
   ]
  },
  {
   "cell_type": "code",
   "execution_count": 19,
   "id": "14f2acdb-8d6d-4a0e-b4fc-7d12058e279c",
   "metadata": {},
   "outputs": [
    {
     "name": "stdout",
     "output_type": "stream",
     "text": [
      "True\n",
      "False\n",
      "True\n"
     ]
    }
   ],
   "source": [
    "# Identity Operators\n",
    "\n",
    "a = [1, 2, 3]\n",
    "b = a          # b references the same list object as a\n",
    "c = [1, 2, 3]  # c is a new list object with the same content as a\n",
    "\n",
    "print(a is b)      # True, because a and b refer to the same object\n",
    "print(a is c)      # False, because a and c are different objects in memory\n",
    "print(a is not c)  # True, confirming a and c are not the same object\n"
   ]
  },
  {
   "cell_type": "markdown",
   "id": "6766d368-8a77-4a5a-a030-fb62e3797f5a",
   "metadata": {},
   "source": [
    "**Explanation**:\n",
    "- `a is b` is `True` because `b` was assigned to `a`, so both point to the same memory location.\n",
    "- `a is c` is `False` because even though `a` and `c` have the same contents, they are distinct objects stored at different memory locations.\n",
    "- `a is not c` is `True` because they are not the same object."
   ]
  },
  {
   "cell_type": "code",
   "execution_count": 20,
   "id": "8c80a53f-87f3-4840-ab84-a1fb10898fd9",
   "metadata": {},
   "outputs": [
    {
     "name": "stdout",
     "output_type": "stream",
     "text": [
      "x is an integer\n"
     ]
    }
   ],
   "source": [
    "# Another common use is to check the type of a variable:\n",
    "\n",
    "x = 10\n",
    "if type(x) is int:\n",
    "    print(\"x is an integer\")\n"
   ]
  },
  {
   "cell_type": "markdown",
   "id": "99f23aee-2df9-409f-b7f0-e5541ad7216c",
   "metadata": {},
   "source": [
    "This prints `\"x is an integer\"` because `type(x) is int` checks if `x`'s type object is exactly `int` (same object in memory).\n",
    "\n",
    "### Summary\n",
    "- Use `is` and `is not` to compare object identities (memory locations), not values.\n",
    "- Two objects can be equal (`==`) but not identical (`is`).\n",
    "- Useful for checking if variables reference the same object, such as singletons like `None`."
   ]
  },
  {
   "cell_type": "markdown",
   "id": "59e35baa-2c1d-4262-9c57-b8a22f29f243",
   "metadata": {},
   "source": [
    "## Write a program that find the sum of three digits given by the user."
   ]
  },
  {
   "cell_type": "code",
   "execution_count": 21,
   "id": "bbcecd31-e529-45c9-aaca-0e1a4197b8d6",
   "metadata": {},
   "outputs": [
    {
     "name": "stdout",
     "output_type": "stream",
     "text": [
      "Enter a 3 digit number 123\n"
     ]
    },
    {
     "name": "stdout",
     "output_type": "stream",
     "text": [
      "Seperated first number and stored in \"a\" variable is --> 3\n",
      "Seperated second number and stored in \"b\" variable is --> 2\n",
      "Seperated third number and stored in \"number\" variable is --> 1\n",
      "The Sum of given 3 digits is --> 6\n"
     ]
    },
    {
     "name": "stdout",
     "output_type": "stream",
     "text": [
      "Seperated first number and stored in \"a\" variable is --> 5\n",
      "Seperated second number and stored in \"b\" variable is --> 6\n",
      "Seperated third number and stored in \"number\" variable is --> 7\n",
      "18\n"
     ]
    }
   ],
   "source": [
    "# Program:\n",
    "\n",
    "number = int(input('Enter a 3 digit number'))\n",
    "\n",
    "# 345%10 -> 5\n",
    "a = number % 10   #first step to seperate the first right number, in this case is (5).\n",
    "print('Seperated first number and stored in \"a\" variable is -->', a)\n",
    "\n",
    "number = number // 10\n",
    "\n",
    "\n",
    "# 34%10 -> 4\n",
    "b = number % 10       #second step to seperate the second right number, here is (4).\n",
    "print('Seperated second number and stored in \"b\" variable is -->', b)\n",
    "\n",
    "\n",
    "number = number // 10\n",
    "print('Seperated third number and stored in \"number\" variable is -->', number)\n",
    "\n",
    "\n",
    "# 3 % 10 -> 3\n",
    "#c = number % 10\n",
    "\n",
    "print(\"The Sum of given 3 digits is -->\", a+b+number)"
   ]
  },
  {
   "cell_type": "markdown",
   "id": "508b007e-6121-4ff3-9be0-f0feda50a318",
   "metadata": {},
   "source": [
    "# If-else Statement in Python\n",
    "\n",
    "- Simple login program\n",
    "- Find the biggest of 3 given numbers\n",
    "- Menu driven program"
   ]
  },
  {
   "cell_type": "code",
   "execution_count": 22,
   "id": "126ffd5e-d99e-4555-bacb-6403c4d1c065",
   "metadata": {},
   "outputs": [
    {
     "name": "stdout",
     "output_type": "stream",
     "text": [
      "Enter email abid@gmail.com\n",
      "Enter password 1234\n"
     ]
    },
    {
     "name": "stdout",
     "output_type": "stream",
     "text": [
      "Welcome\n"
     ]
    },
    {
     "name": "stdout",
     "output_type": "stream",
     "text": [
      "Incorrect password\n"
     ]
    },
    {
     "name": "stdout",
     "output_type": "stream",
     "text": [
      "Enter password again 1234\n"
     ]
    },
    {
     "name": "stdout",
     "output_type": "stream",
     "text": [
      "Finally Welcome\n"
     ]
    }
   ],
   "source": [
    "# login program and indentation\n",
    "# email -> abid@gmail.com\n",
    "# password -> 1234\n",
    "\n",
    "email = input('Enter email')\n",
    "password = input('Enter password')\n",
    "\n",
    "if email == 'abid@gmail.com' and password == '1234':\n",
    "    print('Welcome')\n",
    "elif email == 'abid@gmail.com' and password != '1234':\n",
    "    print('Incorrect password')\n",
    "    password = input('Enter password again')\n",
    "    if password == '1234':\n",
    "        print('Finally Welcome')\n",
    "    else:\n",
    "        print('Beta tery bas ki bat nahin')\n",
    "else:\n",
    "    print('Not correct')"
   ]
  },
  {
   "cell_type": "code",
   "execution_count": 23,
   "id": "360d588c-9867-41fc-9c70-457e61f3d15a",
   "metadata": {},
   "outputs": [
    {
     "name": "stdout",
     "output_type": "stream",
     "text": [
      "Enter first number 4\n",
      "Enter second number 8\n",
      "Enter third number 2\n"
     ]
    },
    {
     "name": "stdout",
     "output_type": "stream",
     "text": [
      "bigger number is 8\n"
     ]
    },
    {
     "name": "stdout",
     "output_type": "stream",
     "text": [
      "bigger number is 34567890\n"
     ]
    }
   ],
   "source": [
    "# Find the max of 3 givin numbers\n",
    "\n",
    "a = int(input('Enter first number'))\n",
    "b = int(input('Enter second number'))\n",
    "c = int(input('Enter third number'))\n",
    "\n",
    "if a>b and a>c:\n",
    "    print('bigger number is', a)\n",
    "elif b>c:\n",
    "    print('bigger number is', b)\n",
    "else:\n",
    "    print('bigger number is', c)"
   ]
  },
  {
   "cell_type": "code",
   "execution_count": 24,
   "id": "e748abd9-86d9-45dd-8453-a5070c0cf6bb",
   "metadata": {},
   "outputs": [
    {
     "name": "stdout",
     "output_type": "stream",
     "text": [
      "Enter first number 6\n",
      "Enter second number 7\n",
      "What you want to be operate? 9\n"
     ]
    },
    {
     "name": "stdout",
     "output_type": "stream",
     "text": [
      "0.8571428571428571\n"
     ]
    },
    {
     "name": "stdout",
     "output_type": "stream",
     "text": [
      "-10\n"
     ]
    }
   ],
   "source": [
    "# Menu driven Calculator\n",
    "\n",
    "fnum = int(input('Enter first number'))\n",
    "snum = int(input('Enter second number'))\n",
    "\n",
    "op = input('What you want to be operate?')\n",
    "\n",
    "if op == '+':\n",
    "    print(fnum + snum)\n",
    "elif op == '-':\n",
    "    print(fnum - snum)\n",
    "elif op == '*':\n",
    "    print(fnum * snum)\n",
    "else:\n",
    "    print(fnum / snum)"
   ]
  },
  {
   "cell_type": "markdown",
   "id": "26c9b937-93dc-4f86-b56f-f9a3328b4178",
   "metadata": {},
   "source": [
    "### Menu driven ATM program\n",
    "\n",
    "menu = input(\"\"\"\n",
    "Hi can I help you?\n",
    "press 1 for enter pin.\n",
    "press 2 to check balance.\n",
    "press 3 to change pin.\n",
    "press 4 to withdraw.\n",
    "\"\"\")\n",
    "\n",
    "if menu == '1':\n",
    "    print('Enter the pin')\n",
    "elif menu == '2':\n",
    "    print('Your balance is...')\n",
    "elif menu == '3':\n",
    "    print('Change the pin')\n",
    "elif menu == '4':\n",
    "    print('Withdraw your cash')\n",
    "else:\n",
    "    print('Exit')"
   ]
  },
  {
   "cell_type": "markdown",
   "id": "b219e5c4-9c28-4d26-8b8e-da988a87c1dd",
   "metadata": {},
   "source": [
    "## Modules in Python\n",
    "- Math\n",
    "- Keywords\n",
    "- Random\n",
    "- Datetime"
   ]
  },
  {
   "cell_type": "code",
   "execution_count": 26,
   "id": "dcca90e8-7105-4656-a3ff-5194b14ec531",
   "metadata": {},
   "outputs": [
    {
     "data": {
      "text/plain": [
       "120"
      ]
     },
     "execution_count": 26,
     "metadata": {},
     "output_type": "execute_result"
    }
   ],
   "source": [
    "# math\n",
    "import math\n",
    "\n",
    "math.factorial(5)"
   ]
  },
  {
   "cell_type": "code",
   "execution_count": 27,
   "id": "b55ccf2f-1904-4249-b46a-6c31ead7eb8a",
   "metadata": {},
   "outputs": [
    {
     "data": {
      "text/plain": [
       "5"
      ]
     },
     "execution_count": 27,
     "metadata": {},
     "output_type": "execute_result"
    }
   ],
   "source": [
    "math.comb(5,1)"
   ]
  },
  {
   "cell_type": "code",
   "execution_count": 28,
   "id": "be581545-e459-49a4-a732-30c49a2b2177",
   "metadata": {},
   "outputs": [
    {
     "data": {
      "text/plain": [
       "6"
      ]
     },
     "execution_count": 28,
     "metadata": {},
     "output_type": "execute_result"
    }
   ],
   "source": [
    "math.floor(6.8)"
   ]
  },
  {
   "cell_type": "code",
   "execution_count": 29,
   "id": "9b53b239-aab7-4e7f-be1d-e0bb6bf785f2",
   "metadata": {},
   "outputs": [
    {
     "data": {
      "text/plain": [
       "14.0"
      ]
     },
     "execution_count": 29,
     "metadata": {},
     "output_type": "execute_result"
    }
   ],
   "source": [
    "math.sqrt(196)"
   ]
  },
  {
   "cell_type": "code",
   "execution_count": 30,
   "id": "cfe7e3e3-2d1c-4aac-a6ed-c49641bbf589",
   "metadata": {},
   "outputs": [
    {
     "data": {
      "text/plain": [
       "['False',\n",
       " 'None',\n",
       " 'True',\n",
       " 'and',\n",
       " 'as',\n",
       " 'assert',\n",
       " 'async',\n",
       " 'await',\n",
       " 'break',\n",
       " 'class',\n",
       " 'continue',\n",
       " 'def',\n",
       " 'del',\n",
       " 'elif',\n",
       " 'else',\n",
       " 'except',\n",
       " 'finally',\n",
       " 'for',\n",
       " 'from',\n",
       " 'global',\n",
       " 'if',\n",
       " 'import',\n",
       " 'in',\n",
       " 'is',\n",
       " 'lambda',\n",
       " 'nonlocal',\n",
       " 'not',\n",
       " 'or',\n",
       " 'pass',\n",
       " 'raise',\n",
       " 'return',\n",
       " 'try',\n",
       " 'while',\n",
       " 'with',\n",
       " 'yield']"
      ]
     },
     "execution_count": 30,
     "metadata": {},
     "output_type": "execute_result"
    }
   ],
   "source": [
    "# Key word\n",
    "import keyword\n",
    "\n",
    "keyword.kwlist"
   ]
  },
  {
   "cell_type": "code",
   "execution_count": 31,
   "id": "c8b7e9ed-abb9-4fb4-ba89-9b3960ef85e8",
   "metadata": {},
   "outputs": [
    {
     "name": "stdout",
     "output_type": "stream",
     "text": [
      "['False', 'None', 'True', 'and', 'as', 'assert', 'async', 'await', 'break', 'class', 'continue', 'def', 'del', 'elif', 'else', 'except', 'finally', 'for', 'from', 'global', 'if', 'import', 'in', 'is', 'lambda', 'nonlocal', 'not', 'or', 'pass', 'raise', 'return', 'try', 'while', 'with', 'yield']\n"
     ]
    }
   ],
   "source": [
    "print(keyword.kwlist)"
   ]
  },
  {
   "cell_type": "code",
   "execution_count": 32,
   "id": "8c8c8bd6-19cd-47b6-9a54-09557c8dcec2",
   "metadata": {},
   "outputs": [
    {
     "name": "stdout",
     "output_type": "stream",
     "text": [
      "82\n"
     ]
    }
   ],
   "source": [
    "# Random\n",
    "import random\n",
    "print(random.randint(1,100))"
   ]
  },
  {
   "cell_type": "code",
   "execution_count": 33,
   "id": "bf0d0108-dfc1-47f8-9494-f7a1bfd15855",
   "metadata": {},
   "outputs": [
    {
     "name": "stdout",
     "output_type": "stream",
     "text": [
      "2025-05-09 21:25:17.860510\n"
     ]
    }
   ],
   "source": [
    "# Date Time\n",
    "import datetime\n",
    "\n",
    "print(datetime.datetime.now())"
   ]
  },
  {
   "cell_type": "code",
   "execution_count": 34,
   "id": "320b651b-d82c-472a-a7d8-6b86902b44f0",
   "metadata": {},
   "outputs": [],
   "source": [
    "# If you want to know how many modules are installed in this environement use \"help\" function --> help('modules')\n",
    "#help('modules')"
   ]
  },
  {
   "cell_type": "markdown",
   "id": "d1caf17c-911c-425d-8cd3-6ab5703cc4eb",
   "metadata": {},
   "source": [
    "## Loops in Python\n",
    "- Need for loops\n",
    "- While loop\n",
    "- For loop"
   ]
  },
  {
   "cell_type": "code",
   "execution_count": 35,
   "id": "e871efb9-3644-4bf6-8699-b17039977bef",
   "metadata": {},
   "outputs": [
    {
     "name": "stdout",
     "output_type": "stream",
     "text": [
      "Enter a digit 3\n"
     ]
    },
    {
     "name": "stdout",
     "output_type": "stream",
     "text": [
      "3\n",
      "6\n",
      "9\n",
      "12\n",
      "15\n",
      "18\n",
      "21\n",
      "24\n",
      "27\n",
      "30\n"
     ]
    },
    {
     "name": "stdout",
     "output_type": "stream",
     "text": [
      "11\n",
      "22\n",
      "33\n",
      "44\n",
      "55\n",
      "66\n",
      "77\n",
      "88\n",
      "99\n",
      "110\n"
     ]
    }
   ],
   "source": [
    "number = int(input('Enter a digit'))\n",
    "\n",
    "i = 1\n",
    "while i < 11:\n",
    "    print(number * i)\n",
    "    i += 1"
   ]
  },
  {
   "cell_type": "code",
   "execution_count": 36,
   "id": "20425509-39e8-40cc-ab62-66ab0f977b24",
   "metadata": {},
   "outputs": [
    {
     "name": "stdout",
     "output_type": "stream",
     "text": [
      "Enter the number 3\n"
     ]
    },
    {
     "name": "stdout",
     "output_type": "stream",
     "text": [
      "3 * 1 = 3\n",
      "3 * 2 = 6\n",
      "3 * 3 = 9\n",
      "3 * 4 = 12\n",
      "3 * 5 = 15\n",
      "3 * 6 = 18\n",
      "3 * 7 = 21\n",
      "3 * 8 = 24\n",
      "3 * 9 = 27\n",
      "3 * 10 = 30\n"
     ]
    },
    {
     "name": "stdout",
     "output_type": "stream",
     "text": [
      "12 * 1 = 12\n",
      "12 * 2 = 24\n",
      "12 * 3 = 36\n",
      "12 * 4 = 48\n",
      "12 * 5 = 60\n",
      "12 * 6 = 72\n",
      "12 * 7 = 84\n",
      "12 * 8 = 96\n",
      "12 * 9 = 108\n",
      "12 * 10 = 120\n"
     ]
    }
   ],
   "source": [
    "number = int(input('Enter the number'))\n",
    "\n",
    "i = 1\n",
    "while i < 11:\n",
    "    print(number, '*' ,i, '=', number * i)\n",
    "\n",
    "    i += 1"
   ]
  },
  {
   "cell_type": "code",
   "execution_count": null,
   "id": "314b6444-f589-4c4a-b77d-c4169b6c2dca",
   "metadata": {},
   "outputs": [],
   "source": []
  },
  {
   "cell_type": "code",
   "execution_count": 37,
   "id": "95afb456-4d65-497f-b4e0-85ed495f6903",
   "metadata": {},
   "outputs": [
    {
     "name": "stdout",
     "output_type": "stream",
     "text": [
      "Enter number and guess jackpot 55\n"
     ]
    },
    {
     "name": "stdout",
     "output_type": "stream",
     "text": [
      "first guess is --> 55\n",
      "Wrong, guess heigher\n"
     ]
    },
    {
     "name": "stdout",
     "output_type": "stream",
     "text": [
      "guess karo 77\n"
     ]
    },
    {
     "name": "stdout",
     "output_type": "stream",
     "text": [
      "Wrong, guess heigher\n"
     ]
    },
    {
     "name": "stdout",
     "output_type": "stream",
     "text": [
      "guess karo 88\n"
     ]
    },
    {
     "name": "stdout",
     "output_type": "stream",
     "text": [
      "Wrong, guess lower\n"
     ]
    },
    {
     "name": "stdout",
     "output_type": "stream",
     "text": [
      "guess karo 80\n"
     ]
    },
    {
     "name": "stdout",
     "output_type": "stream",
     "text": [
      "Wrong, guess heigher\n"
     ]
    },
    {
     "name": "stdout",
     "output_type": "stream",
     "text": [
      "guess karo 83\n"
     ]
    },
    {
     "name": "stdout",
     "output_type": "stream",
     "text": [
      "Wrong, guess heigher\n"
     ]
    },
    {
     "name": "stdout",
     "output_type": "stream",
     "text": [
      "guess karo 85\n"
     ]
    },
    {
     "name": "stdout",
     "output_type": "stream",
     "text": [
      "Wrong, guess heigher\n"
     ]
    },
    {
     "name": "stdout",
     "output_type": "stream",
     "text": [
      "guess karo 86\n"
     ]
    },
    {
     "name": "stdout",
     "output_type": "stream",
     "text": [
      "Wrong, guess heigher\n"
     ]
    },
    {
     "name": "stdout",
     "output_type": "stream",
     "text": [
      "guess karo 87\n"
     ]
    },
    {
     "name": "stdout",
     "output_type": "stream",
     "text": [
      "Correct guess is --> 87\n",
      "Total attempts 8\n"
     ]
    },
    {
     "name": "stdout",
     "output_type": "stream",
     "text": [
      "first guess is --> 99\n",
      "Wrong, guess lower\n"
     ]
    },
    {
     "name": "stdout",
     "output_type": "stream",
     "text": [
      "guess karo 40\n"
     ]
    },
    {
     "name": "stdout",
     "output_type": "stream",
     "text": [
      "Wrong, guess heigher\n"
     ]
    },
    {
     "name": "stdout",
     "output_type": "stream",
     "text": [
      "guess karo 70\n"
     ]
    },
    {
     "name": "stdout",
     "output_type": "stream",
     "text": [
      "Wrong, guess lower\n"
     ]
    },
    {
     "name": "stdout",
     "output_type": "stream",
     "text": [
      "guess karo 65\n"
     ]
    },
    {
     "name": "stdout",
     "output_type": "stream",
     "text": [
      "Wrong, guess lower\n"
     ]
    },
    {
     "name": "stdout",
     "output_type": "stream",
     "text": [
      "guess karo 50\n"
     ]
    },
    {
     "name": "stdout",
     "output_type": "stream",
     "text": [
      "Wrong, guess heigher\n"
     ]
    },
    {
     "name": "stdout",
     "output_type": "stream",
     "text": [
      "guess karo 57\n"
     ]
    },
    {
     "name": "stdout",
     "output_type": "stream",
     "text": [
      "Wrong, guess lower\n"
     ]
    },
    {
     "name": "stdout",
     "output_type": "stream",
     "text": [
      "guess karo 55\n"
     ]
    },
    {
     "name": "stdout",
     "output_type": "stream",
     "text": [
      "Wrong, guess lower\n"
     ]
    },
    {
     "name": "stdout",
     "output_type": "stream",
     "text": [
      "guess karo 53\n"
     ]
    },
    {
     "name": "stdout",
     "output_type": "stream",
     "text": [
      "Wrong, guess heigher\n"
     ]
    },
    {
     "name": "stdout",
     "output_type": "stream",
     "text": [
      "guess karo 54\n"
     ]
    },
    {
     "name": "stdout",
     "output_type": "stream",
     "text": [
      "Correct guess is --> 54\n",
      "Total attempts 9\n"
     ]
    }
   ],
   "source": [
    "# Gassing game\n",
    "\n",
    "import random\n",
    "jackpot = random.randint(1,100)\n",
    "\n",
    "guess = int(input('Enter number and guess jackpot'))\n",
    "print('first guess is -->', guess)\n",
    "\n",
    "counter = 1\n",
    "while guess != jackpot:\n",
    "    if guess > jackpot:\n",
    "        print('Wrong, guess lower')\n",
    "    else:\n",
    "        print('Wrong, guess heigher')\n",
    "\n",
    "    guess = int(input('guess karo'))\n",
    "    counter += 1\n",
    "\n",
    "else:\n",
    "    print('Correct guess is -->', guess)\n",
    "    print('Total attempts', counter)"
   ]
  },
  {
   "cell_type": "code",
   "execution_count": 38,
   "id": "bba2921c-7934-4f96-8e60-811723df76d5",
   "metadata": {},
   "outputs": [
    {
     "name": "stdout",
     "output_type": "stream",
     "text": [
      "1\n",
      "2\n",
      "3\n",
      "4\n",
      "5\n",
      "6\n",
      "7\n",
      "8\n",
      "9\n",
      "10\n"
     ]
    }
   ],
   "source": [
    "# For loop demo\n",
    "\n",
    "for i in range(1,11):\n",
    "    print(i)"
   ]
  },
  {
   "cell_type": "code",
   "execution_count": 39,
   "id": "a7d06cc4-ac0f-49b0-813c-9d6ad28837b5",
   "metadata": {},
   "outputs": [
    {
     "name": "stdout",
     "output_type": "stream",
     "text": [
      "1\n",
      "3\n",
      "5\n",
      "7\n",
      "9\n"
     ]
    }
   ],
   "source": [
    "# for loop step wise\n",
    "\n",
    "for i in range (1,11,2):\n",
    "    print(i)"
   ]
  },
  {
   "cell_type": "code",
   "execution_count": 40,
   "id": "cc24481a-5a13-42c8-96f7-c3bd7416e92d",
   "metadata": {},
   "outputs": [
    {
     "name": "stdout",
     "output_type": "stream",
     "text": [
      "10\n",
      "9\n",
      "8\n",
      "7\n",
      "6\n",
      "5\n",
      "4\n",
      "3\n",
      "2\n",
      "1\n"
     ]
    }
   ],
   "source": [
    "# for loop in revers order\n",
    "\n",
    "for i in range(10,0,-1):\n",
    "    print(i)"
   ]
  },
  {
   "cell_type": "code",
   "execution_count": 41,
   "id": "816628aa-7bba-44c8-b2eb-01aa95a78fe8",
   "metadata": {},
   "outputs": [
    {
     "name": "stdout",
     "output_type": "stream",
     "text": [
      "N\n",
      "a\n",
      "w\n",
      "a\n",
      "b\n",
      "s\n",
      "h\n",
      "a\n",
      "h\n"
     ]
    }
   ],
   "source": [
    "# for loop iterate also strings and other data types\n",
    "\n",
    "for i in \"Nawabshah\":\n",
    "    print(i)"
   ]
  }
 ],
 "metadata": {
  "kernelspec": {
   "display_name": "Python 3",
   "language": "python",
   "name": "python3"
  },
  "language_info": {
   "codemirror_mode": {
    "name": "ipython",
    "version": 3
   },
   "file_extension": ".py",
   "mimetype": "text/x-python",
   "name": "python",
   "nbconvert_exporter": "python",
   "pygments_lexer": "ipython3",
   "version": "3.11.11"
  }
 },
 "nbformat": 4,
 "nbformat_minor": 5
}
