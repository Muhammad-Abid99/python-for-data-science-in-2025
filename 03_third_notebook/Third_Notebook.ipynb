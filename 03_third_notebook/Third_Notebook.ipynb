{
 "cells": [
  {
   "cell_type": "markdown",
   "id": "35e34804-9f5a-4f40-be62-64c6f312f7a3",
   "metadata": {},
   "source": [
    "## Program - The current population of a town is 10000.\n",
    "### The population of the town is increasing at the rate of 10% per year. You have to write a program to find out the population at the end of each of the last 10 years."
   ]
  },
  {
   "cell_type": "code",
   "execution_count": 1,
   "id": "fd4a7c3f-6058-43fa-9536-048abea9dacb",
   "metadata": {},
   "outputs": [
    {
     "name": "stdout",
     "output_type": "stream",
     "text": [
      "10 10000\n",
      "9 9090.90909090909\n",
      "8 8264.462809917353\n",
      "7 7513.148009015775\n",
      "6 6830.134553650703\n",
      "5 6209.213230591548\n",
      "4 5644.739300537771\n",
      "3 5131.5811823070635\n",
      "2 4665.07380209733\n",
      "1 4240.976183724845\n"
     ]
    }
   ],
   "source": [
    "# Code here\n",
    "curr_pop = 10000\n",
    "\n",
    "for i in range(10,0,-1):\n",
    "    print(i,curr_pop)\n",
    "    curr_pop = curr_pop/1.1"
   ]
  },
  {
   "cell_type": "markdown",
   "id": "5a4d6557-43ef-4b74-9c86-bec393505cd0",
   "metadata": {},
   "source": [
    "## Sequence sum\n",
    "\n",
    "1/1! + 2/2! + 3/3! + ..."
   ]
  },
  {
   "cell_type": "code",
   "execution_count": 2,
   "id": "0400b6e9-a1c1-4118-b1f9-21348c9522dc",
   "metadata": {},
   "outputs": [
    {
     "name": "stdout",
     "output_type": "stream",
     "text": [
      "2.7180555555555554\n"
     ]
    }
   ],
   "source": [
    "# Code here\n",
    "\n",
    "n = int(input('Enter number'))\n",
    "\n",
    "result = 0\n",
    "fact = 1\n",
    "\n",
    "for i in range(1,n+1):\n",
    "    fact = fact * i\n",
    "    result = result + i/fact\n",
    "    \n",
    "print(result)"
   ]
  },
  {
   "cell_type": "markdown",
   "id": "aff75bab-9b17-412b-99a5-44346472b3ed",
   "metadata": {},
   "source": [
    "## Nested Loops"
   ]
  },
  {
   "cell_type": "code",
   "execution_count": 3,
   "id": "8a4b84f0-ff89-4163-baad-4f481ba9fbd1",
   "metadata": {},
   "outputs": [
    {
     "name": "stdout",
     "output_type": "stream",
     "text": [
      "1 1\n",
      "1 2\n",
      "1 3\n",
      "1 4\n",
      "2 1\n",
      "2 2\n",
      "2 3\n",
      "2 4\n",
      "3 1\n",
      "3 2\n",
      "3 3\n",
      "3 4\n",
      "4 1\n",
      "4 2\n",
      "4 3\n",
      "4 4\n"
     ]
    }
   ],
   "source": [
    "# Examples -> unique pairs\n",
    "\n",
    "for i in range(1,5):\n",
    "    for j in range(1,5):\n",
    "        print(i,j)"
   ]
  },
  {
   "cell_type": "markdown",
   "id": "a6e28858-2ba7-4957-8426-3ca7531baaf9",
   "metadata": {},
   "source": [
    "## Pattern 1\n",
    "\n",
    "\n",
    " ** <br>\n",
    " *** <br>\n",
    " **** <br>\n"
   ]
  },
  {
   "cell_type": "code",
   "execution_count": 4,
   "id": "bbee6e57-2d6a-4136-b886-8235adcd5fb4",
   "metadata": {},
   "outputs": [
    {
     "name": "stdout",
     "output_type": "stream",
     "text": [
      "1 *\n",
      "2 *\n",
      "3 *\n",
      "4 *\n",
      "5 *\n",
      "6 *\n",
      "7 *\n"
     ]
    }
   ],
   "source": [
    "# Code here\n",
    "rows = int(input(\"Enter number of rows\"))\n",
    "\n",
    "for i in range(1,rows+1):\n",
    "    print(i,'*')"
   ]
  },
  {
   "cell_type": "code",
   "execution_count": 6,
   "id": "fac940a5-4a3c-4adb-98f1-3b08c17cc0bb",
   "metadata": {},
   "outputs": [
    {
     "name": "stdout",
     "output_type": "stream",
     "text": [
      "* \n",
      "* * \n",
      "* * * \n",
      "* * * * \n",
      "* * * * * \n",
      "* * * * * * \n",
      "* * * * * * * \n"
     ]
    }
   ],
   "source": [
    "# Now handel actual problem\n",
    "\n",
    "rows = int(input('Enter number of rows'))\n",
    "\n",
    "for i in range(1,rows+1):\n",
    "    for j in range(1,i+1):\n",
    "        print('*',end=' ')       # end perameter to print in rows not line\n",
    "    print()                     # to print in sequence not all in one row"
   ]
  },
  {
   "cell_type": "markdown",
   "id": "e4cbfe12-eb05-4438-9aba-d7ba38a15fe1",
   "metadata": {},
   "source": [
    "## Pattern 2\n",
    "\n",
    "1<br>\n",
    "121<br>\n",
    "12321<br>\n",
    "1234321<br>"
   ]
  },
  {
   "cell_type": "code",
   "execution_count": 7,
   "id": "a24dc469-8f47-45e7-a6b8-75136ade6513",
   "metadata": {},
   "outputs": [
    {
     "name": "stdout",
     "output_type": "stream",
     "text": [
      "1 \n",
      "1 2 \n",
      "1 2 3 \n",
      "1 2 3 4 \n"
     ]
    }
   ],
   "source": [
    "# Code here\n",
    "# This is simple part of code\n",
    "\n",
    "rows = int(input(\"Enter the number of rows\"))\n",
    "\n",
    "for i in range(1,rows):\n",
    "    for j in range(1,i+1):\n",
    "        print(j,end=' ')\n",
    "    print()"
   ]
  },
  {
   "cell_type": "code",
   "execution_count": 9,
   "id": "afeb14aa-3cd3-417e-8c89-4df88d5ca13b",
   "metadata": {},
   "outputs": [
    {
     "name": "stdout",
     "output_type": "stream",
     "text": [
      "1 \n",
      "1 2 1 \n",
      "1 2 3 2 1 \n",
      "1 2 3 4 3 2 1 \n",
      "1 2 3 4 5 4 3 2 1 \n"
     ]
    }
   ],
   "source": [
    "# Move on to actual problem\n",
    "\n",
    "rows = int(input('Enter the number of rows'))\n",
    "\n",
    "for i in range(1,rows):\n",
    "    for j in range(1,i+1):\n",
    "        print(j,end=' ')\n",
    "    for k in range(i-1,0,-1):\n",
    "        print(k,end=' ')\n",
    "    print()"
   ]
  },
  {
   "cell_type": "markdown",
   "id": "e1f1e5df-5c13-47e0-9620-dd2e54595629",
   "metadata": {},
   "source": [
    "## Loop Control Statement\n",
    "\n",
    "- Break\n",
    "- Continue\n",
    "- Pass"
   ]
  },
  {
   "cell_type": "code",
   "execution_count": 11,
   "id": "92ac54e8-aabc-4a19-a345-fe2ae80e5fe5",
   "metadata": {},
   "outputs": [
    {
     "name": "stdout",
     "output_type": "stream",
     "text": [
      "it's a prime numbers 11\n",
      "it's a prime numbers 13\n",
      "it's a prime numbers 17\n",
      "it's a prime numbers 19\n",
      "it's a prime numbers 23\n",
      "it's a prime numbers 29\n",
      "it's a prime numbers 31\n",
      "it's a prime numbers 37\n",
      "it's a prime numbers 41\n",
      "it's a prime numbers 43\n",
      "it's a prime numbers 47\n"
     ]
    }
   ],
   "source": [
    "# How to use break statement\n",
    "\n",
    "lower = int(input('Enter lower range'))\n",
    "upper = int(input('Enter upper range'))\n",
    "\n",
    "for i in range(lower,upper+1):\n",
    "    for j in range(2,i):\n",
    "        if i%j == 0:\n",
    "            break\n",
    "    else:\n",
    "        print(\"it's a prime numbers\", i)"
   ]
  },
  {
   "cell_type": "code",
   "execution_count": 12,
   "id": "352461cb-af71-4d04-a254-89f41afcaf7a",
   "metadata": {},
   "outputs": [
    {
     "name": "stdout",
     "output_type": "stream",
     "text": [
      "1\n",
      "2\n",
      "3\n",
      "4\n",
      "Skipped 5\n",
      "6\n",
      "7\n",
      "8\n",
      "9\n"
     ]
    }
   ],
   "source": [
    "# Continue statement\n",
    "\n",
    "for i in range(1,10):\n",
    "    if i == 5:\n",
    "        print('Skipped 5')\n",
    "        continue\n",
    "    print(i)"
   ]
  },
  {
   "cell_type": "code",
   "execution_count": 13,
   "id": "9b863535-7c8c-4720-b2da-a496dadcdaf7",
   "metadata": {},
   "outputs": [],
   "source": [
    "# Pass to prevent error\n",
    "\n",
    "for i in range(1,11):\n",
    "    pass"
   ]
  },
  {
   "cell_type": "markdown",
   "id": "89417f9d-c8b0-4e8d-b139-3ff9ff572971",
   "metadata": {},
   "source": [
    "# New Topic String\n",
    "\n",
    "Strings are sequence of Characters\n",
    "\n",
    "In Python specifically, strings are a sequence of Unicode Characters\n",
    "\n",
    "- Creating Strings\n",
    "- Accessing Strings\n",
    "- Adding Chars to Strings\n",
    "- Editing Strings\n",
    "- Deleting Strings\n",
    "- Operations on Strings\n",
    "- String Functions"
   ]
  },
  {
   "cell_type": "markdown",
   "id": "ce30d3d5-2d21-4e77-a090-dcddd264c6c5",
   "metadata": {},
   "source": [
    "## Creating Stings"
   ]
  },
  {
   "cell_type": "code",
   "execution_count": 14,
   "id": "d62e3c3d-195b-4139-828f-8c2f5dee2c62",
   "metadata": {},
   "outputs": [
    {
     "name": "stdout",
     "output_type": "stream",
     "text": [
      "Hello\n"
     ]
    }
   ],
   "source": [
    "s = 'hello'\n",
    "s = \"Hello\"\n",
    "# tripple inverted comma for multi line string.\n",
    "s = '''hello'''\n",
    "s = \"\"\"Hello\"\"\"\n",
    "print(s)"
   ]
  },
  {
   "cell_type": "code",
   "execution_count": 15,
   "id": "ae52c7cc-fb71-40b1-8fbf-faad235bac24",
   "metadata": {},
   "outputs": [
    {
     "name": "stdout",
     "output_type": "stream",
     "text": [
      "HELLO\n",
      "<class 'str'>\n"
     ]
    }
   ],
   "source": [
    "# string also created with type convert function\n",
    "\n",
    "a = str ('HELLO')\n",
    "\n",
    "print(a)\n",
    "print(type(a))"
   ]
  },
  {
   "cell_type": "markdown",
   "id": "05bcc4ea-2324-4772-8a89-d9a922621bfa",
   "metadata": {},
   "source": [
    "## Accessing Substrings from a String"
   ]
  },
  {
   "cell_type": "code",
   "execution_count": 16,
   "id": "e74cc3e9-214f-4221-b6f7-4c86e7b592b3",
   "metadata": {},
   "outputs": [
    {
     "name": "stdout",
     "output_type": "stream",
     "text": [
      "w\n"
     ]
    }
   ],
   "source": [
    "# Positive Indexing meant left to right.\n",
    "\n",
    "a = 'hello world'\n",
    "print(a[6])"
   ]
  },
  {
   "cell_type": "code",
   "execution_count": 17,
   "id": "0e44088a-5cb4-4c41-bf34-5ba62c2a68e3",
   "metadata": {},
   "outputs": [
    {
     "name": "stdout",
     "output_type": "stream",
     "text": [
      "e\n"
     ]
    }
   ],
   "source": [
    "# Negative Indexing means right to left.\n",
    "\n",
    "a = 'hello world'\n",
    "print(a[-10])"
   ]
  },
  {
   "cell_type": "code",
   "execution_count": 18,
   "id": "c651c0aa-b55f-4f43-9431-d05b1618582e",
   "metadata": {},
   "outputs": [
    {
     "name": "stdout",
     "output_type": "stream",
     "text": [
      "hello\n"
     ]
    }
   ],
   "source": [
    "# Slicing\n",
    "\n",
    "a = 'hello world'\n",
    "print(a[0:5])"
   ]
  },
  {
   "cell_type": "code",
   "execution_count": 19,
   "id": "4c212c8e-aedb-4b8a-9343-7b9552ed684e",
   "metadata": {},
   "outputs": [
    {
     "name": "stdout",
     "output_type": "stream",
     "text": [
      "llo wo\n"
     ]
    }
   ],
   "source": [
    "a = 'hello world'\n",
    "print(a[2:8])"
   ]
  },
  {
   "cell_type": "code",
   "execution_count": 20,
   "id": "f0eca735-adfb-42b3-b7d7-3e102df959c2",
   "metadata": {},
   "outputs": [
    {
     "name": "stdout",
     "output_type": "stream",
     "text": [
      "hlowrd\n"
     ]
    }
   ],
   "source": [
    "a = 'hello world'\n",
    "print(a[0:11:2])\n"
   ]
  },
  {
   "cell_type": "code",
   "execution_count": 21,
   "id": "b4b2fee6-69eb-4e4c-b43d-3a9eaa0b4231",
   "metadata": {},
   "outputs": [
    {
     "name": "stdout",
     "output_type": "stream",
     "text": [
      "hello\n"
     ]
    }
   ],
   "source": [
    "a = 'hello world'\n",
    "print(a[:5])\n"
   ]
  },
  {
   "cell_type": "code",
   "execution_count": 22,
   "id": "b3bf00db-770f-4b06-9969-bcd829fd689b",
   "metadata": {},
   "outputs": [
    {
     "name": "stdout",
     "output_type": "stream",
     "text": [
      "hello world\n"
     ]
    }
   ],
   "source": [
    "a = 'hello world'\n",
    "print(a[:])"
   ]
  },
  {
   "cell_type": "code",
   "execution_count": 23,
   "id": "3d0ad1a8-bb9b-40ab-9bb3-f99b53eb7ab3",
   "metadata": {},
   "outputs": [
    {
     "name": "stdout",
     "output_type": "stream",
     "text": [
      "hlowrd\n"
     ]
    }
   ],
   "source": [
    "# here third position denote jumping.\n",
    "a = 'hello world'\n",
    "print(a[::2])"
   ]
  },
  {
   "cell_type": "code",
   "execution_count": 24,
   "id": "b4fa5198-1ca5-4f6f-9d11-160b42fdd9a0",
   "metadata": {},
   "outputs": [
    {
     "name": "stdout",
     "output_type": "stream",
     "text": [
      "hello world\n"
     ]
    }
   ],
   "source": [
    "# print entire string using this way\n",
    "print(a[::])"
   ]
  },
  {
   "cell_type": "code",
   "execution_count": 25,
   "id": "6a832c07-14b2-4166-8b2a-fbbc3a5ce49d",
   "metadata": {},
   "outputs": [
    {
     "name": "stdout",
     "output_type": "stream",
     "text": [
      "dlrow olleh\n"
     ]
    }
   ],
   "source": [
    "# print in reverse order\n",
    "print(a[::-1])"
   ]
  },
  {
   "cell_type": "code",
   "execution_count": 26,
   "id": "edf62ff5-d1ff-4dcf-8aba-4db3c330b500",
   "metadata": {},
   "outputs": [
    {
     "name": "stdout",
     "output_type": "stream",
     "text": [
      "world\n"
     ]
    }
   ],
   "source": [
    "# print world using negative indexing\n",
    "a = 'hello world'\n",
    "print(a[-5:])"
   ]
  },
  {
   "cell_type": "code",
   "execution_count": 27,
   "id": "2848c1e0-dc2b-4898-a4c3-7f3515c94137",
   "metadata": {},
   "outputs": [
    {
     "name": "stdout",
     "output_type": "stream",
     "text": [
      "dlrow\n"
     ]
    }
   ],
   "source": [
    "# print only world in reverse order.\n",
    "a = 'hello world'\n",
    "print(a[-1:-6:-1])"
   ]
  },
  {
   "cell_type": "code",
   "execution_count": 28,
   "id": "a9926e86-1ee9-434c-977f-f74d256bb04a",
   "metadata": {},
   "outputs": [
    {
     "name": "stdout",
     "output_type": "stream",
     "text": [
      "world\n"
     ]
    }
   ],
   "source": [
    "print(a[6:12])"
   ]
  },
  {
   "cell_type": "code",
   "execution_count": 29,
   "id": "e2b85bc5-16d3-41e2-b41e-de6fbdb3523c",
   "metadata": {},
   "outputs": [
    {
     "name": "stdout",
     "output_type": "stream",
     "text": [
      "drwolh\n"
     ]
    }
   ],
   "source": [
    "print(a[::-2])"
   ]
  },
  {
   "cell_type": "markdown",
   "id": "af29b619-43b2-4874-8f50-38d742cea34f",
   "metadata": {},
   "source": [
    "## Editing and Deleting in Strings"
   ]
  },
  {
   "cell_type": "code",
   "execution_count": 91,
   "id": "0f28806f-71a7-4df3-8687-af028bc3c9de",
   "metadata": {},
   "outputs": [
    {
     "ename": "TypeError",
     "evalue": "'str' object does not support item assignment",
     "output_type": "error",
     "traceback": [
      "\u001b[31m---------------------------------------------------------------------------\u001b[39m",
      "\u001b[31mTypeError\u001b[39m                                 Traceback (most recent call last)",
      "\u001b[36mCell\u001b[39m\u001b[36m \u001b[39m\u001b[32mIn[91]\u001b[39m\u001b[32m, line 4\u001b[39m\n\u001b[32m      1\u001b[39m \u001b[38;5;66;03m# Python string are immutable so we can't change it if you try face this error.\u001b[39;00m\n\u001b[32m      3\u001b[39m a = \u001b[33m'\u001b[39m\u001b[33mhello world\u001b[39m\u001b[33m'\u001b[39m\n\u001b[32m----> \u001b[39m\u001b[32m4\u001b[39m a [\u001b[32m0\u001b[39m] = \u001b[33m'\u001b[39m\u001b[33mH\u001b[39m\u001b[33m'\u001b[39m\n\u001b[32m      5\u001b[39m \u001b[38;5;28mprint\u001b[39m(a)\n",
      "\u001b[31mTypeError\u001b[39m: 'str' object does not support item assignment"
     ]
    }
   ],
   "source": [
    "# Python string are immutable so we can't change it if you try face this error.\n",
    "\n",
    "a = 'hello world'\n",
    "a [0] = 'H'\n",
    "print(a)"
   ]
  },
  {
   "cell_type": "code",
   "execution_count": 31,
   "id": "c67c531c-8fa5-459d-9519-1688ab3fb497",
   "metadata": {},
   "outputs": [],
   "source": [
    "# if you want to delete the entire string use this function\n",
    "\n",
    "a = 'hello world'\n",
    "\n",
    "del a"
   ]
  },
  {
   "cell_type": "code",
   "execution_count": 32,
   "id": "1157e045-4357-4f6c-8f53-72c6f1d33e48",
   "metadata": {},
   "outputs": [
    {
     "ename": "TypeError",
     "evalue": "'str' object does not support item deletion",
     "output_type": "error",
     "traceback": [
      "\u001b[31m---------------------------------------------------------------------------\u001b[39m",
      "\u001b[31mTypeError\u001b[39m                                 Traceback (most recent call last)",
      "\u001b[36mCell\u001b[39m\u001b[36m \u001b[39m\u001b[32mIn[32]\u001b[39m\u001b[32m, line 3\u001b[39m\n\u001b[32m      1\u001b[39m \u001b[38;5;66;03m# be careful because string are immutable you can't delete any portoin\u001b[39;00m\n\u001b[32m      2\u001b[39m a = \u001b[33m'\u001b[39m\u001b[33mhello world\u001b[39m\u001b[33m'\u001b[39m\n\u001b[32m----> \u001b[39m\u001b[32m3\u001b[39m \u001b[38;5;28;01mdel\u001b[39;00m(a[-\u001b[32m5\u001b[39m:-\u001b[32m1\u001b[39m:\u001b[32m2\u001b[39m])\n",
      "\u001b[31mTypeError\u001b[39m: 'str' object does not support item deletion"
     ]
    }
   ],
   "source": [
    "# be careful because string are immutable you can't delete any portoin\n",
    "a = 'hello world'\n",
    "del(a[-5:-1:2])"
   ]
  },
  {
   "cell_type": "markdown",
   "id": "9826506d-bd76-46ec-84e5-a37570bcc5ad",
   "metadata": {},
   "source": [
    "## Operations on Strings\n",
    "\n",
    "- Arithmetic Operations\n",
    "- Relational Operations\n",
    "- Logical Operations\n",
    "- Loops on Strings\n",
    "- Membership Operations"
   ]
  },
  {
   "cell_type": "code",
   "execution_count": 33,
   "id": "38b5cc42-1ec3-49e7-8e4b-ba4e9c6a1eba",
   "metadata": {},
   "outputs": [
    {
     "name": "stdout",
     "output_type": "stream",
     "text": [
      "Nawabshah Lahore\n"
     ]
    }
   ],
   "source": [
    "# Arithmetic Operation Plus\n",
    "print('Nawabshah'+ ' ' +'Lahore')"
   ]
  },
  {
   "cell_type": "code",
   "execution_count": 34,
   "id": "430b3a83-dfdf-4705-bd35-b8b52d44c32b",
   "metadata": {},
   "outputs": [
    {
     "name": "stdout",
     "output_type": "stream",
     "text": [
      "NawabshahNawabshahNawabshahNawabshahNawabshah\n"
     ]
    }
   ],
   "source": [
    "# Arithmetic Operation Multiplication\n",
    "print('Nawabshah'*5)"
   ]
  },
  {
   "cell_type": "code",
   "execution_count": 35,
   "id": "b7ae4d80-5e37-4e61-8d78-41e39a0ad602",
   "metadata": {},
   "outputs": [
    {
     "name": "stdout",
     "output_type": "stream",
     "text": [
      "**********************************************************************\n"
     ]
    }
   ],
   "source": [
    "# Not work an other Arithmetic operations \n",
    "print('*'*70)"
   ]
  },
  {
   "cell_type": "code",
   "execution_count": 36,
   "id": "50c9f613-6150-4b7e-a0f3-ad0aa3219222",
   "metadata": {},
   "outputs": [
    {
     "ename": "TypeError",
     "evalue": "not all arguments converted during string formatting",
     "output_type": "error",
     "traceback": [
      "\u001b[31m---------------------------------------------------------------------------\u001b[39m",
      "\u001b[31mTypeError\u001b[39m                                 Traceback (most recent call last)",
      "\u001b[36mCell\u001b[39m\u001b[36m \u001b[39m\u001b[32mIn[36]\u001b[39m\u001b[32m, line 1\u001b[39m\n\u001b[32m----> \u001b[39m\u001b[32m1\u001b[39m \u001b[38;5;28mprint\u001b[39m(\u001b[33m'\u001b[39m\u001b[33mNawabshah\u001b[39m\u001b[33m'\u001b[39m%\u001b[32m8\u001b[39m)\n",
      "\u001b[31mTypeError\u001b[39m: not all arguments converted during string formatting"
     ]
    }
   ],
   "source": [
    "print('Nawabshah'%8)"
   ]
  },
  {
   "cell_type": "code",
   "execution_count": 37,
   "id": "eeaab045-65ba-4102-a06d-b9f093b93ef1",
   "metadata": {},
   "outputs": [
    {
     "data": {
      "text/plain": [
       "True"
      ]
     },
     "execution_count": 37,
     "metadata": {},
     "output_type": "execute_result"
    }
   ],
   "source": [
    "# Relational Operations\n",
    "'nawabshah' > 'lahore'"
   ]
  },
  {
   "cell_type": "code",
   "execution_count": 38,
   "id": "d62c5af7-9af3-40f4-b33b-201b06a80776",
   "metadata": {},
   "outputs": [
    {
     "data": {
      "text/plain": [
       "False"
      ]
     },
     "execution_count": 38,
     "metadata": {},
     "output_type": "execute_result"
    }
   ],
   "source": [
    "# Here used \"lexiographically\" technick meant measure Ascii value of words and remember point each second word are\n",
    "# big from first means 'b' is graterthan 'a' also small a grather than capital A.\n",
    "\n",
    "'Karachi' > 'karachi'\n",
    "\n",
    "'lahore' > 'nawabshah'\n"
   ]
  },
  {
   "cell_type": "code",
   "execution_count": 39,
   "id": "cb13da99-1df7-48d2-8a97-c59c56042b4b",
   "metadata": {},
   "outputs": [
    {
     "data": {
      "text/plain": [
       "'world'"
      ]
     },
     "execution_count": 39,
     "metadata": {},
     "output_type": "execute_result"
    }
   ],
   "source": [
    "# Logical Operations\n",
    "# Remember in logical operations Python behave viered\n",
    "\n",
    "'hello' and 'world'"
   ]
  },
  {
   "cell_type": "code",
   "execution_count": 40,
   "id": "f28d9551-0287-470a-9498-6c5b1e601fae",
   "metadata": {},
   "outputs": [
    {
     "data": {
      "text/plain": [
       "'hello'"
      ]
     },
     "execution_count": 40,
     "metadata": {},
     "output_type": "execute_result"
    }
   ],
   "source": [
    "'hello' or 'world'"
   ]
  },
  {
   "cell_type": "code",
   "execution_count": 41,
   "id": "59ba0cf2-ec78-4317-a28d-c56885d85b65",
   "metadata": {},
   "outputs": [
    {
     "data": {
      "text/plain": [
       "''"
      ]
     },
     "execution_count": 41,
     "metadata": {},
     "output_type": "execute_result"
    }
   ],
   "source": [
    "# here understand the concept when string are empty python us ko false samjhta hy\n",
    "# and agar string empty na ho to python us ko true samjhta hy.\n",
    "\n",
    "# in summary if any character are availabe in string that is true other wise empty string is false.\n",
    "\n",
    "'' and 'world'"
   ]
  },
  {
   "cell_type": "code",
   "execution_count": 42,
   "id": "b5300859-37b4-4120-be80-c049e81b3c16",
   "metadata": {},
   "outputs": [
    {
     "data": {
      "text/plain": [
       "'world'"
      ]
     },
     "execution_count": 42,
     "metadata": {},
     "output_type": "execute_result"
    }
   ],
   "source": [
    "'' or 'world'"
   ]
  },
  {
   "cell_type": "code",
   "execution_count": 43,
   "id": "f151a0c4-ad8b-4cd0-bd6b-4fc5e37d5f15",
   "metadata": {},
   "outputs": [
    {
     "data": {
      "text/plain": [
       "False"
      ]
     },
     "execution_count": 43,
     "metadata": {},
     "output_type": "execute_result"
    }
   ],
   "source": [
    "not 'hello'"
   ]
  },
  {
   "cell_type": "code",
   "execution_count": 44,
   "id": "6a538dc7-5371-4d8d-93b1-0382763ce65c",
   "metadata": {},
   "outputs": [
    {
     "data": {
      "text/plain": [
       "True"
      ]
     },
     "execution_count": 44,
     "metadata": {},
     "output_type": "execute_result"
    }
   ],
   "source": [
    "not ''"
   ]
  },
  {
   "cell_type": "code",
   "execution_count": 45,
   "id": "c80077eb-c183-46b1-962f-89082c0d5bd7",
   "metadata": {},
   "outputs": [
    {
     "name": "stdout",
     "output_type": "stream",
     "text": [
      "N\n",
      "a\n",
      "w\n",
      "a\n",
      "b\n",
      "s\n",
      "h\n",
      "a\n",
      "h\n"
     ]
    }
   ],
   "source": [
    "# Loops on Strings\n",
    "\n",
    "for i in 'Nawabshah':\n",
    "    print(i)"
   ]
  },
  {
   "cell_type": "code",
   "execution_count": 46,
   "id": "ce111c39-86dd-4539-bb9c-f9b342a8eafa",
   "metadata": {},
   "outputs": [
    {
     "name": "stdout",
     "output_type": "stream",
     "text": [
      "Lahore\n",
      "Lahore\n",
      "Lahore\n",
      "Lahore\n",
      "Lahore\n",
      "Lahore\n",
      "Lahore\n",
      "Lahore\n",
      "Lahore\n"
     ]
    }
   ],
   "source": [
    "for i in 'nawabshah':\n",
    "    print('Lahore')"
   ]
  },
  {
   "cell_type": "code",
   "execution_count": 47,
   "id": "f5e9d116-8019-413e-a6e1-1e90331cb85a",
   "metadata": {},
   "outputs": [
    {
     "data": {
      "text/plain": [
       "True"
      ]
     },
     "execution_count": 47,
     "metadata": {},
     "output_type": "execute_result"
    }
   ],
   "source": [
    "# Membership Operations\n",
    "\n",
    "'N' in 'Nawabshah'"
   ]
  },
  {
   "cell_type": "code",
   "execution_count": 48,
   "id": "7743c120-7061-420e-b925-57a40c3f2a9c",
   "metadata": {},
   "outputs": [
    {
     "data": {
      "text/plain": [
       "True"
      ]
     },
     "execution_count": 48,
     "metadata": {},
     "output_type": "execute_result"
    }
   ],
   "source": [
    "# it's case sencitive\n",
    "\n",
    "'l' not in 'Lahore'"
   ]
  },
  {
   "cell_type": "markdown",
   "id": "be7f0eb0-621d-4de5-9252-53563013476c",
   "metadata": {},
   "source": [
    "## Common Functions They are applied each every data type like string, tupple, list, dictionary, etc.\n",
    "\n",
    "- len\n",
    "- max\n",
    "- min\n",
    "- sorted"
   ]
  },
  {
   "cell_type": "code",
   "execution_count": 49,
   "id": "80125542-e1a4-49fa-b404-f95b01ea505e",
   "metadata": {},
   "outputs": [
    {
     "data": {
      "text/plain": [
       "11"
      ]
     },
     "execution_count": 49,
     "metadata": {},
     "output_type": "execute_result"
    }
   ],
   "source": [
    "len('hello world')"
   ]
  },
  {
   "cell_type": "code",
   "execution_count": 50,
   "id": "96c8f9c1-f3bb-41a9-8cb2-017c796e9039",
   "metadata": {},
   "outputs": [
    {
     "data": {
      "text/plain": [
       "'w'"
      ]
     },
     "execution_count": 50,
     "metadata": {},
     "output_type": "execute_result"
    }
   ],
   "source": [
    "# find max value behalf Ascii value\n",
    "\n",
    "max('hello world')"
   ]
  },
  {
   "cell_type": "code",
   "execution_count": 51,
   "id": "015a859d-cdf4-472d-88b1-3e988646c588",
   "metadata": {},
   "outputs": [
    {
     "data": {
      "text/plain": [
       "' '"
      ]
     },
     "execution_count": 51,
     "metadata": {},
     "output_type": "execute_result"
    }
   ],
   "source": [
    "min('hello world')"
   ]
  },
  {
   "cell_type": "code",
   "execution_count": 52,
   "id": "4357b892-e01a-41f0-b23f-4bf79914fb27",
   "metadata": {},
   "outputs": [
    {
     "data": {
      "text/plain": [
       "[' ', 'd', 'e', 'h', 'l', 'l', 'l', 'o', 'o', 'r', 'w']"
      ]
     },
     "execution_count": 52,
     "metadata": {},
     "output_type": "execute_result"
    }
   ],
   "source": [
    "# sort the string in assigneding order but in list format.\n",
    "\n",
    "sorted('hello world')"
   ]
  },
  {
   "cell_type": "code",
   "execution_count": 53,
   "id": "d7de986a-d5ba-4944-a90f-a5c50afd2058",
   "metadata": {},
   "outputs": [
    {
     "data": {
      "text/plain": [
       "['w', 'r', 'o', 'o', 'l', 'l', 'l', 'h', 'e', 'd', ' ']"
      ]
     },
     "execution_count": 53,
     "metadata": {},
     "output_type": "execute_result"
    }
   ],
   "source": [
    "# sort the string in dessigneding order using \"reverse=True\" hidden perameter.\n",
    "\n",
    "sorted('hello world',reverse=True)"
   ]
  },
  {
   "cell_type": "markdown",
   "id": "62a54790-70e4-44ac-8cec-6727ea9ed4ed",
   "metadata": {},
   "source": [
    "## Capitalize/Title/Upper/Lower/Swapcase. These functions Applied at string only."
   ]
  },
  {
   "cell_type": "code",
   "execution_count": 54,
   "id": "52d80cfb-ae91-481e-8dfd-808db5445c3b",
   "metadata": {},
   "outputs": [
    {
     "data": {
      "text/plain": [
       "'Hello world'"
      ]
     },
     "execution_count": 54,
     "metadata": {},
     "output_type": "execute_result"
    }
   ],
   "source": [
    "# first word should be capital of the string only.\n",
    "\n",
    "a = 'hello world'\n",
    "\n",
    "a.capitalize()"
   ]
  },
  {
   "cell_type": "code",
   "execution_count": 55,
   "id": "659ea7f6-fad1-4485-b690-81f53b643f48",
   "metadata": {},
   "outputs": [
    {
     "data": {
      "text/plain": [
       "'Hello World'"
      ]
     },
     "execution_count": 55,
     "metadata": {},
     "output_type": "execute_result"
    }
   ],
   "source": [
    "# Each word's/Sentencies first character should be capital.\n",
    "a.title()"
   ]
  },
  {
   "cell_type": "code",
   "execution_count": 56,
   "id": "e36ef5b0-ad17-4ab5-99c1-36e6c774b13f",
   "metadata": {},
   "outputs": [
    {
     "data": {
      "text/plain": [
       "'HELLO WORLD'"
      ]
     },
     "execution_count": 56,
     "metadata": {},
     "output_type": "execute_result"
    }
   ],
   "source": [
    "a.upper()"
   ]
  },
  {
   "cell_type": "code",
   "execution_count": 57,
   "id": "ff203518-0ccd-4484-89d3-22e17bea243b",
   "metadata": {},
   "outputs": [
    {
     "data": {
      "text/plain": [
       "'hello world'"
      ]
     },
     "execution_count": 57,
     "metadata": {},
     "output_type": "execute_result"
    }
   ],
   "source": [
    "'HELLO WORLD'.lower()"
   ]
  },
  {
   "cell_type": "code",
   "execution_count": 58,
   "id": "1aa10587-6957-42d8-b899-d70d45840c70",
   "metadata": {},
   "outputs": [
    {
     "data": {
      "text/plain": [
       "'hELlO wOrLd'"
      ]
     },
     "execution_count": 58,
     "metadata": {},
     "output_type": "execute_result"
    }
   ],
   "source": [
    "# Swapcase function swapping the words meant convert lower to upper and upper to lower.\n",
    "\n",
    "a = 'HelLo WoRlD'\n",
    "a.swapcase()"
   ]
  },
  {
   "cell_type": "markdown",
   "id": "ab035af3-254c-410d-898a-49ad3a5f3ab8",
   "metadata": {},
   "source": [
    "## Count/Find/Index"
   ]
  },
  {
   "cell_type": "code",
   "execution_count": 59,
   "id": "9c477ac9-4054-43a2-ad62-39cec7aa65b2",
   "metadata": {},
   "outputs": [
    {
     "data": {
      "text/plain": [
       "5"
      ]
     },
     "execution_count": 59,
     "metadata": {},
     "output_type": "execute_result"
    }
   ],
   "source": [
    "# Count function count the word how many times occurred in given string like 'm' in below string.\n",
    "\n",
    "'my name is Ghulam Muhammad'.count('m')"
   ]
  },
  {
   "cell_type": "code",
   "execution_count": 60,
   "id": "bb992c88-700b-444b-8b3b-e44398697fc5",
   "metadata": {},
   "outputs": [
    {
     "data": {
      "text/plain": [
       "18"
      ]
     },
     "execution_count": 60,
     "metadata": {},
     "output_type": "execute_result"
    }
   ],
   "source": [
    "# Find function tell us any character's index position.\n",
    "\n",
    "'my name is Ghulam Muhammad'.find('M')"
   ]
  },
  {
   "cell_type": "code",
   "execution_count": 61,
   "id": "dfa6bc75-6d9f-4f2f-ade8-c99450ff77bd",
   "metadata": {},
   "outputs": [
    {
     "data": {
      "text/plain": [
       "-1"
      ]
     },
     "execution_count": 61,
     "metadata": {},
     "output_type": "execute_result"
    }
   ],
   "source": [
    "# But if you ask about irrelative character that find answer with '-1' means I don't know where is \"b\".\n",
    "\n",
    "'my name is Ghulam Muhammad'.find('b')"
   ]
  },
  {
   "cell_type": "code",
   "execution_count": 62,
   "id": "45d13509-e5de-4287-8cda-9e990b16ee1a",
   "metadata": {},
   "outputs": [
    {
     "data": {
      "text/plain": [
       "8"
      ]
     },
     "execution_count": 62,
     "metadata": {},
     "output_type": "execute_result"
    }
   ],
   "source": [
    "# Index function\n",
    "\n",
    "'my name is Ghulam Muhammad'.index('i')"
   ]
  },
  {
   "cell_type": "code",
   "execution_count": 63,
   "id": "fd7e9266-04d1-4cd0-8cea-c6b5d990b304",
   "metadata": {},
   "outputs": [
    {
     "ename": "ValueError",
     "evalue": "substring not found",
     "output_type": "error",
     "traceback": [
      "\u001b[31m---------------------------------------------------------------------------\u001b[39m",
      "\u001b[31mValueError\u001b[39m                                Traceback (most recent call last)",
      "\u001b[36mCell\u001b[39m\u001b[36m \u001b[39m\u001b[32mIn[63]\u001b[39m\u001b[32m, line 3\u001b[39m\n\u001b[32m      1\u001b[39m \u001b[38;5;66;03m# Index function\u001b[39;00m\n\u001b[32m----> \u001b[39m\u001b[32m3\u001b[39m \u001b[33m'\u001b[39m\u001b[33mmy name is Ghulam Muhammad\u001b[39m\u001b[33m'\u001b[39m.index(\u001b[33m'\u001b[39m\u001b[33mx\u001b[39m\u001b[33m'\u001b[39m)\n",
      "\u001b[31mValueError\u001b[39m: substring not found"
     ]
    }
   ],
   "source": [
    "# Index function\n",
    "\n",
    "'my name is Ghulam Muhammad'.index('x')"
   ]
  },
  {
   "cell_type": "markdown",
   "id": "dd25b823-4530-4d04-95e7-99ea06e15573",
   "metadata": {},
   "source": [
    "## endswith/startswith"
   ]
  },
  {
   "cell_type": "code",
   "execution_count": 64,
   "id": "4ef69ac2-1d83-43ff-ae2a-9b8101910585",
   "metadata": {},
   "outputs": [
    {
     "data": {
      "text/plain": [
       "True"
      ]
     },
     "execution_count": 64,
     "metadata": {},
     "output_type": "execute_result"
    }
   ],
   "source": [
    "# Endswith function tell us last character is present or not.\n",
    "\n",
    "'my name is Ghulam Muhammad'.endswith('d')"
   ]
  },
  {
   "cell_type": "code",
   "execution_count": 65,
   "id": "338915fe-299b-4b96-b308-1cc9a034d328",
   "metadata": {},
   "outputs": [
    {
     "data": {
      "text/plain": [
       "False"
      ]
     },
     "execution_count": 65,
     "metadata": {},
     "output_type": "execute_result"
    }
   ],
   "source": [
    "'my name is Ghulam Muhammad'.endswith('da')"
   ]
  },
  {
   "cell_type": "code",
   "execution_count": 66,
   "id": "f5449fdc-0c5d-4cd1-b168-dc9a3c296b0e",
   "metadata": {},
   "outputs": [
    {
     "data": {
      "text/plain": [
       "True"
      ]
     },
     "execution_count": 66,
     "metadata": {},
     "output_type": "execute_result"
    }
   ],
   "source": [
    "'my name is Ghulam Muhammad'.startswith('m')"
   ]
  },
  {
   "cell_type": "code",
   "execution_count": 67,
   "id": "81f4a35a-4b87-4f3b-b5fa-cb901012a0fc",
   "metadata": {},
   "outputs": [
    {
     "data": {
      "text/plain": [
       "False"
      ]
     },
     "execution_count": 67,
     "metadata": {},
     "output_type": "execute_result"
    }
   ],
   "source": [
    "'my name is Ghulam Muhammad'.endswith('x')"
   ]
  },
  {
   "cell_type": "markdown",
   "id": "109226f9-40dd-48c4-8ec5-9da46378ec5f",
   "metadata": {},
   "source": [
    "## format function"
   ]
  },
  {
   "cell_type": "code",
   "execution_count": 68,
   "id": "a72ea96f-5e2b-4095-83e8-b1491486e97d",
   "metadata": {},
   "outputs": [
    {
     "data": {
      "text/plain": [
       "'Hi my name is Ghulam Muhammad and I am a male'"
      ]
     },
     "execution_count": 68,
     "metadata": {},
     "output_type": "execute_result"
    }
   ],
   "source": [
    "name = 'Ghulam Muhammad'\n",
    "gender = 'male'\n",
    "\n",
    "'Hi my name is {} and I am a {}'.format(name,gender)"
   ]
  },
  {
   "cell_type": "code",
   "execution_count": 69,
   "id": "d45865a4-6657-4b3f-be20-997bacffa625",
   "metadata": {},
   "outputs": [
    {
     "data": {
      "text/plain": [
       "'Hi my name is male and I am a Ghulam Muhammad'"
      ]
     },
     "execution_count": 69,
     "metadata": {},
     "output_type": "execute_result"
    }
   ],
   "source": [
    "# Order matter.\n",
    "\n",
    "name = 'Ghulam Muhammad'\n",
    "gender = 'male'\n",
    "\n",
    "'Hi my name is {} and I am a {}'.format(gender,name)"
   ]
  },
  {
   "cell_type": "code",
   "execution_count": 70,
   "id": "1b375ad4-5bdf-4c8b-a621-baafb0074f18",
   "metadata": {},
   "outputs": [
    {
     "data": {
      "text/plain": [
       "'Hi my name is Ghulam Muhammad and I am a male'"
      ]
     },
     "execution_count": 70,
     "metadata": {},
     "output_type": "execute_result"
    }
   ],
   "source": [
    "name = 'Ghulam Muhammad'\n",
    "gender = 'male'\n",
    "\n",
    "'Hi my name is {1} and I am a {0}'.format(gender,name)"
   ]
  },
  {
   "cell_type": "markdown",
   "id": "f8afd415-e2e2-43ca-ba3b-7a237bc62c36",
   "metadata": {},
   "source": [
    "## isalnum/ isalpha/ isdigit/ isidentifier"
   ]
  },
  {
   "cell_type": "code",
   "execution_count": 71,
   "id": "97e4b652-738c-4f55-8b00-7c62568236d1",
   "metadata": {},
   "outputs": [
    {
     "data": {
      "text/plain": [
       "True"
      ]
     },
     "execution_count": 71,
     "metadata": {},
     "output_type": "execute_result"
    }
   ],
   "source": [
    "# isalnum\n",
    "\n",
    "'abid'.isalnum()"
   ]
  },
  {
   "cell_type": "code",
   "execution_count": 72,
   "id": "1d4651b7-6b7f-4400-8e85-5d64e5d7f146",
   "metadata": {},
   "outputs": [
    {
     "data": {
      "text/plain": [
       "True"
      ]
     },
     "execution_count": 72,
     "metadata": {},
     "output_type": "execute_result"
    }
   ],
   "source": [
    "# isalnum\n",
    "\n",
    "'abid12345'.isalnum()"
   ]
  },
  {
   "cell_type": "code",
   "execution_count": 73,
   "id": "f891edd4-6ef0-4ca1-9d22-a6c12b76f9cb",
   "metadata": {},
   "outputs": [
    {
     "data": {
      "text/plain": [
       "True"
      ]
     },
     "execution_count": 73,
     "metadata": {},
     "output_type": "execute_result"
    }
   ],
   "source": [
    "# isalpha\n",
    "\n",
    "'Abid'.isalpha()"
   ]
  },
  {
   "cell_type": "code",
   "execution_count": 74,
   "id": "d0e189c9-dea6-4fd0-8678-eabaa4bd4a78",
   "metadata": {},
   "outputs": [
    {
     "data": {
      "text/plain": [
       "False"
      ]
     },
     "execution_count": 74,
     "metadata": {},
     "output_type": "execute_result"
    }
   ],
   "source": [
    "#isalpha\n",
    "\n",
    "'Abid123'.isalpha()"
   ]
  },
  {
   "cell_type": "code",
   "execution_count": 75,
   "id": "7ef22655-4d5d-4190-8396-90ad410c3a2d",
   "metadata": {},
   "outputs": [
    {
     "data": {
      "text/plain": [
       "True"
      ]
     },
     "execution_count": 75,
     "metadata": {},
     "output_type": "execute_result"
    }
   ],
   "source": [
    "# isdigit\n",
    "\n",
    "'12345'.isdigit()"
   ]
  },
  {
   "cell_type": "code",
   "execution_count": 76,
   "id": "964c092a-7e78-48e1-a7f6-1003f45dd589",
   "metadata": {},
   "outputs": [
    {
     "data": {
      "text/plain": [
       "False"
      ]
     },
     "execution_count": 76,
     "metadata": {},
     "output_type": "execute_result"
    }
   ],
   "source": [
    "# isdigit\n",
    "\n",
    "'12345dc'.isdigit()"
   ]
  },
  {
   "cell_type": "code",
   "execution_count": 77,
   "id": "4cccc820-c5ac-4ec5-846f-0afd783e0cbf",
   "metadata": {},
   "outputs": [
    {
     "data": {
      "text/plain": [
       "True"
      ]
     },
     "execution_count": 77,
     "metadata": {},
     "output_type": "execute_result"
    }
   ],
   "source": [
    "# isidentifier\n",
    "\n",
    "'name1'.isidentifier()"
   ]
  },
  {
   "cell_type": "code",
   "execution_count": 78,
   "id": "4361e152-6ead-4034-b179-28813c0f4932",
   "metadata": {},
   "outputs": [
    {
     "data": {
      "text/plain": [
       "False"
      ]
     },
     "execution_count": 78,
     "metadata": {},
     "output_type": "execute_result"
    }
   ],
   "source": [
    "# isidentifier\n",
    "\n",
    "'1name'.isidentifier()"
   ]
  },
  {
   "cell_type": "code",
   "execution_count": 79,
   "id": "9415f7a2-8ac0-4149-a486-755dee4fbb0a",
   "metadata": {},
   "outputs": [
    {
     "data": {
      "text/plain": [
       "True"
      ]
     },
     "execution_count": 79,
     "metadata": {},
     "output_type": "execute_result"
    }
   ],
   "source": [
    "# isidentifier\n",
    "\n",
    "'first_name'.isidentifier()"
   ]
  },
  {
   "cell_type": "code",
   "execution_count": 80,
   "id": "4c6972d3-2440-44ef-aec6-30e315477b9e",
   "metadata": {},
   "outputs": [
    {
     "data": {
      "text/plain": [
       "False"
      ]
     },
     "execution_count": 80,
     "metadata": {},
     "output_type": "execute_result"
    }
   ],
   "source": [
    "# isidentifier\n",
    "\n",
    "'first-name'.isidentifier()"
   ]
  },
  {
   "cell_type": "markdown",
   "id": "a6fc15f3-bb6e-4573-85d7-ed9d5c604dd6",
   "metadata": {},
   "source": [
    "## Split/Join"
   ]
  },
  {
   "cell_type": "code",
   "execution_count": 81,
   "id": "93cb88d7-68a4-42b5-91b7-4b5e39000d0f",
   "metadata": {},
   "outputs": [
    {
     "data": {
      "text/plain": [
       "['hi', 'my', 'name', 'is', 'Ghulam', 'Muhammad']"
      ]
     },
     "execution_count": 81,
     "metadata": {},
     "output_type": "execute_result"
    }
   ],
   "source": [
    "# Split function by default split the string at space and return a list.\n",
    "\n",
    "'hi my name is Ghulam Muhammad'.split()"
   ]
  },
  {
   "cell_type": "code",
   "execution_count": 82,
   "id": "a0d1ed61-f39d-46e4-84ab-bbe9d70335a6",
   "metadata": {},
   "outputs": [
    {
     "data": {
      "text/plain": [
       "['hi ', 'y na', 'e is Ghula', ' Muha', '', 'ad']"
      ]
     },
     "execution_count": 82,
     "metadata": {},
     "output_type": "execute_result"
    }
   ],
   "source": [
    "# if you want to split the string any special character insted of space you can define it like m\n",
    "# here I want to split my string at any 'm' character not space.\n",
    "\n",
    "'hi my name is Ghulam Muhammad'.split('m')"
   ]
  },
  {
   "cell_type": "code",
   "execution_count": 83,
   "id": "8a7a4a33-7f20-438e-abc9-c55a9ed744ce",
   "metadata": {},
   "outputs": [
    {
     "data": {
      "text/plain": [
       "['hi my name is Ghulam ', 'uhammad']"
      ]
     },
     "execution_count": 83,
     "metadata": {},
     "output_type": "execute_result"
    }
   ],
   "source": [
    "'hi my name is Ghulam Muhammad'.split('M')"
   ]
  },
  {
   "cell_type": "code",
   "execution_count": 84,
   "id": "1355363d-97cd-4d94-bafb-db9af974c4a3",
   "metadata": {},
   "outputs": [
    {
     "data": {
      "text/plain": [
       "['hi my name is ', 'hulam Muhammad']"
      ]
     },
     "execution_count": 84,
     "metadata": {},
     "output_type": "execute_result"
    }
   ],
   "source": [
    "'hi my name is Ghulam Muhammad'.split('G')"
   ]
  },
  {
   "cell_type": "code",
   "execution_count": 85,
   "id": "ac01ff40-7330-41ca-9c2a-ac8128f6f7dd",
   "metadata": {},
   "outputs": [
    {
     "data": {
      "text/plain": [
       "'hi my name is Ghulam Muhammad'"
      ]
     },
     "execution_count": 85,
     "metadata": {},
     "output_type": "execute_result"
    }
   ],
   "source": [
    "# join function just reversed of split.\n",
    "\n",
    "\" \".join(['hi', 'my', 'name', 'is', 'Ghulam', 'Muhammad'])"
   ]
  },
  {
   "cell_type": "code",
   "execution_count": 86,
   "id": "e156a191-40c8-4040-bb9c-d00d826d4ded",
   "metadata": {},
   "outputs": [
    {
     "data": {
      "text/plain": [
       "'hi 🔅 my 🔅 name 🔅 is 🔅 Ghulam 🔅 Muhammad'"
      ]
     },
     "execution_count": 86,
     "metadata": {},
     "output_type": "execute_result"
    }
   ],
   "source": [
    "# join function just reversed of split.\n",
    "\n",
    "\" 🔅 \".join(['hi', 'my', 'name', 'is', 'Ghulam', 'Muhammad'])"
   ]
  },
  {
   "cell_type": "code",
   "execution_count": 87,
   "id": "8cb0e36a-905d-4e83-aca7-7e2874500bda",
   "metadata": {},
   "outputs": [
    {
     "data": {
      "text/plain": [
       "'hi my name is  hulam Muhammad'"
      ]
     },
     "execution_count": 87,
     "metadata": {},
     "output_type": "execute_result"
    }
   ],
   "source": [
    "\" \".join(['hi my name is ', 'hulam Muhammad'])"
   ]
  },
  {
   "cell_type": "code",
   "execution_count": 88,
   "id": "32d1fa28-c6e0-40c6-aa42-a84aa5435b69",
   "metadata": {},
   "outputs": [
    {
     "data": {
      "text/plain": [
       "'hi my name is hulam Muhammad'"
      ]
     },
     "execution_count": 88,
     "metadata": {},
     "output_type": "execute_result"
    }
   ],
   "source": [
    "\"\".join(['hi my name is ', 'hulam Muhammad'])"
   ]
  },
  {
   "cell_type": "markdown",
   "id": "d17b00c0-aa74-472d-bd8d-7f654c9bdbce",
   "metadata": {},
   "source": [
    "## Replace"
   ]
  },
  {
   "cell_type": "code",
   "execution_count": 89,
   "id": "783e8a79-9df8-490e-aeb5-4786d581e66f",
   "metadata": {},
   "outputs": [
    {
     "data": {
      "text/plain": [
       "'hi my name is Abid Muhammad'"
      ]
     },
     "execution_count": 89,
     "metadata": {},
     "output_type": "execute_result"
    }
   ],
   "source": [
    "# replace function replace the given part but remember \"String are immutable data sate\" so actually here python create\n",
    "# a new string not chage existing string.\n",
    "\n",
    "'hi my name is Ghulam Muhammad'.replace('Ghulam','Abid')"
   ]
  },
  {
   "cell_type": "markdown",
   "id": "54a8afa6-1189-4886-a0e6-5f931e4bf24c",
   "metadata": {},
   "source": [
    "## Strip function"
   ]
  },
  {
   "cell_type": "code",
   "execution_count": 90,
   "id": "170fc8a4-16ca-4364-9fe7-76b81d9fbab9",
   "metadata": {},
   "outputs": [
    {
     "data": {
      "text/plain": [
       "'Ghulam Muhammad'"
      ]
     },
     "execution_count": 90,
     "metadata": {},
     "output_type": "execute_result"
    }
   ],
   "source": [
    "# strip function used to remove unnecessary space\n",
    "\n",
    "\"Ghulam Muhammad                       \".strip()"
   ]
  }
 ],
 "metadata": {
  "kernelspec": {
   "display_name": "Python 3",
   "language": "python",
   "name": "python3"
  },
  "language_info": {
   "codemirror_mode": {
    "name": "ipython",
    "version": 3
   },
   "file_extension": ".py",
   "mimetype": "text/x-python",
   "name": "python",
   "nbconvert_exporter": "python",
   "pygments_lexer": "ipython3",
   "version": "3.11.11"
  }
 },
 "nbformat": 4,
 "nbformat_minor": 5
}
